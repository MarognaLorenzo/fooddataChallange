{
 "cells": [
  {
   "cell_type": "code",
   "id": "initial_id",
   "metadata": {
    "collapsed": true,
    "ExecuteTime": {
     "end_time": "2024-11-20T15:26:55.454103Z",
     "start_time": "2024-11-20T15:26:55.449690Z"
    }
   },
   "source": [
    "from nltk.corpus import twitter_samples # importing samples\n",
    "import numpy as np\n",
    "\n",
    "import sentiment_analysis as sentiment_analysis\n",
    "import pandas as pd\n",
    "import os\n",
    "\n",
    "# BUCKET_URL=\"https://d4gc2024.s3.eu-central-1.amazonaws.com/data\"\n",
    "BASE_URL = \"../data\"\n",
    "filenames=[\n",
    "    \"foodsavingleuven/places.csv\",\n",
    "    \"foodsavingleuven/members.csv\"\t,\n",
    "    \"foodsavingleuven/activities.csv\",\n",
    "    \"foodsavingleuven/activities_participants.csv\",\n",
    "    \"foodsavingleuven/feedback.csv\"\n",
    "]"
   ],
   "outputs": [],
   "execution_count": 108
  },
  {
   "metadata": {
    "ExecuteTime": {
     "end_time": "2024-11-20T15:27:09.401871Z",
     "start_time": "2024-11-20T15:26:55.473111Z"
    }
   },
   "cell_type": "code",
   "source": [
    "positive_sample = twitter_samples.strings('positive_tweets.json')\n",
    "negative_sample = twitter_samples.strings('negative_tweets.json')\n",
    "\n",
    "# How many samples do we have ?\n",
    "# print(len(positive_sample)) # 5000\n",
    "# print(len(negative_sample)) # 5000\n",
    "\n",
    "\n",
    "# 1) Training and Testing Arrays setup\n",
    "train_x = positive_sample[:4000] + negative_sample[:4000]\n",
    "test_x = positive_sample[4000:] + negative_sample[4000:]\n",
    "\n",
    "# Combine positive and negative labels\n",
    "train_y = np.append(np.ones((len(positive_sample[:4000]), 1)), np.zeros((len(negative_sample[:4000]), 1)), axis=0)\n",
    "test_y = np.append(np.ones((len(positive_sample[4000:]), 1)), np.zeros((len(negative_sample[4000:]), 1)), axis=0)\n",
    "\n",
    "\n",
    "# 2) Train model using the training dataset and test it on the test dataset\n",
    "freqs = sentiment_analysis.build_freqs(positive_sample, negative_sample)\n",
    "X = np.zeros((len(train_x), 3))\n",
    "for i in range(len(train_x)):\n",
    "    X[i, :] = sentiment_analysis.features_extraction(train_x[i], freqs)\n",
    "# print(X)\n",
    "\"\"\"\n",
    "[[1.000e+00 3.764e+03 7.200e+01]\n",
    " [1.000e+00 4.464e+03 5.170e+02]\n",
    " [1.000e+00 3.759e+03 1.600e+02]\n",
    " ...\n",
    " [1.000e+00 1.840e+02 9.890e+02]\n",
    " [1.000e+00 2.560e+02 4.855e+03]\n",
    " [1.000e+00 2.400e+02 4.967e+03]]\n",
    "\"\"\"\n",
    "\n",
    "theta = sentiment_analysis.learn(X, train_y, 1e-9, 1000)\n",
    "# print(theta)\n",
    "\"\"\"\n",
    "[[ 4.80560248e-08]\n",
    " [ 4.29616097e-04]\n",
    " [-4.54043371e-04]]\n",
    "\"\"\"\n",
    "\n",
    "\n",
    "# 3) Compute accuracy\n",
    "# - y_hat    : y predicted\n",
    "# - accuracy : accuracy value [0,1]\n",
    "y_hat, accuracy = sentiment_analysis.compute_accuracy(test_x, test_y, freqs, theta)\n",
    "# print(f\"Accuracy : {accuracy}\") # Accuracy : 0.997\n",
    "\n",
    "\n",
    "# 4) Other custom tests\n",
    "for str in [\"Today is beautiful day!! :)\",          # prediction = 1 (positive)\n",
    "            \"I am hopeless for the next week :(\",   # prediction = 0 (negative)\n",
    "            \"That decision was a shame!\"]:          # prediction = 0 (negative)\n",
    "    print(f\"{str} - {sentiment_analysis.predict(str, freqs, theta)}\")\n",
    "\n",
    "\n",
    "# 5) Confusion matrix plot\n",
    "data = {\n",
    "    'y_actual'    : test_y.reshape(len(y_hat)),\n",
    "    'y_predicted' : y_hat\n",
    "}\n",
    "df = pd.DataFrame(data, columns=['y_actual', 'y_predicted'])\n",
    "# confusion_matrix = pd.crosstab(df['y_actual'], df['y_predicted'], rownames=['Actual'], colnames=['Predicted'])\n",
    "# sns.heatmap(confusion_matrix, annot=True)\n",
    "# plt.show()"
   ],
   "id": "1c0ff2b4b3fcbcda",
   "outputs": [
    {
     "name": "stdout",
     "output_type": "stream",
     "text": [
      "Today is beautiful day!! :) - 1\n",
      "I am hopeless for the next week :( - 0\n",
      "That decision was a shame! - 0\n"
     ]
    }
   ],
   "execution_count": 109
  },
  {
   "metadata": {
    "ExecuteTime": {
     "end_time": "2024-11-20T15:27:09.502381Z",
     "start_time": "2024-11-20T15:27:09.473567Z"
    }
   },
   "cell_type": "code",
   "source": [
    "places_df=pd.read_csv(os.path.join(BASE_URL, filenames[0]),index_col=0)\n",
    "places_df=places_df[[\"name\",\"placeid\"]]\n",
    "\n",
    "activities_df=pd.read_csv(os.path.join(BASE_URL,filenames[2]),index_col=0)\n",
    "activities_df=activities_df[[\"activity_id\",\"placeid\"]]"
   ],
   "id": "a93a8846c2e7b3d7",
   "outputs": [],
   "execution_count": 110
  },
  {
   "metadata": {
    "ExecuteTime": {
     "end_time": "2024-11-20T15:27:10.689755Z",
     "start_time": "2024-11-20T15:27:09.563652Z"
    }
   },
   "cell_type": "code",
   "source": [
    "feedback_df=pd.read_csv(os.path.join(BASE_URL,filenames[4]),index_col=0)\n",
    "feedback_df=feedback_df[[\"activity_id\",\"feedback\"]]\n",
    "\n",
    "LOWER_BOUND = \"0\"\n",
    "UPPER_BOUND = \"1\"\n",
    "NEUTRAL_VAL = (int(UPPER_BOUND) + int(LOWER_BOUND)) / 2\n",
    "feedback_df[\"feedback\"] = feedback_df[\"feedback\"].fillna(\"\")\n",
    "feedback_df[\"feedback\"] = feedback_df[\"feedback\"].apply(lambda x: \"\" if x == \"\" else UPPER_BOUND if sentiment_analysis.predict(x, freqs, theta) == 1 else LOWER_BOUND)\n",
    "feedback_df[\"feedback\"] = feedback_df[\"feedback\"].replace(\"\",NEUTRAL_VAL)\n",
    "print(feedback_df.info())\n",
    "print(feedback_df['feedback'].value_counts())"
   ],
   "id": "805b55611a054ad6",
   "outputs": [
    {
     "name": "stdout",
     "output_type": "stream",
     "text": [
      "<class 'pandas.core.frame.DataFrame'>\n",
      "Index: 1595 entries, 0 to 1594\n",
      "Data columns (total 2 columns):\n",
      " #   Column       Non-Null Count  Dtype \n",
      "---  ------       --------------  ----- \n",
      " 0   activity_id  1595 non-null   int64 \n",
      " 1   feedback     1595 non-null   object\n",
      "dtypes: int64(1), object(1)\n",
      "memory usage: 37.4+ KB\n",
      "None\n",
      "feedback\n",
      "1      697\n",
      "0.5    488\n",
      "0      410\n",
      "Name: count, dtype: int64\n"
     ]
    }
   ],
   "execution_count": 111
  },
  {
   "metadata": {
    "ExecuteTime": {
     "end_time": "2024-11-20T15:27:10.777456Z",
     "start_time": "2024-11-20T15:27:10.755846Z"
    }
   },
   "cell_type": "code",
   "source": [
    "activities_places = (activities_df.merge(places_df, on=\"placeid\", how=\"left\"))\n",
    "activities_feedback = (activities_places.merge(feedback_df, on=\"activity_id\", how=\"left\"))\n",
    "\n",
    "# group by placeid and sum the feedback\n",
    "activities_feedback[\"feedback\"] = activities_feedback[\"feedback\"].astype(int)\n",
    "activities_feedback = activities_feedback.drop(columns=[\"activity_id\"])\n",
    "\n",
    "# Group by placeid and calculate the average feedback\n",
    "activities_feedback_avg = activities_feedback.groupby(\"placeid\")[\"feedback\"].mean()\n",
    "print(activities_feedback_avg.sort_values(ascending=False).head(20))\n",
    "print(activities_feedback_avg.info())"
   ],
   "id": "54e10e110dba825a",
   "outputs": [
    {
     "name": "stdout",
     "output_type": "stream",
     "text": [
      "placeid\n",
      "2188    1.000000\n",
      "2759    0.600000\n",
      "2642    0.600000\n",
      "854     0.550877\n",
      "2766    0.533333\n",
      "2593    0.500000\n",
      "858     0.493333\n",
      "2210    0.465909\n",
      "1480    0.407407\n",
      "2091    0.400000\n",
      "885     0.400000\n",
      "1178    0.384615\n",
      "760     0.379121\n",
      "761     0.361111\n",
      "1417    0.350000\n",
      "871     0.321429\n",
      "876     0.306122\n",
      "843     0.183673\n",
      "1947    0.142857\n",
      "950     0.125000\n",
      "Name: feedback, dtype: float64\n",
      "<class 'pandas.core.series.Series'>\n",
      "Index: 20 entries, 760 to 2766\n",
      "Series name: feedback\n",
      "Non-Null Count  Dtype  \n",
      "--------------  -----  \n",
      "20 non-null     float64\n",
      "dtypes: float64(1)\n",
      "memory usage: 320.0 bytes\n",
      "None\n"
     ]
    }
   ],
   "execution_count": 112
  }
 ],
 "metadata": {
  "kernelspec": {
   "display_name": "Python 3",
   "language": "python",
   "name": "python3"
  },
  "language_info": {
   "codemirror_mode": {
    "name": "ipython",
    "version": 2
   },
   "file_extension": ".py",
   "mimetype": "text/x-python",
   "name": "python",
   "nbconvert_exporter": "python",
   "pygments_lexer": "ipython2",
   "version": "2.7.6"
  }
 },
 "nbformat": 4,
 "nbformat_minor": 5
}
