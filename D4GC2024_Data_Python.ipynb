{
 "cells": [
  {
   "cell_type": "code",
   "execution_count": 165,
   "metadata": {
    "id": "KYO3pm3mHOOG"
   },
   "outputs": [],
   "source": [
    "import pandas as pd\n",
    "import os"
   ]
  },
  {
   "cell_type": "code",
   "execution_count": 166,
   "metadata": {
    "id": "DTj5xERvyoU5"
   },
   "outputs": [],
   "source": [
    "BUCKET_URL=\"https://d4gc2024.s3.eu-central-1.amazonaws.com/data\""
   ]
  },
  {
   "cell_type": "markdown",
   "metadata": {
    "id": "YAK2GhCjGn0p"
   },
   "source": [
    "## Openstreetmap"
   ]
  },
  {
   "cell_type": "markdown",
   "metadata": {
    "id": "vzFwoIArFVKr"
   },
   "source": [
    "Let's unpack the openstreetmap dataset:"
   ]
  },
  {
   "cell_type": "code",
   "execution_count": 167,
   "metadata": {
    "colab": {
     "base_uri": "https://localhost:8080/",
     "height": 591
    },
    "id": "Z2edUh9aGbDm",
    "outputId": "efbe7973-34bf-4448-cfba-01612e08f397"
   },
   "outputs": [
    {
     "data": {
      "text/html": [
       "<div>\n",
       "<style scoped>\n",
       "    .dataframe tbody tr th:only-of-type {\n",
       "        vertical-align: middle;\n",
       "    }\n",
       "\n",
       "    .dataframe tbody tr th {\n",
       "        vertical-align: top;\n",
       "    }\n",
       "\n",
       "    .dataframe thead th {\n",
       "        text-align: right;\n",
       "    }\n",
       "</style>\n",
       "<table border=\"1\" class=\"dataframe\">\n",
       "  <thead>\n",
       "    <tr style=\"text-align: right;\">\n",
       "      <th></th>\n",
       "      <th>lat</th>\n",
       "      <th>lon</th>\n",
       "      <th>city</th>\n",
       "      <th>housenumber</th>\n",
       "      <th>postcode</th>\n",
       "      <th>street</th>\n",
       "      <th>name</th>\n",
       "      <th>opening_hours</th>\n",
       "      <th>amenity_type</th>\n",
       "      <th>amenity_extra</th>\n",
       "      <th>website</th>\n",
       "      <th>x</th>\n",
       "      <th>y</th>\n",
       "      <th>statistical_sector</th>\n",
       "    </tr>\n",
       "  </thead>\n",
       "  <tbody>\n",
       "    <tr>\n",
       "      <th>0</th>\n",
       "      <td>50.938502</td>\n",
       "      <td>4.735261</td>\n",
       "      <td>Rotselaar</td>\n",
       "      <td>12</td>\n",
       "      <td>3110</td>\n",
       "      <td>Aarschotsesteenweg</td>\n",
       "      <td>Laermans</td>\n",
       "      <td>Tu-Sa 07:00-18:00; Su 07:00-13:00</td>\n",
       "      <td>bakery</td>\n",
       "      <td>NaN</td>\n",
       "      <td>NaN</td>\n",
       "      <td>175761.078934</td>\n",
       "      <td>180975.547225</td>\n",
       "      <td>Vrouwenpark</td>\n",
       "    </tr>\n",
       "    <tr>\n",
       "      <th>1</th>\n",
       "      <td>50.929462</td>\n",
       "      <td>4.723867</td>\n",
       "      <td>Wilsele</td>\n",
       "      <td>551</td>\n",
       "      <td>3012</td>\n",
       "      <td>Aarschotsesteenweg</td>\n",
       "      <td>Salt &amp; Sweet Bakery</td>\n",
       "      <td>Tu-We 08:30-17:30; Fr-Sa 07:00-16:00</td>\n",
       "      <td>bakery</td>\n",
       "      <td>NaN</td>\n",
       "      <td>NaN</td>\n",
       "      <td>174965.091164</td>\n",
       "      <td>179966.096448</td>\n",
       "      <td>Putkapel-centrum</td>\n",
       "    </tr>\n",
       "    <tr>\n",
       "      <th>2</th>\n",
       "      <td>50.924574</td>\n",
       "      <td>4.721162</td>\n",
       "      <td>Wilsele</td>\n",
       "      <td>433</td>\n",
       "      <td>3012</td>\n",
       "      <td>Aarschotsesteenweg</td>\n",
       "      <td>Au Flan Breton</td>\n",
       "      <td>NaN</td>\n",
       "      <td>bakery</td>\n",
       "      <td>NaN</td>\n",
       "      <td>https://www.auflanbreton.be/</td>\n",
       "      <td>174777.456178</td>\n",
       "      <td>179421.459572</td>\n",
       "      <td>Putkapel-centrum</td>\n",
       "    </tr>\n",
       "    <tr>\n",
       "      <th>3</th>\n",
       "      <td>50.910589</td>\n",
       "      <td>4.713789</td>\n",
       "      <td>Wilsele</td>\n",
       "      <td>334</td>\n",
       "      <td>3012</td>\n",
       "      <td>Aarschotsesteenweg</td>\n",
       "      <td>AFRIT 20</td>\n",
       "      <td>NaN</td>\n",
       "      <td>bar</td>\n",
       "      <td>cafe</td>\n",
       "      <td>NaN</td>\n",
       "      <td>174266.351311</td>\n",
       "      <td>177863.226255</td>\n",
       "      <td>Wilsele-centrum</td>\n",
       "    </tr>\n",
       "    <tr>\n",
       "      <th>4</th>\n",
       "      <td>50.916940</td>\n",
       "      <td>4.716932</td>\n",
       "      <td>Leuven</td>\n",
       "      <td>283</td>\n",
       "      <td>3012</td>\n",
       "      <td>Aarschotsesteenweg</td>\n",
       "      <td>Jodi - Kaas- en Vleeshandel</td>\n",
       "      <td>NaN</td>\n",
       "      <td>butcher_shop</td>\n",
       "      <td>NaN</td>\n",
       "      <td>NaN</td>\n",
       "      <td>174484.091307</td>\n",
       "      <td>178570.733533</td>\n",
       "      <td>Putkapel-centrum</td>\n",
       "    </tr>\n",
       "    <tr>\n",
       "      <th>5</th>\n",
       "      <td>50.914754</td>\n",
       "      <td>4.715682</td>\n",
       "      <td>Wilsele</td>\n",
       "      <td>237</td>\n",
       "      <td>3012</td>\n",
       "      <td>Aarschotsesteenweg</td>\n",
       "      <td>Bij Sophie</td>\n",
       "      <td>Mo-Fr 10:00-15:00</td>\n",
       "      <td>fast_food</td>\n",
       "      <td>sandwich_shop</td>\n",
       "      <td>NaN</td>\n",
       "      <td>174397.315607</td>\n",
       "      <td>178327.202473</td>\n",
       "      <td>Putkapel-centrum</td>\n",
       "    </tr>\n",
       "    <tr>\n",
       "      <th>6</th>\n",
       "      <td>50.921672</td>\n",
       "      <td>4.719519</td>\n",
       "      <td>Wilsele</td>\n",
       "      <td>381</td>\n",
       "      <td>3012</td>\n",
       "      <td>Aarschotsesteenweg</td>\n",
       "      <td>Döner Kebap Euro</td>\n",
       "      <td>Th-Tu 16:00-23:00</td>\n",
       "      <td>fast_food</td>\n",
       "      <td>kebab</td>\n",
       "      <td>NaN</td>\n",
       "      <td>174663.460826</td>\n",
       "      <td>179098.009571</td>\n",
       "      <td>Putkapel-centrum</td>\n",
       "    </tr>\n",
       "    <tr>\n",
       "      <th>7</th>\n",
       "      <td>50.914824</td>\n",
       "      <td>4.715723</td>\n",
       "      <td>Wilsele</td>\n",
       "      <td>239</td>\n",
       "      <td>3012</td>\n",
       "      <td>Aarschotsesteenweg</td>\n",
       "      <td>De Vuntzak</td>\n",
       "      <td>Mo,Tu,We,Fr,Sa 17:00-21:00</td>\n",
       "      <td>fast_food</td>\n",
       "      <td>friture</td>\n",
       "      <td>https://devuntzak.klikeneet.be/</td>\n",
       "      <td>174400.169428</td>\n",
       "      <td>178335.002921</td>\n",
       "      <td>Putkapel-centrum</td>\n",
       "    </tr>\n",
       "    <tr>\n",
       "      <th>8</th>\n",
       "      <td>50.912053</td>\n",
       "      <td>4.714179</td>\n",
       "      <td>Wilsele</td>\n",
       "      <td>195</td>\n",
       "      <td>3012</td>\n",
       "      <td>Aarschotsesteenweg</td>\n",
       "      <td>Luc's Friet</td>\n",
       "      <td>NaN</td>\n",
       "      <td>fast_food</td>\n",
       "      <td>friture</td>\n",
       "      <td>https://lucsfriet.be/</td>\n",
       "      <td>174293.034459</td>\n",
       "      <td>178026.267381</td>\n",
       "      <td>Wilsele-centrum</td>\n",
       "    </tr>\n",
       "    <tr>\n",
       "      <th>9</th>\n",
       "      <td>50.926299</td>\n",
       "      <td>4.722539</td>\n",
       "      <td>Wilsele</td>\n",
       "      <td>696</td>\n",
       "      <td>3012</td>\n",
       "      <td>Aarschotsesteenweg</td>\n",
       "      <td>Smekke</td>\n",
       "      <td>Mo-Fr 11:30-14:00,16:45-21:00</td>\n",
       "      <td>fast_food</td>\n",
       "      <td>friture</td>\n",
       "      <td>https://frituursmekke.klikeneet.be/</td>\n",
       "      <td>174873.348182</td>\n",
       "      <td>179613.713111</td>\n",
       "      <td>Putkapel-centrum</td>\n",
       "    </tr>\n",
       "  </tbody>\n",
       "</table>\n",
       "</div>"
      ],
      "text/plain": [
       "         lat       lon       city housenumber  postcode              street  \\\n",
       "0  50.938502  4.735261  Rotselaar          12      3110  Aarschotsesteenweg   \n",
       "1  50.929462  4.723867    Wilsele         551      3012  Aarschotsesteenweg   \n",
       "2  50.924574  4.721162    Wilsele         433      3012  Aarschotsesteenweg   \n",
       "3  50.910589  4.713789    Wilsele         334      3012  Aarschotsesteenweg   \n",
       "4  50.916940  4.716932     Leuven         283      3012  Aarschotsesteenweg   \n",
       "5  50.914754  4.715682    Wilsele         237      3012  Aarschotsesteenweg   \n",
       "6  50.921672  4.719519    Wilsele         381      3012  Aarschotsesteenweg   \n",
       "7  50.914824  4.715723    Wilsele         239      3012  Aarschotsesteenweg   \n",
       "8  50.912053  4.714179    Wilsele         195      3012  Aarschotsesteenweg   \n",
       "9  50.926299  4.722539    Wilsele         696      3012  Aarschotsesteenweg   \n",
       "\n",
       "                          name                         opening_hours  \\\n",
       "0                     Laermans     Tu-Sa 07:00-18:00; Su 07:00-13:00   \n",
       "1          Salt & Sweet Bakery  Tu-We 08:30-17:30; Fr-Sa 07:00-16:00   \n",
       "2               Au Flan Breton                                   NaN   \n",
       "3                     AFRIT 20                                   NaN   \n",
       "4  Jodi - Kaas- en Vleeshandel                                   NaN   \n",
       "5                   Bij Sophie                     Mo-Fr 10:00-15:00   \n",
       "6             Döner Kebap Euro                     Th-Tu 16:00-23:00   \n",
       "7                   De Vuntzak            Mo,Tu,We,Fr,Sa 17:00-21:00   \n",
       "8                  Luc's Friet                                   NaN   \n",
       "9                       Smekke         Mo-Fr 11:30-14:00,16:45-21:00   \n",
       "\n",
       "   amenity_type  amenity_extra                              website  \\\n",
       "0        bakery            NaN                                  NaN   \n",
       "1        bakery            NaN                                  NaN   \n",
       "2        bakery            NaN         https://www.auflanbreton.be/   \n",
       "3           bar           cafe                                  NaN   \n",
       "4  butcher_shop            NaN                                  NaN   \n",
       "5     fast_food  sandwich_shop                                  NaN   \n",
       "6     fast_food          kebab                                  NaN   \n",
       "7     fast_food        friture      https://devuntzak.klikeneet.be/   \n",
       "8     fast_food        friture                https://lucsfriet.be/   \n",
       "9     fast_food        friture  https://frituursmekke.klikeneet.be/   \n",
       "\n",
       "               x              y statistical_sector  \n",
       "0  175761.078934  180975.547225        Vrouwenpark  \n",
       "1  174965.091164  179966.096448   Putkapel-centrum  \n",
       "2  174777.456178  179421.459572   Putkapel-centrum  \n",
       "3  174266.351311  177863.226255    Wilsele-centrum  \n",
       "4  174484.091307  178570.733533   Putkapel-centrum  \n",
       "5  174397.315607  178327.202473   Putkapel-centrum  \n",
       "6  174663.460826  179098.009571   Putkapel-centrum  \n",
       "7  174400.169428  178335.002921   Putkapel-centrum  \n",
       "8  174293.034459  178026.267381    Wilsele-centrum  \n",
       "9  174873.348182  179613.713111   Putkapel-centrum  "
      ]
     },
     "execution_count": 167,
     "metadata": {},
     "output_type": "execute_result"
    }
   ],
   "source": [
    "openstreetmap_df=pd.read_csv(\"openstreetmap/stores.csv\",index_col=0)\n",
    "openstreetmap_df.head(10)"
   ]
  },
  {
   "cell_type": "markdown",
   "metadata": {
    "id": "L6JjibtQHNKi"
   },
   "source": [
    "Let's use the coordinates provided for each place to plot them based on amenity type:"
   ]
  },
  {
   "cell_type": "code",
   "execution_count": 168,
   "metadata": {
    "colab": {
     "base_uri": "https://localhost:8080/",
     "height": 718
    },
    "id": "6CmhHQ0p18T6",
    "outputId": "c58d8049-c522-4461-c3af-c7dc75a35a7e"
   },
   "outputs": [
    {
     "data": {
      "image/png": "[encoded data removed]",
      "text/plain": [
       "<Figure size 1000x800 with 1 Axes>"
      ]
     },
     "metadata": {},
     "output_type": "display_data"
    }
   ],
   "source": [
    "import matplotlib.colors as mcolors\n",
    "import geopandas as gpd\n",
    "import matplotlib.pyplot as plt\n",
    "\n",
    "# Assign a unique color to each amenity type\n",
    "openstreetmap_df['geometry'] = gpd.points_from_xy(openstreetmap_df['lon'], openstreetmap_df['lat'])\n",
    "geo_df = gpd.GeoDataFrame(openstreetmap_df, geometry='geometry', crs=\"WGS84\")\n",
    "amenity_types = openstreetmap_df['amenity_type'].unique()\n",
    "colors = {amenity: color for amenity, color in zip(amenity_types, mcolors.TABLEAU_COLORS)}\n",
    "\n",
    "# Plot\n",
    "fig, ax = plt.subplots(figsize=(10, 8))\n",
    "for amenity_type, color in colors.items():\n",
    "    subset = geo_df[geo_df['amenity_type'] == amenity_type]\n",
    "    subset.plot(ax=ax, marker='o', color=color, label=amenity_type, markersize=5)\n",
    "\n",
    "plt.legend()\n",
    "plt.title(\"Amenities by Type\")\n",
    "plt.xlabel(\"Longitude\")\n",
    "plt.ylabel(\"Latitude\")\n",
    "plt.show()\n"
   ]
  },
  {
   "cell_type": "markdown",
   "metadata": {
    "id": "8NeVu5fVH0rF"
   },
   "source": [
    "Let's use the coordinates provided for each place to plot their density across Leuven:"
   ]
  },
  {
   "cell_type": "code",
   "execution_count": 169,
   "metadata": {
    "colab": {
     "base_uri": "https://localhost:8080/",
     "height": 703
    },
    "id": "JP2x2EVP1Wwf",
    "outputId": "0c2324f4-ff79-41a0-d6b0-e543cdcb9662"
   },
   "outputs": [
    {
     "data": {
      "text/html": [
       "<div style=\"width:100%;\"><div style=\"position:relative;width:100%;height:0;padding-bottom:60%;\"><span style=\"color:#565656\">Make this Notebook Trusted to load map: File -> Trust Notebook</span><iframe srcdoc=\"&lt;!DOCTYPE html&gt;\n",
       "&lt;html&gt;\n",
       "&lt;head&gt;\n",
       "    \n",
       "    &lt;meta http-equiv=&quot;content-type&quot; content=&quot;text/html; charset=UTF-8&quot; /&gt;\n",
       "    \n",
       "        &lt;script&gt;\n",
       "            L_NO_TOUCH = false;\n",
       "            L_DISABLE_3D = false;\n",
       "        &lt;/script&gt;\n",
       "    \n",
       "    &lt;style&gt;html, body {width: 100%;height: 100%;margin: 0;padding: 0;}&lt;/style&gt;\n",
       "    &lt;style&gt;#map {position:absolute;top:0;bottom:0;right:0;left:0;}&lt;/style&gt;\n",
       "    &lt;script src=&quot;https://cdn.jsdelivr.net/npm/leaflet@1.9.3/dist/leaflet.js&quot;&gt;&lt;/script&gt;\n",
       "    &lt;script src=&quot;https://code.jquery.com/jquery-3.7.1.min.js&quot;&gt;&lt;/script&gt;\n",
       "    &lt;script src=&quot;https://cdn.jsdelivr.net/npm/bootstrap@5.2.2/dist/js/bootstrap.bundle.min.js&quot;&gt;&lt;/script&gt;\n",
       "    &lt;script src=&quot;https://cdnjs.cloudflare.com/ajax/libs/Leaflet.awesome-markers/2.0.2/leaflet.awesome-markers.js&quot;&gt;&lt;/script&gt;\n",
       "    &lt;link rel=&quot;stylesheet&quot; href=&quot;https://cdn.jsdelivr.net/npm/leaflet@1.9.3/dist/leaflet.css&quot;/&gt;\n",
       "    &lt;link rel=&quot;stylesheet&quot; href=&quot;https://cdn.jsdelivr.net/npm/bootstrap@5.2.2/dist/css/bootstrap.min.css&quot;/&gt;\n",
       "    &lt;link rel=&quot;stylesheet&quot; href=&quot;https://netdna.bootstrapcdn.com/bootstrap/3.0.0/css/bootstrap-glyphicons.css&quot;/&gt;\n",
       "    &lt;link rel=&quot;stylesheet&quot; href=&quot;https://cdn.jsdelivr.net/npm/@fortawesome/fontawesome-free@6.2.0/css/all.min.css&quot;/&gt;\n",
       "    &lt;link rel=&quot;stylesheet&quot; href=&quot;https://cdnjs.cloudflare.com/ajax/libs/Leaflet.awesome-markers/2.0.2/leaflet.awesome-markers.css&quot;/&gt;\n",
       "    &lt;link rel=&quot;stylesheet&quot; href=&quot;https://cdn.jsdelivr.net/gh/python-visualization/folium/folium/templates/leaflet.awesome.rotate.min.css&quot;/&gt;\n",
       "    \n",
       "            &lt;meta name=&quot;viewport&quot; content=&quot;width=device-width,\n",
       "                initial-scale=1.0, maximum-scale=1.0, user-scalable=no&quot; /&gt;\n",
       "            &lt;style&gt;\n",
       "                #map_73a0bdc30c9720d26948e3e95a1eee95 {\n",
       "                    position: relative;\n",
       "                    width: 100.0%;\n",
       "                    height: 100.0%;\n",
       "                    left: 0.0%;\n",
       "                    top: 0.0%;\n",
       "                }\n",
       "                .leaflet-container { font-size: 1rem; }\n",
       "            &lt;/style&gt;\n",
       "        \n",
       "    &lt;script src=&quot;https://cdn.jsdelivr.net/gh/python-visualization/folium@main/folium/templates/leaflet_heat.min.js&quot;&gt;&lt;/script&gt;\n",
       "&lt;/head&gt;\n",
       "&lt;body&gt;\n",
       "    \n",
       "    \n",
       "            &lt;div class=&quot;folium-map&quot; id=&quot;map_73a0bdc30c9720d26948e3e95a1eee95&quot; &gt;&lt;/div&gt;\n",
       "        \n",
       "&lt;/body&gt;\n",
       "&lt;script&gt;\n",
       "    \n",
       "    \n",
       "            var map_73a0bdc30c9720d26948e3e95a1eee95 = L.map(\n",
       "                &quot;map_73a0bdc30c9720d26948e3e95a1eee95&quot;,\n",
       "                {\n",
       "                    center: [50.88100990648734, 4.701758483702532],\n",
       "                    crs: L.CRS.EPSG3857,\n",
       "                    zoom: 14,\n",
       "                    zoomControl: true,\n",
       "                    preferCanvas: false,\n",
       "                }\n",
       "            );\n",
       "\n",
       "            \n",
       "\n",
       "        \n",
       "    \n",
       "            var tile_layer_15b16216d7e913cff48590af932a50b7 = L.tileLayer(\n",
       "                &quot;https://tile.openstreetmap.org/{z}/{x}/{y}.png&quot;,\n",
       "                {&quot;attribution&quot;: &quot;\\u0026copy; \\u003ca href=\\&quot;https://www.openstreetmap.org/copyright\\&quot;\\u003eOpenStreetMap\\u003c/a\\u003e contributors&quot;, &quot;detectRetina&quot;: false, &quot;maxNativeZoom&quot;: 19, &quot;maxZoom&quot;: 19, &quot;minZoom&quot;: 0, &quot;noWrap&quot;: false, &quot;opacity&quot;: 1, &quot;subdomains&quot;: &quot;abc&quot;, &quot;tms&quot;: false}\n",
       "            );\n",
       "        \n",
       "    \n",
       "            tile_layer_15b16216d7e913cff48590af932a50b7.addTo(map_73a0bdc30c9720d26948e3e95a1eee95);\n",
       "        \n",
       "    \n",
       "            var heat_map_199ab22ea95f03bebf0f54c750483079 = L.heatLayer(\n",
       "                [[50.9385016, 4.7352608], [50.9294623, 4.7238675], [50.9245745, 4.7211617], [50.9105888, 4.7137892], [50.9169396, 4.7169324], [50.9147541, 4.7156822], [50.9216718, 4.7195186], [50.9148241, 4.7157233], [50.9120533, 4.7141794], [50.9262986, 4.7225386], [50.9169484, 4.7169373], [50.8986721, 4.7075797], [50.9428133, 4.7423763], [50.9420832, 4.7421466], [50.9066471, 4.7117003], [50.8993223, 4.7075277], [50.9306171, 4.7245626], [50.9160289, 4.7163105], [50.8963183, 4.7080114], [50.8649891, 4.7154011], [50.8921213, 4.734141], [50.8774988, 4.7035163], [50.8774024, 4.703402], [50.8775191, 4.7039755], [50.8771439, 4.7039331], [50.8773287, 4.7037933], [50.8771844, 4.7035511], [50.8774001, 4.703748], [50.8771511, 4.7036068], [50.8754337, 4.7083075], [50.8784432, 4.7076631], [50.8308426, 4.7276595], [50.8775561, 4.7137574], [50.8813099, 4.7014989], [50.8852118, 4.7181777], [50.8853534, 4.7182768], [50.8848408, 4.7179376], [50.8858381, 4.7189491], [50.8847665, 4.7186934], [50.8858734, 4.7190122], [50.8856467, 4.7184358], [50.8853016, 4.7182484], [50.8850308, 4.7180462], [50.9243456, 4.6921945], [50.930837, 4.6973758], [50.8823937, 4.7169432], [50.8303759, 4.7593923], [50.8258108, 4.7043314], [50.8790744, 4.6916125], [50.8322263, 4.7213641], [50.8771901, 4.7095494], [50.8785983, 4.7083646], [50.8802636, 4.7086819], [50.8802181, 4.7083796], [50.8794058, 4.7047022], [50.8795467, 4.7041328], [50.8802517, 4.7085975], [50.8802265, 4.7095824], [50.8792407, 4.7037762], [50.8807189, 4.7112091], [50.8799443, 4.7079109], [50.8804549, 4.710928], [50.8810837, 4.713602], [50.879293, 4.7040416], [50.8805471, 4.7115075], [50.8795396, 4.7040706], [50.8797251, 4.7052787], [50.8805084, 4.7112426], [50.9106324, 4.6737272], [50.9105095, 4.6735102], [50.8966973, 4.6221934], [50.880539, 4.6955676], [50.8758132, 4.7258375], [50.8806657, 4.6926222], [50.8804745, 4.6958371], [50.8805696, 4.6939539], [50.880702, 4.6939497], [50.8799532, 4.6981918], [50.8793168, 4.6999072], [50.87958, 4.6987498], [50.8795837, 4.6998554], [50.8859891, 4.6699734], [50.8804259, 4.6960403], [50.8794931, 4.7001154], [50.8793357, 4.6998251], [50.8807257, 4.6936964], [50.8796615, 4.6993848], [50.8806445, 4.694574], [50.8820337, 4.6885058], [50.8798256, 4.6978836], [50.8812172, 4.6905479], [50.8807378, 4.6930994], [50.8798891, 4.6965399], [50.8806512, 4.694494], [50.8805926, 4.6951484], [50.8803439, 4.6966889], [50.8803236, 4.6968136], [50.8800053, 4.6980575], [50.8808257, 4.6925141], [50.8807843, 4.692774], [50.8797911, 4.6980264], [50.8797677, 4.6981089], [50.879993, 4.6974015], [50.8805816, 4.6937401], [50.8798017, 4.6980834], [50.8800402, 4.6979707], [50.8795488, 4.6988345], [50.8807422, 4.6947339], [50.8806624, 4.6943737], [50.8805892, 4.6952154], [50.8804991, 4.6957344], [50.8801027, 4.6977556], [50.8805209, 4.6956544], [50.8795288, 4.7000185], [50.880237, 4.6973208], [50.8810415, 4.7000895], [50.862882, 4.6754111], [50.8813248, 4.699119], [50.8812899, 4.6992181], [50.8838799, 4.719629], [50.8847075, 4.7317007], [50.8836482, 4.7310863], [50.8847257, 4.7318652], [50.8898717, 4.7753379], [50.8836532, 4.7197681], [50.8835284, 4.718384], [50.8881994, 4.7541618], [50.8842044, 4.7236451], [50.882998, 4.7223852], [50.8896643, 4.7686997], [50.8836709, 4.7199558], [50.8835757, 4.7188984], [50.8858345, 4.7403931], [50.8839175, 4.7202015], [50.887763, 4.7401201], [50.8839446, 4.7230375], [50.8856127, 4.7373904], [50.8914538, 4.7895116], [50.8795656, 4.7022166], [50.8802166, 4.7043653], [50.8810185, 4.7084459], [50.8814776, 4.7096187], [50.8815325, 4.7106054], [50.8819682, 4.712171], [50.8804635, 4.7066196], [50.8823104, 4.7136272], [50.8803154, 4.7055086], [50.8813735, 4.7097866], [50.8821444, 4.7136561], [50.8822675, 4.7134884], [50.881152, 4.7087341], [50.880196, 4.7042354], [50.8812523, 4.708581], [50.8803019, 4.7054343], [50.8821785, 4.7137453], [50.8822156, 4.7133599], [50.8811818, 4.7088708], [50.8815273, 4.7098793], [50.8815932, 4.7102501], [50.8799174, 4.7026493], [50.8802928, 4.6997128], [50.8807857, 4.6986138], [50.8800909, 4.6996574], [50.8801263, 4.6995681], [50.901254, 4.6236065], [50.9513025, 4.7098934], [50.9012645, 4.6236822], [50.8279486, 4.7570392], [50.8995129, 4.6451266], [50.8573562, 4.614089], [50.8439995, 4.7590353], [50.878521, 4.6992252], [50.878491, 4.699296], [50.854597, 4.6586112], [50.8542796, 4.658212], [50.851951, 4.6584236], [50.885812, 4.7178581], [50.8601284, 4.6305672], [50.8787531, 4.7019518], [50.8856263, 4.7256722], [50.8886599, 4.7018907], [50.8682557, 4.6986518], [50.8829479, 4.693821], [50.8634528, 4.6291461], [50.8664903, 4.7953522], [50.9066443, 4.6701845], [50.8962985, 4.8124596], [50.8490867, 4.7231213], [50.849239, 4.7230437], [50.8635351, 4.6296858], [50.8631073, 4.6295685], [50.8908612, 4.7296968], [50.8275498, 4.6909084], [50.8941671, 4.7709408], [50.9156332, 4.8073053], [50.8489323, 4.7212117], [50.8793108, 4.700732], [50.8792845, 4.7008443], [50.8790355, 4.7004106], [50.8793376, 4.7006449], [50.8791761, 4.7001779], [50.8792256, 4.7001925], [50.8790103, 4.7006493], [50.8790063, 4.7007318], [50.8790189, 4.7005636], [50.8789082, 4.701921], [50.9032832, 4.6216567], [50.9019598, 4.6223706], [50.8840673, 4.6986309], [50.8716077, 4.7008354], [50.877001, 4.6830329], [50.8768371, 4.7062485], [50.8779624, 4.7063922], [50.8608501, 4.6973741], [50.8771044, 4.7015119], [50.8778365, 4.7019186], [50.9001654, 4.7348659], [50.8979432, 4.732049], [50.8986151, 4.7330285], [50.8484386, 4.7332695], [50.8798063, 4.7073727], [50.8797745, 4.7073288], [50.8819787, 4.707424], [50.8813733, 4.7081614], [50.8831451, 4.7064564], [50.88191, 4.7078415], [50.8834181, 4.706269], [50.8816156, 4.7078764], [50.8824494, 4.7072376], [50.8835466, 4.7073119], [50.8630361, 4.6597774], [50.8846062, 4.711053], [50.8783881, 4.6978874], [50.8781292, 4.6976422], [50.8633893, 4.6912963], [50.8608446, 4.6855803], [50.8954176, 4.6986104], [50.8741781, 4.6916391], [50.8804637, 4.6937123], [50.8747016, 4.6913704], [50.8747801, 4.6913389], [50.8803363, 4.6937293], [50.8767275, 4.690563], [50.8745754, 4.6914304], [50.8756775, 4.6905746], [50.8746266, 4.6914039], [50.823428, 4.6526281], [50.8626754, 4.6864853], [50.861153, 4.6839371], [50.8625035, 4.6291756], [50.8626389, 4.6291219], [50.8385552, 4.6432229], [50.8913863, 4.7064132], [50.8905343, 4.7063917], [50.8921291, 4.7058932], [50.889709, 4.7063613], [50.8895023, 4.7057959], [50.8892161, 4.7058796], [50.9273035, 4.6370213], [50.878776, 4.700251], [50.8788442, 4.70027], [50.8789235, 4.700302], [50.879119, 4.7001591], [50.8789777, 4.7003237], [50.8788611, 4.7000712], [50.87896, 4.700107], [50.9206769, 4.7816927], [50.9024649, 4.6676345], [50.9012329, 4.6681462], [50.8777751, 4.6999015], [50.8779634, 4.7013482], [50.8610053, 4.6984621], [50.8816344, 4.6966542], [50.8805648, 4.6961251], [50.8790095, 4.7040581], [50.8792308, 4.7045176], [50.8791029, 4.7047627], [50.8787472, 4.7053151], [50.8787128, 4.7053793], [50.8796476, 4.7039075], [50.8798622, 4.7036439], [50.8790577, 4.7043966], [50.8790911, 4.7043537], [50.9085222, 4.6741556], [50.8844303, 4.717897], [50.8845369, 4.7181104], [50.882623, 4.7175111], [50.86298, 4.695012], [50.9010242, 4.621943], [50.8836052, 4.70248], [50.8739258, 4.7847477], [50.8809836, 4.708945], [50.8805744, 4.7094935], [50.8807533, 4.708923], [50.8796184, 4.7018652], [50.8796088, 4.7019086], [50.880121, 4.7007961], [50.8800298, 4.7006528], [50.8798485, 4.7015771], [50.880428, 4.7144727], [50.8781642, 4.7115092], [50.8821615, 4.7175168], [50.8761004, 4.7201096], [50.8813999, 4.7175901], [50.8954387, 4.768191], [50.8813292, 4.7138802], [50.8809464, 4.7140569], [50.8816917, 4.7148191], [50.8815547, 4.714113], [50.8815736, 4.7142741], [50.8806149, 4.7143818], [50.8816735, 4.7147016], [50.8814074, 4.7138537], [50.8812476, 4.7139147], [50.8811435, 4.7139582], [50.8815382, 4.7139719], [50.880734, 4.7141428], [50.880204, 4.7001633], [50.8797902, 4.699967], [50.8801756, 4.7004021], [50.879746, 4.7000808], [50.8797111, 4.7001653], [50.8221982, 4.6547475], [50.823439, 4.6577265], [50.9024009, 4.6758569], [50.8898846, 4.6948733], [50.9145636, 4.6576944], [50.8991298, 4.6808741], [50.8933781, 4.6905936], [50.91814, 4.6509709], [50.8896167, 4.6949847], [50.9032443, 4.6745351], [50.9032844, 4.6748978], [50.8919658, 4.6927598], [50.9120555, 4.6616252], [50.8819391, 4.6989501], [50.8806784, 4.6999241], [50.8809508, 4.6986251], [50.8818088, 4.6990593], [50.8819905, 4.699126], [50.8807864, 4.6997388], [50.8806004, 4.6997623], [50.8807518, 4.6997982], [50.8814663, 4.6992644], [50.8806309, 4.6997026], [50.8810888, 4.6993952], [50.88104, 4.699367], [50.8830579, 4.6982185], [50.8851664, 4.6975465], [50.884454, 4.6981572], [50.8809747, 4.6995078], [50.9198787, 4.758522], [50.831304, 4.7269669], [50.8773269, 4.6981656], [50.8586455, 4.6157263], [50.8790835, 4.7060553], [50.8786784, 4.7054887], [50.8788461, 4.705721], [50.8781456, 4.7021679], [50.8780654, 4.7025915], [50.8782002, 4.7024737], [50.878234, 4.7023328], [50.877903, 4.7032044], [50.878299, 4.7013325], [50.8781327, 4.7028593], [50.8781512, 4.7027467], [50.8781115, 4.7029597], [50.8782562, 4.7022316], [50.8779902, 4.7029174], [50.8780422, 4.7032037], [50.8783227, 4.7011031], [50.8782195, 4.7017904], [50.8782373, 4.7016999], [50.8782678, 4.7015134], [50.8779639, 4.7030166], [50.8782044, 4.7018648], [50.8608152, 4.6957085], [50.8585804, 4.6960089], [50.8585298, 4.696001], [50.8672091, 4.6975221], [50.8670726, 4.6974499], [50.8585309, 4.6956183], [50.8619217, 4.6956716], [50.8622326, 4.6960738], [50.8560177, 4.6949427], [50.878491, 4.7006786], [50.8766502, 4.7005988], [50.874242, 4.699811], [50.8771385, 4.7004298], [50.8773456, 4.7006508], [50.8718401, 4.6994508], [50.8738081, 4.6996379], [50.8773052, 4.7004313], [50.8758023, 4.7002173], [50.877379, 4.7004411], [50.8783472, 4.7009605], [50.8784217, 4.7006735], [50.8766128, 4.7006194], [50.8767841, 4.700642], [50.8774525, 4.7007189], [50.8691707, 4.6988047], [50.8719116, 4.6994635], [50.8767443, 4.7006423], [50.8766985, 4.7006345], [50.8760711, 4.700208], [50.9263018, 4.694394], [50.8424002, 4.6404228], [50.9203267, 4.7569174], [50.9201645, 4.7581261], [50.9070431, 4.6735504], [50.8794878, 4.6969535], [50.9040455, 4.6737546], [50.9064392, 4.6737481], [50.8782694, 4.69931], [50.8781961, 4.6992292], [50.878308, 4.6993449], [50.8782991, 4.699878], [50.8786627, 4.7001597], [50.8787846, 4.7000365], [50.8773452, 4.6992006], [50.878615, 4.700124], [50.8784349, 4.6999636], [50.8785445, 4.7000468], [50.8787181, 4.6996921], [50.8785581, 4.6995709], [50.8786076, 4.6996099], [50.8784319, 4.6994572], [50.8784849, 4.6995094], [50.8786627, 4.6996422], [50.8783535, 4.699386], [50.8779163, 4.6989758], [50.8779849, 4.6990116], [50.8780445, 4.6990754], [50.8780932, 4.6991232], [50.8777337, 4.6994942], [50.8776418, 4.6993994], [50.877598, 4.6993681], [50.8777606, 4.69889], [50.8777988, 4.6989129], [50.8781424, 4.6991864], [50.8780691, 4.6991208], [50.8785193, 4.6995438], [50.8775901, 4.698791], [50.8776741, 4.6988218], [50.8778667, 4.6989536], [50.8774301, 4.6992371], [50.9027388, 4.6179613], [50.86086, 4.7072118], [50.8785691, 4.6990495], [50.8785858, 4.6992551], [50.8786399, 4.6992979], [50.877609, 4.6983134], [50.8787752, 4.6994289], [50.8783634, 4.6989251], [50.8785258, 4.6990197], [50.878636, 4.6990956], [50.879185, 4.6998064], [50.8789368, 4.6996002], [50.8791128, 4.6994995], [50.8788586, 4.6995181], [50.8782108, 4.69896], [50.8783421, 4.6990751], [50.8784437, 4.6989632], [50.8779559, 4.6985976], [50.8782578, 4.6989981], [50.8784228, 4.6991529], [50.876305, 4.697615], [50.8739529, 4.7004874], [50.9290727, 4.7253408], [50.8759522, 4.6975748], [50.8841401, 4.6918546], [50.8798298, 4.6997935], [50.8798819, 4.699825], [50.8797377, 4.6999259], [50.9083627, 4.6755419], [50.9040227, 4.6693882], [50.8781882, 4.7083429], [50.878138, 4.7082382], [50.87946, 4.7024817], [50.8794115, 4.7022837], [50.8788879, 4.7024754], [50.8788738, 4.7025541], [50.8794548, 4.7031309], [50.8789942, 4.7031151], [50.8545014, 4.6584379], [50.8517487, 4.6582082], [50.8794695, 4.7030378], [50.8794428, 4.7032123], [50.8789115, 4.7029522], [50.8791148, 4.7033079], [50.8850392, 4.6925924], [50.8841875, 4.6924432], [50.882557, 4.6912937], [50.9229002, 4.7549918], [50.8779841, 4.7025507], [50.9394651, 4.6652923], [50.8944676, 4.7488402], [50.8809171, 4.7010671], [50.8516593, 4.658077], [50.8626893, 4.6593965], [50.8809999, 4.7061231], [50.921773, 4.7575284], [50.8741447, 4.6896747], [50.8871553, 4.6998204], [50.8952395, 4.8181106], [50.877402, 4.7010558], [50.8774212, 4.7009047], [50.8576806, 4.7810634], [50.8575995, 4.7810335], [50.9397177, 4.736245], [50.944341, 4.7282219], [50.9009163, 4.6343741], [50.8955756, 4.6419711], [50.8663333, 4.6335778], [50.8650149, 4.6276183], [50.8687879, 4.6466836], [50.8655495, 4.6286237], [50.9118302, 4.666765], [50.8794209, 4.6892567], [50.8776699, 4.6855927], [50.8792647, 4.6889862], [50.868764, 4.6969611], [50.8705249, 4.6920592], [50.8706452, 4.6919383], [50.8687732, 4.6965164], [50.8685584, 4.6975315], [50.8809314, 4.6932989], [50.8718713, 4.7217195], [50.8491632, 4.7230823], [50.8627886, 4.7601626], [50.872344, 4.7207151], [50.8722439, 4.7211375], [50.8688335, 4.7343317], [50.8616944, 4.7655226], [50.8735655, 4.7135714], [50.8754646, 4.7086877], [50.8785662, 4.70346], [50.8786424, 4.7033984], [50.8770804, 4.7051904], [50.8779495, 4.7035008], [50.8763146, 4.7065434], [50.8773765, 4.7044768], [50.8778464, 4.7038551], [50.877315, 4.7042888], [50.8771654, 4.704549], [50.8770483, 4.7052921], [50.8779248, 4.7038117], [50.877672, 4.7037524], [50.8751609, 4.7086532], [50.8760056, 4.7077398], [50.8777288, 4.7036364], [50.8788093, 4.7031177], [50.8770035, 4.7054295], [50.8771911, 4.7048394], [50.877233, 4.7047442], [50.8772753, 4.7046644], [50.8772321, 4.7044424], [50.8770459, 4.7047995], [50.8777206, 4.705553], [50.8785165, 4.7031783], [50.8785824, 4.7030878], [50.8787726, 4.7032175], [50.8777002, 4.7037009], [50.8780712, 4.7037352], [50.8782696, 4.7033479], [50.8784523, 4.7032381], [50.8786302, 4.7030223], [50.8784139, 4.7032662], [50.8780351, 4.7037566], [50.8779785, 4.7037818], [50.8782207, 4.7036552], [50.8780499, 4.7034514], [50.876594, 4.7060905], [50.8764386, 4.7063423], [50.8750795, 4.7083975], [50.8766942, 4.7063439], [50.8788115, 4.7031167], [50.8757917, 4.7083837], [50.8783966, 4.70357], [50.8788292, 4.7030677], [50.8820636, 4.7138661], [50.8819607, 4.7139744], [50.8817641, 4.7142028], [50.8816836, 4.7142371], [50.8821296, 4.7137967], [50.8820184, 4.7139137], [50.8723355, 4.7460925], [50.8319635, 4.7507526], [50.9215817, 4.6996375], [50.8877048, 4.7001786], [50.8878393, 4.7018895], [50.8879498, 4.7004665], [50.8808245, 4.7019765], [50.8825625, 4.7116236], [50.8811903, 4.699721], [50.8814198, 4.7001089], [50.8800065, 4.7056646], [50.9163156, 4.6787171], [50.8809064, 4.6990683], [50.8810268, 4.69912], [50.8811252, 4.6990497], [50.8809362, 4.6985733], [50.8809624, 4.6986692], [50.8809819, 4.6987289], [50.8980286, 4.6420933], [50.8979055, 4.6423943], [50.8318326, 4.7476253], [50.8270575, 4.6557696], [50.8658087, 4.6958813], [50.8438223, 4.6697144], [50.8232076, 4.6525933], [50.8435774, 4.6696743], [50.8327223, 4.6612292], [50.9256912, 4.7111838], [50.8707158, 4.634369], [50.8661662, 4.6317969], [50.8675504, 4.6332519], [50.8792721, 4.6981474], [50.9235418, 4.692376], [50.9235574, 4.6920463], [50.9236086, 4.6920519], [50.827448, 4.7530299], [50.9047861, 4.7215045], [50.905372, 4.6816643], [50.9070422, 4.7181666], [50.9401177, 4.7496053], [50.8921849, 4.7684744], [50.8782126, 4.7002216], [50.8783109, 4.7004245], [50.8729833, 4.6961038], [50.8729619, 4.6965866], [50.8730532, 4.6965601]],\n",
       "                {&quot;blur&quot;: 15, &quot;maxZoom&quot;: 18, &quot;minOpacity&quot;: 0.5, &quot;radius&quot;: 25}\n",
       "            );\n",
       "        \n",
       "    \n",
       "            heat_map_199ab22ea95f03bebf0f54c750483079.addTo(map_73a0bdc30c9720d26948e3e95a1eee95);\n",
       "        \n",
       "&lt;/script&gt;\n",
       "&lt;/html&gt;\" style=\"position:absolute;width:100%;height:100%;left:0;top:0;border:none !important;\" allowfullscreen webkitallowfullscreen mozallowfullscreen></iframe></div></div>"
      ],
      "text/plain": [
       "<folium.folium.Map at 0x28b85220a10>"
      ]
     },
     "execution_count": 169,
     "metadata": {},
     "output_type": "execute_result"
    }
   ],
   "source": [
    "from folium.plugins import HeatMap\n",
    "import folium\n",
    "\n",
    "# Create a base map\n",
    "m = folium.Map(location=[openstreetmap_df['lat'].mean(), openstreetmap_df['lon'].mean()], zoom_start=14)\n",
    "\n",
    "# Add heatmap\n",
    "heat_data = [[row['lat'], row['lon']] for index, row in openstreetmap_df.iterrows()]\n",
    "HeatMap(heat_data).add_to(m)\n",
    "m"
   ]
  },
  {
   "cell_type": "code",
   "execution_count": 170,
   "metadata": {},
   "outputs": [
    {
     "data": {
      "application/vnd.plotly.v1+json": {
       "config": {
        "plotlyServerURL": "https://plot.ly"
       },
       "data": [
        {
         "lat": [
          50.9385016,
          50.9294623,
          50.9245745,
          50.8852118,
          50.8785983,
          50.8802636,
          50.880539,
          50.8758132,
          50.8856127,
          50.8682557,
          50.9066443,
          50.8490867,
          50.9032832,
          50.9001654,
          50.8846062,
          50.9024009,
          50.8898846,
          50.8819391,
          50.8806784,
          50.9263018,
          50.9203267,
          50.9027388,
          50.8663333,
          50.8735655,
          50.8754646,
          50.8820636,
          50.8811903,
          50.8980286,
          50.8707158,
          50.9047861,
          50.8921849
         ],
         "lon": [
          4.7352608,
          4.7238675,
          4.7211617,
          4.7181777,
          4.7083646,
          4.7086819,
          4.6955676,
          4.7258375,
          4.7373904,
          4.6986518,
          4.6701845,
          4.7231213,
          4.6216567,
          4.7348659,
          4.711053,
          4.6758569,
          4.6948733,
          4.6989501,
          4.6999241,
          4.694394,
          4.7569174,
          4.6179613,
          4.6335778,
          4.7135714,
          4.7086877,
          4.7138661,
          4.699721,
          4.6420933,
          4.634369,
          4.7215045,
          4.7684744
         ],
         "marker": {
          "color": "#4C78A8",
          "size": 10
         },
         "mode": "markers",
         "name": "bakery",
         "type": "scattermapbox"
        },
        {
         "lat": [
          50.9105888,
          50.8774988,
          50.8806657,
          50.8838799,
          50.885812,
          50.8856263,
          50.8793108,
          50.877001,
          50.8913863,
          50.8809508,
          50.8818088,
          50.8781456,
          50.8794878,
          50.8782694,
          50.8781961,
          50.878308,
          50.8782991,
          50.8794209,
          50.8785662,
          50.8786424,
          50.8809064
         ],
         "lon": [
          4.7137892,
          4.7035163,
          4.6926222,
          4.719629,
          4.7178581,
          4.7256722,
          4.700732,
          4.6830329,
          4.7064132,
          4.6986251,
          4.6990593,
          4.7021679,
          4.6969535,
          4.69931,
          4.6992292,
          4.6993449,
          4.699878,
          4.6892567,
          4.70346,
          4.7033984,
          4.6990683
         ],
         "marker": {
          "color": "#F58518",
          "size": 10
         },
         "mode": "markers",
         "name": "bar",
         "type": "scattermapbox"
        },
        {
         "lat": [
          50.9169396,
          50.8804745,
          50.8805696,
          50.8739258,
          50.9145636,
          50.9198787,
          50.8608152,
          50.8798298,
          50.8798819,
          50.8850392,
          50.9118302,
          50.8809314,
          50.8718713,
          50.8491632
         ],
         "lon": [
          4.7169324,
          4.6958371,
          4.6939539,
          4.7847477,
          4.6576944,
          4.758522,
          4.6957085,
          4.6997935,
          4.699825,
          4.6925924,
          4.666765,
          4.6932989,
          4.7217195,
          4.7230823
         ],
         "marker": {
          "color": "#E45756",
          "size": 10
         },
         "mode": "markers",
         "name": "butcher_shop",
         "type": "scattermapbox"
        },
        {
         "lat": [
          50.9147541,
          50.9216718,
          50.9148241,
          50.9120533,
          50.9262986,
          50.8771439,
          50.8754337,
          50.8308426,
          50.8853534,
          50.8795467,
          50.8802517,
          50.8802265,
          50.8859891,
          50.8804259,
          50.8794931,
          50.8793357,
          50.8807257,
          50.8847257,
          50.8898717,
          50.8836532,
          50.8835284,
          50.8881994,
          50.8842044,
          50.8823104,
          50.8803154,
          50.8813735,
          50.8821444,
          50.8822675,
          50.881152,
          50.880196,
          50.8279486,
          50.878521,
          50.8829479,
          50.8634528,
          50.8631073,
          50.8791761,
          50.8608501,
          50.8986151,
          50.8819787,
          50.8741781,
          50.9273035,
          50.878776,
          50.8788442,
          50.8789235,
          50.879119,
          50.8789777,
          50.8788611,
          50.9010242,
          50.8809836,
          50.880428,
          50.8821615,
          50.8954387,
          50.8816917,
          50.8991298,
          50.8933781,
          50.91814,
          50.8585804,
          50.8585298,
          50.874242,
          50.8771385,
          50.8773456,
          50.8718401,
          50.8424002,
          50.9201645,
          50.9064392,
          50.8786627,
          50.8787846,
          50.8773452,
          50.8794115,
          50.8788879,
          50.8788738,
          50.8794548,
          50.8789942,
          50.8545014,
          50.8517487,
          50.8794695,
          50.9229002,
          50.8576806,
          50.8575995,
          50.9397177,
          50.8650149,
          50.868764,
          50.877315,
          50.8771654,
          50.8770483,
          50.8779248,
          50.877672,
          50.9215817,
          50.8800065,
          50.8658087,
          50.9235418,
          50.9235574,
          50.8729833
         ],
         "lon": [
          4.7156822,
          4.7195186,
          4.7157233,
          4.7141794,
          4.7225386,
          4.7039331,
          4.7083075,
          4.7276595,
          4.7182768,
          4.7041328,
          4.7085975,
          4.7095824,
          4.6699734,
          4.6960403,
          4.7001154,
          4.6998251,
          4.6936964,
          4.7318652,
          4.7753379,
          4.7197681,
          4.718384,
          4.7541618,
          4.7236451,
          4.7136272,
          4.7055086,
          4.7097866,
          4.7136561,
          4.7134884,
          4.7087341,
          4.7042354,
          4.7570392,
          4.6992252,
          4.693821,
          4.6291461,
          4.6295685,
          4.7001779,
          4.6973741,
          4.7330285,
          4.707424,
          4.6916391,
          4.6370213,
          4.700251,
          4.70027,
          4.700302,
          4.7001591,
          4.7003237,
          4.7000712,
          4.621943,
          4.708945,
          4.7144727,
          4.7175168,
          4.768191,
          4.7148191,
          4.6808741,
          4.6905936,
          4.6509709,
          4.6960089,
          4.696001,
          4.699811,
          4.7004298,
          4.7006508,
          4.6994508,
          4.6404228,
          4.7581261,
          4.6737481,
          4.7001597,
          4.7000365,
          4.6992006,
          4.7022837,
          4.7024754,
          4.7025541,
          4.7031309,
          4.7031151,
          4.6584379,
          4.6582082,
          4.7030378,
          4.7549918,
          4.7810634,
          4.7810335,
          4.736245,
          4.6276183,
          4.6969611,
          4.7042888,
          4.704549,
          4.7052921,
          4.7038117,
          4.7037524,
          4.6996375,
          4.7056646,
          4.6958813,
          4.692376,
          4.6920463,
          4.6961038
         ],
         "marker": {
          "color": "#72B7B2",
          "size": 10
         },
         "mode": "markers",
         "name": "fast_food",
         "type": "scattermapbox"
        },
        {
         "lat": [
          50.9169484,
          50.8986721,
          50.8649891,
          50.8848408,
          50.8858381,
          50.8322263,
          50.8792407,
          50.8807189,
          50.8796615,
          50.8806445,
          50.8813248,
          50.8812899,
          50.8896643,
          50.8807857,
          50.8908612,
          50.8813733,
          50.8831451,
          50.8804637,
          50.8747016,
          50.9206769,
          50.8610053,
          50.8787472,
          50.8787128,
          50.882623,
          50.8896167,
          50.8807864,
          50.8806004,
          50.8807518,
          50.8773269,
          50.8672091,
          50.8670726,
          50.8585309,
          50.877609,
          50.8787752,
          50.8841401,
          50.8841875,
          50.882557,
          50.8776699,
          50.8792647,
          50.8627886,
          50.8760056,
          50.8675504,
          50.8729619
         ],
         "lon": [
          4.7169373,
          4.7075797,
          4.7154011,
          4.7179376,
          4.7189491,
          4.7213641,
          4.7037762,
          4.7112091,
          4.6993848,
          4.694574,
          4.699119,
          4.6992181,
          4.7686997,
          4.6986138,
          4.7296968,
          4.7081614,
          4.7064564,
          4.6937123,
          4.6913704,
          4.7816927,
          4.6984621,
          4.7053151,
          4.7053793,
          4.7175111,
          4.6949847,
          4.6997388,
          4.6997623,
          4.6997982,
          4.6981656,
          4.6975221,
          4.6974499,
          4.6956183,
          4.6983134,
          4.6994289,
          4.6918546,
          4.6924432,
          4.6912937,
          4.6855927,
          4.6889862,
          4.7601626,
          4.7077398,
          4.6332519,
          4.6965866
         ],
         "marker": {
          "color": "#54A24B",
          "size": 10
         },
         "mode": "markers",
         "name": "grocery_shop",
         "type": "scattermapbox"
        },
        {
         "lat": [
          50.9428133,
          50.9420832,
          50.9066471,
          50.8993223,
          50.9306171,
          50.8773287,
          50.8771844,
          50.8774001,
          50.8775561,
          50.8858734,
          50.8856467,
          50.8853016,
          50.8850308,
          50.8790744,
          50.8804549,
          50.8810837,
          50.879293,
          50.8805471,
          50.9106324,
          50.8966973,
          50.8807378,
          50.8798891,
          50.8806512,
          50.8805926,
          50.8803439,
          50.8803236,
          50.8800053,
          50.8808257,
          50.8807843,
          50.8797911,
          50.8797677,
          50.879993,
          50.8805816,
          50.8798017,
          50.8810415,
          50.862882,
          50.8836709,
          50.8835757,
          50.8858345,
          50.8839175,
          50.8821785,
          50.8822156,
          50.8811818,
          50.8800909,
          50.8801263,
          50.8995129,
          50.8573562,
          50.8439995,
          50.878491,
          50.8787531,
          50.8664903,
          50.849239,
          50.8275498,
          50.9156332,
          50.8489323,
          50.8790103,
          50.8790063,
          50.8790189,
          50.8789082,
          50.8840673,
          50.8716077,
          50.8771044,
          50.8778365,
          50.8816156,
          50.8824494,
          50.8630361,
          50.8633893,
          50.8608446,
          50.8954176,
          50.8767275,
          50.8745754,
          50.8756775,
          50.8626754,
          50.861153,
          50.8626389,
          50.8921291,
          50.889709,
          50.8777751,
          50.8779634,
          50.8816344,
          50.8805648,
          50.8796476,
          50.8798622,
          50.8790577,
          50.9085222,
          50.8844303,
          50.8845369,
          50.86298,
          50.8805744,
          50.8800298,
          50.8798485,
          50.8813999,
          50.8816735,
          50.8814074,
          50.8812476,
          50.8811435,
          50.8815382,
          50.880734,
          50.879746,
          50.8797111,
          50.8221982,
          50.823439,
          50.8919658,
          50.8806309,
          50.8810888,
          50.88104,
          50.8830579,
          50.8851664,
          50.884454,
          50.8809747,
          50.8586455,
          50.8782002,
          50.878234,
          50.877903,
          50.878299,
          50.8781327,
          50.8781512,
          50.8781115,
          50.8782562,
          50.8779902,
          50.8780422,
          50.8783227,
          50.8782195,
          50.8782373,
          50.8782678,
          50.8779639,
          50.8782044,
          50.8619217,
          50.8622326,
          50.8758023,
          50.877379,
          50.8783472,
          50.8784217,
          50.8766128,
          50.8767841,
          50.8774525,
          50.8691707,
          50.8719116,
          50.8767443,
          50.8766985,
          50.9070431,
          50.8785193,
          50.8775901,
          50.8776741,
          50.8778667,
          50.8774301,
          50.878636,
          50.879185,
          50.8789368,
          50.8791128,
          50.8788586,
          50.8782108,
          50.8783421,
          50.8784437,
          50.8779559,
          50.8782578,
          50.8784228,
          50.876305,
          50.8797377,
          50.9083627,
          50.9040227,
          50.8781882,
          50.878138,
          50.8794428,
          50.8789115,
          50.8779841,
          50.8626893,
          50.8809999,
          50.8774212,
          50.9009163,
          50.8687879,
          50.8705249,
          50.872344,
          50.8722439,
          50.8688335,
          50.8616944,
          50.8772321,
          50.8770459,
          50.8777206,
          50.8785165,
          50.8785824,
          50.8787726,
          50.8777002,
          50.8780712,
          50.8782696,
          50.8784523,
          50.8786302,
          50.8784139,
          50.8780351,
          50.8779785,
          50.8782207,
          50.8780499,
          50.876594,
          50.8764386,
          50.8750795,
          50.8766942,
          50.8788115,
          50.8757917,
          50.8783966,
          50.8821296,
          50.8878393,
          50.8879498,
          50.8808245,
          50.8809819,
          50.8979055,
          50.8318326,
          50.8232076,
          50.8435774,
          50.8327223,
          50.9256912,
          50.8792721,
          50.9236086,
          50.905372,
          50.9070422,
          50.8783109,
          50.8730532
         ],
         "lon": [
          4.7423763,
          4.7421466,
          4.7117003,
          4.7075277,
          4.7245626,
          4.7037933,
          4.7035511,
          4.703748,
          4.7137574,
          4.7190122,
          4.7184358,
          4.7182484,
          4.7180462,
          4.6916125,
          4.710928,
          4.713602,
          4.7040416,
          4.7115075,
          4.6737272,
          4.6221934,
          4.6930994,
          4.6965399,
          4.694494,
          4.6951484,
          4.6966889,
          4.6968136,
          4.6980575,
          4.6925141,
          4.692774,
          4.6980264,
          4.6981089,
          4.6974015,
          4.6937401,
          4.6980834,
          4.7000895,
          4.6754111,
          4.7199558,
          4.7188984,
          4.7403931,
          4.7202015,
          4.7137453,
          4.7133599,
          4.7088708,
          4.6996574,
          4.6995681,
          4.6451266,
          4.614089,
          4.7590353,
          4.699296,
          4.7019518,
          4.7953522,
          4.7230437,
          4.6909084,
          4.8073053,
          4.7212117,
          4.7006493,
          4.7007318,
          4.7005636,
          4.701921,
          4.6986309,
          4.7008354,
          4.7015119,
          4.7019186,
          4.7078764,
          4.7072376,
          4.6597774,
          4.6912963,
          4.6855803,
          4.6986104,
          4.690563,
          4.6914304,
          4.6905746,
          4.6864853,
          4.6839371,
          4.6291219,
          4.7058932,
          4.7063613,
          4.6999015,
          4.7013482,
          4.6966542,
          4.6961251,
          4.7039075,
          4.7036439,
          4.7043966,
          4.6741556,
          4.717897,
          4.7181104,
          4.695012,
          4.7094935,
          4.7006528,
          4.7015771,
          4.7175901,
          4.7147016,
          4.7138537,
          4.7139147,
          4.7139582,
          4.7139719,
          4.7141428,
          4.7000808,
          4.7001653,
          4.6547475,
          4.6577265,
          4.6927598,
          4.6997026,
          4.6993952,
          4.699367,
          4.6982185,
          4.6975465,
          4.6981572,
          4.6995078,
          4.6157263,
          4.7024737,
          4.7023328,
          4.7032044,
          4.7013325,
          4.7028593,
          4.7027467,
          4.7029597,
          4.7022316,
          4.7029174,
          4.7032037,
          4.7011031,
          4.7017904,
          4.7016999,
          4.7015134,
          4.7030166,
          4.7018648,
          4.6956716,
          4.6960738,
          4.7002173,
          4.7004411,
          4.7009605,
          4.7006735,
          4.7006194,
          4.700642,
          4.7007189,
          4.6988047,
          4.6994635,
          4.7006423,
          4.7006345,
          4.6735504,
          4.6995438,
          4.698791,
          4.6988218,
          4.6989536,
          4.6992371,
          4.6990956,
          4.6998064,
          4.6996002,
          4.6994995,
          4.6995181,
          4.69896,
          4.6990751,
          4.6989632,
          4.6985976,
          4.6989981,
          4.6991529,
          4.697615,
          4.6999259,
          4.6755419,
          4.6693882,
          4.7083429,
          4.7082382,
          4.7032123,
          4.7029522,
          4.7025507,
          4.6593965,
          4.7061231,
          4.7009047,
          4.6343741,
          4.6466836,
          4.6920592,
          4.7207151,
          4.7211375,
          4.7343317,
          4.7655226,
          4.7044424,
          4.7047995,
          4.705553,
          4.7031783,
          4.7030878,
          4.7032175,
          4.7037009,
          4.7037352,
          4.7033479,
          4.7032381,
          4.7030223,
          4.7032662,
          4.7037566,
          4.7037818,
          4.7036552,
          4.7034514,
          4.7060905,
          4.7063423,
          4.7083975,
          4.7063439,
          4.7031167,
          4.7083837,
          4.70357,
          4.7137967,
          4.7018895,
          4.7004665,
          4.7019765,
          4.6987289,
          4.6423943,
          4.7476253,
          4.6525933,
          4.6696743,
          4.6612292,
          4.7111838,
          4.6981474,
          4.6920519,
          4.6816643,
          4.7181666,
          4.7004245,
          4.6965601
         ],
         "marker": {
          "color": "#EECA3B",
          "size": 10
         },
         "mode": "markers",
         "name": "restaurant",
         "type": "scattermapbox"
        },
        {
         "lat": [
          50.9160289,
          50.8963183,
          50.8771511,
          50.930837,
          50.8823937,
          50.9105095,
          50.8795488,
          50.8807422,
          50.8806624,
          50.8805892,
          50.8804991,
          50.8801027,
          50.8805209,
          50.880237,
          50.887763,
          50.8839446,
          50.8914538,
          50.8815273,
          50.8815932,
          50.8542796,
          50.851951,
          50.8886599,
          50.8941671,
          50.8484386,
          50.8835466,
          50.8746266,
          50.8895023,
          50.8892161,
          50.9012329,
          50.8836052,
          50.8781642,
          50.9120555,
          50.8560177,
          50.8760711,
          50.9290727,
          50.8791148,
          50.8741447,
          50.8952395,
          50.8955756,
          50.8655495,
          50.8706452,
          50.8687732,
          50.8685584,
          50.8820184
         ],
         "lon": [
          4.7163105,
          4.7080114,
          4.7036068,
          4.6973758,
          4.7169432,
          4.6735102,
          4.6988345,
          4.6947339,
          4.6943737,
          4.6952154,
          4.6957344,
          4.6977556,
          4.6956544,
          4.6973208,
          4.7401201,
          4.7230375,
          4.7895116,
          4.7098793,
          4.7102501,
          4.658212,
          4.6584236,
          4.7018907,
          4.7709408,
          4.7332695,
          4.7073119,
          4.6914039,
          4.7057959,
          4.7058796,
          4.6681462,
          4.70248,
          4.7115092,
          4.6616252,
          4.6949427,
          4.700208,
          4.7253408,
          4.7033079,
          4.6896747,
          4.8181106,
          4.6419711,
          4.6286237,
          4.6919383,
          4.6965164,
          4.6975315,
          4.7139137
         ],
         "marker": {
          "color": "#B279A2",
          "size": 10
         },
         "mode": "markers",
         "name": "supermarket",
         "type": "scattermapbox"
        },
        {
         "lat": [
          50.8921213,
          50.8774024,
          50.8775191,
          50.8813099,
          50.8771901,
          50.8802181,
          50.8794058,
          50.880702,
          50.8799532,
          50.8793168,
          50.87958,
          50.8795837,
          50.8847075,
          50.8836482,
          50.8795656,
          50.8802166,
          50.8810185,
          50.8814776,
          50.8815325,
          50.8819682,
          50.8804635,
          50.8802928,
          50.901254,
          50.854597,
          50.8601284,
          50.8635351,
          50.8792845,
          50.8790355,
          50.8793376,
          50.9019598,
          50.8768371,
          50.8979432,
          50.8798063,
          50.8783881,
          50.8781292,
          50.8625035,
          50.8385552,
          50.9024649,
          50.8790095,
          50.8792308,
          50.8791029,
          50.8796184,
          50.8813292,
          50.8809464,
          50.8819905,
          50.8790835,
          50.8786784,
          50.878491,
          50.8766502,
          50.9040455,
          50.8785691,
          50.8785858,
          50.8786399,
          50.8759522,
          50.87946,
          50.9394651,
          50.8809171,
          50.8516593,
          50.921773,
          50.8871553,
          50.8770804,
          50.8779495,
          50.8763146,
          50.8773765,
          50.8778464,
          50.8819607,
          50.8877048,
          50.8814198,
          50.9163156,
          50.8810268,
          50.8811252,
          50.8809362,
          50.8270575,
          50.8661662,
          50.9401177
         ],
         "lon": [
          4.734141,
          4.703402,
          4.7039755,
          4.7014989,
          4.7095494,
          4.7083796,
          4.7047022,
          4.6939497,
          4.6981918,
          4.6999072,
          4.6987498,
          4.6998554,
          4.7317007,
          4.7310863,
          4.7022166,
          4.7043653,
          4.7084459,
          4.7096187,
          4.7106054,
          4.712171,
          4.7066196,
          4.6997128,
          4.6236065,
          4.6586112,
          4.6305672,
          4.6296858,
          4.7008443,
          4.7004106,
          4.7006449,
          4.6223706,
          4.7062485,
          4.732049,
          4.7073727,
          4.6978874,
          4.6976422,
          4.6291756,
          4.6432229,
          4.6676345,
          4.7040581,
          4.7045176,
          4.7047627,
          4.7018652,
          4.7138802,
          4.7140569,
          4.699126,
          4.7060553,
          4.7054887,
          4.7006786,
          4.7005988,
          4.6737546,
          4.6990495,
          4.6992551,
          4.6992979,
          4.6975748,
          4.7024817,
          4.6652923,
          4.7010671,
          4.658077,
          4.7575284,
          4.6998204,
          4.7051904,
          4.7035008,
          4.7065434,
          4.7044768,
          4.7038551,
          4.7139744,
          4.7001786,
          4.7001089,
          4.6787171,
          4.69912,
          4.6990497,
          4.6985733,
          4.6557696,
          4.6317969,
          4.7496053
         ],
         "marker": {
          "color": "#FF9DA6",
          "size": 10
         },
         "mode": "markers",
         "name": "cafe",
         "type": "scattermapbox"
        },
        {
         "lat": [
          50.8784432,
          50.9243456,
          50.8258108,
          50.8799443,
          50.8820337,
          50.8798256,
          50.8812172,
          50.8812523,
          50.8803019,
          50.9513025,
          50.9012645,
          50.8962985,
          50.8792256,
          50.8779624,
          50.88191,
          50.8834181,
          50.8747801,
          50.8803363,
          50.823428,
          50.880121,
          50.8815547,
          50.8815736,
          50.8806149,
          50.8797902,
          50.8801756,
          50.9032443,
          50.9032844,
          50.8814663,
          50.831304,
          50.8780654,
          50.8738081,
          50.8773052,
          50.878615,
          50.8784349,
          50.8785445,
          50.8787181,
          50.8785581,
          50.8786076,
          50.8784319,
          50.8784849,
          50.8786627,
          50.8783535,
          50.8779163,
          50.8779849,
          50.8780445,
          50.8780932,
          50.8777337,
          50.8776418,
          50.877598,
          50.8777606,
          50.8777988,
          50.8781424,
          50.8780691,
          50.86086,
          50.8783634,
          50.8785258,
          50.8739529,
          50.8944676,
          50.877402,
          50.944341,
          50.8788093,
          50.8770035,
          50.8771911,
          50.877233,
          50.8772753,
          50.8817641,
          50.8816836,
          50.8825625,
          50.8438223,
          50.827448,
          50.8782126
         ],
         "lon": [
          4.7076631,
          4.6921945,
          4.7043314,
          4.7079109,
          4.6885058,
          4.6978836,
          4.6905479,
          4.708581,
          4.7054343,
          4.7098934,
          4.6236822,
          4.8124596,
          4.7001925,
          4.7063922,
          4.7078415,
          4.706269,
          4.6913389,
          4.6937293,
          4.6526281,
          4.7007961,
          4.714113,
          4.7142741,
          4.7143818,
          4.699967,
          4.7004021,
          4.6745351,
          4.6748978,
          4.6992644,
          4.7269669,
          4.7025915,
          4.6996379,
          4.7004313,
          4.700124,
          4.6999636,
          4.7000468,
          4.6996921,
          4.6995709,
          4.6996099,
          4.6994572,
          4.6995094,
          4.6996422,
          4.699386,
          4.6989758,
          4.6990116,
          4.6990754,
          4.6991232,
          4.6994942,
          4.6993994,
          4.6993681,
          4.69889,
          4.6989129,
          4.6991864,
          4.6991208,
          4.7072118,
          4.6989251,
          4.6990197,
          4.7004874,
          4.7488402,
          4.7010558,
          4.7282219,
          4.7031177,
          4.7054295,
          4.7048394,
          4.7047442,
          4.7046644,
          4.7142028,
          4.7142371,
          4.7116236,
          4.6697144,
          4.7530299,
          4.7002216
         ],
         "marker": {
          "color": "#9D755D",
          "size": 10
         },
         "mode": "markers",
         "name": "pub",
         "type": "scattermapbox"
        },
        {
         "lat": [
          50.8847665,
          50.8303759,
          50.8905343,
          50.87896,
          50.8796088,
          50.8761004,
          50.880204,
          50.8788461,
          50.8777288,
          50.8723355
         ],
         "lon": [
          4.7186934,
          4.7593923,
          4.7063917,
          4.700107,
          4.7019086,
          4.7201096,
          4.7001633,
          4.705721,
          4.7036364,
          4.7460925
         ],
         "marker": {
          "color": "#BAB0AC",
          "size": 10
         },
         "mode": "markers",
         "name": "ice_cream",
         "type": "scattermapbox"
        }
       ],
       "layout": {
        "legend": {
         "title": {
          "text": "Amenity Types"
         }
        },
        "mapbox": {
         "center": {
          "lat": 50.88100990648734,
          "lon": 4.701758483702532
         },
         "style": "open-street-map",
         "zoom": 12
        },
        "margin": {
         "b": 0,
         "l": 0,
         "r": 0,
         "t": 40
        },
        "template": {
         "data": {
          "bar": [
           {
            "error_x": {
             "color": "#2a3f5f"
            },
            "error_y": {
             "color": "#2a3f5f"
            },
            "marker": {
             "line": {
              "color": "#E5ECF6",
              "width": 0.5
             },
             "pattern": {
              "fillmode": "overlay",
              "size": 10,
              "solidity": 0.2
             }
            },
            "type": "bar"
           }
          ],
          "barpolar": [
           {
            "marker": {
             "line": {
              "color": "#E5ECF6",
              "width": 0.5
             },
             "pattern": {
              "fillmode": "overlay",
              "size": 10,
              "solidity": 0.2
             }
            },
            "type": "barpolar"
           }
          ],
          "carpet": [
           {
            "aaxis": {
             "endlinecolor": "#2a3f5f",
             "gridcolor": "white",
             "linecolor": "white",
             "minorgridcolor": "white",
             "startlinecolor": "#2a3f5f"
            },
            "baxis": {
             "endlinecolor": "#2a3f5f",
             "gridcolor": "white",
             "linecolor": "white",
             "minorgridcolor": "white",
             "startlinecolor": "#2a3f5f"
            },
            "type": "carpet"
           }
          ],
          "choropleth": [
           {
            "colorbar": {
             "outlinewidth": 0,
             "ticks": ""
            },
            "type": "choropleth"
           }
          ],
          "contour": [
           {
            "colorbar": {
             "outlinewidth": 0,
             "ticks": ""
            },
            "colorscale": [
             [
              0,
              "#0d0887"
             ],
             [
              0.1111111111111111,
              "#46039f"
             ],
             [
              0.2222222222222222,
              "#7201a8"
             ],
             [
              0.3333333333333333,
              "#9c179e"
             ],
             [
              0.4444444444444444,
              "#bd3786"
             ],
             [
              0.5555555555555556,
              "#d8576b"
             ],
             [
              0.6666666666666666,
              "#ed7953"
             ],
             [
              0.7777777777777778,
              "#fb9f3a"
             ],
             [
              0.8888888888888888,
              "#fdca26"
             ],
             [
              1,
              "#f0f921"
             ]
            ],
            "type": "contour"
           }
          ],
          "contourcarpet": [
           {
            "colorbar": {
             "outlinewidth": 0,
             "ticks": ""
            },
            "type": "contourcarpet"
           }
          ],
          "heatmap": [
           {
            "colorbar": {
             "outlinewidth": 0,
             "ticks": ""
            },
            "colorscale": [
             [
              0,
              "#0d0887"
             ],
             [
              0.1111111111111111,
              "#46039f"
             ],
             [
              0.2222222222222222,
              "#7201a8"
             ],
             [
              0.3333333333333333,
              "#9c179e"
             ],
             [
              0.4444444444444444,
              "#bd3786"
             ],
             [
              0.5555555555555556,
              "#d8576b"
             ],
             [
              0.6666666666666666,
              "#ed7953"
             ],
             [
              0.7777777777777778,
              "#fb9f3a"
             ],
             [
              0.8888888888888888,
              "#fdca26"
             ],
             [
              1,
              "#f0f921"
             ]
            ],
            "type": "heatmap"
           }
          ],
          "heatmapgl": [
           {
            "colorbar": {
             "outlinewidth": 0,
             "ticks": ""
            },
            "colorscale": [
             [
              0,
              "#0d0887"
             ],
             [
              0.1111111111111111,
              "#46039f"
             ],
             [
              0.2222222222222222,
              "#7201a8"
             ],
             [
              0.3333333333333333,
              "#9c179e"
             ],
             [
              0.4444444444444444,
              "#bd3786"
             ],
             [
              0.5555555555555556,
              "#d8576b"
             ],
             [
              0.6666666666666666,
              "#ed7953"
             ],
             [
              0.7777777777777778,
              "#fb9f3a"
             ],
             [
              0.8888888888888888,
              "#fdca26"
             ],
             [
              1,
              "#f0f921"
             ]
            ],
            "type": "heatmapgl"
           }
          ],
          "histogram": [
           {
            "marker": {
             "pattern": {
              "fillmode": "overlay",
              "size": 10,
              "solidity": 0.2
             }
            },
            "type": "histogram"
           }
          ],
          "histogram2d": [
           {
            "colorbar": {
             "outlinewidth": 0,
             "ticks": ""
            },
            "colorscale": [
             [
              0,
              "#0d0887"
             ],
             [
              0.1111111111111111,
              "#46039f"
             ],
             [
              0.2222222222222222,
              "#7201a8"
             ],
             [
              0.3333333333333333,
              "#9c179e"
             ],
             [
              0.4444444444444444,
              "#bd3786"
             ],
             [
              0.5555555555555556,
              "#d8576b"
             ],
             [
              0.6666666666666666,
              "#ed7953"
             ],
             [
              0.7777777777777778,
              "#fb9f3a"
             ],
             [
              0.8888888888888888,
              "#fdca26"
             ],
             [
              1,
              "#f0f921"
             ]
            ],
            "type": "histogram2d"
           }
          ],
          "histogram2dcontour": [
           {
            "colorbar": {
             "outlinewidth": 0,
             "ticks": ""
            },
            "colorscale": [
             [
              0,
              "#0d0887"
             ],
             [
              0.1111111111111111,
              "#46039f"
             ],
             [
              0.2222222222222222,
              "#7201a8"
             ],
             [
              0.3333333333333333,
              "#9c179e"
             ],
             [
              0.4444444444444444,
              "#bd3786"
             ],
             [
              0.5555555555555556,
              "#d8576b"
             ],
             [
              0.6666666666666666,
              "#ed7953"
             ],
             [
              0.7777777777777778,
              "#fb9f3a"
             ],
             [
              0.8888888888888888,
              "#fdca26"
             ],
             [
              1,
              "#f0f921"
             ]
            ],
            "type": "histogram2dcontour"
           }
          ],
          "mesh3d": [
           {
            "colorbar": {
             "outlinewidth": 0,
             "ticks": ""
            },
            "type": "mesh3d"
           }
          ],
          "parcoords": [
           {
            "line": {
             "colorbar": {
              "outlinewidth": 0,
              "ticks": ""
             }
            },
            "type": "parcoords"
           }
          ],
          "pie": [
           {
            "automargin": true,
            "type": "pie"
           }
          ],
          "scatter": [
           {
            "fillpattern": {
             "fillmode": "overlay",
             "size": 10,
             "solidity": 0.2
            },
            "type": "scatter"
           }
          ],
          "scatter3d": [
           {
            "line": {
             "colorbar": {
              "outlinewidth": 0,
              "ticks": ""
             }
            },
            "marker": {
             "colorbar": {
              "outlinewidth": 0,
              "ticks": ""
             }
            },
            "type": "scatter3d"
           }
          ],
          "scattercarpet": [
           {
            "marker": {
             "colorbar": {
              "outlinewidth": 0,
              "ticks": ""
             }
            },
            "type": "scattercarpet"
           }
          ],
          "scattergeo": [
           {
            "marker": {
             "colorbar": {
              "outlinewidth": 0,
              "ticks": ""
             }
            },
            "type": "scattergeo"
           }
          ],
          "scattergl": [
           {
            "marker": {
             "colorbar": {
              "outlinewidth": 0,
              "ticks": ""
             }
            },
            "type": "scattergl"
           }
          ],
          "scattermapbox": [
           {
            "marker": {
             "colorbar": {
              "outlinewidth": 0,
              "ticks": ""
             }
            },
            "type": "scattermapbox"
           }
          ],
          "scatterpolar": [
           {
            "marker": {
             "colorbar": {
              "outlinewidth": 0,
              "ticks": ""
             }
            },
            "type": "scatterpolar"
           }
          ],
          "scatterpolargl": [
           {
            "marker": {
             "colorbar": {
              "outlinewidth": 0,
              "ticks": ""
             }
            },
            "type": "scatterpolargl"
           }
          ],
          "scatterternary": [
           {
            "marker": {
             "colorbar": {
              "outlinewidth": 0,
              "ticks": ""
             }
            },
            "type": "scatterternary"
           }
          ],
          "surface": [
           {
            "colorbar": {
             "outlinewidth": 0,
             "ticks": ""
            },
            "colorscale": [
             [
              0,
              "#0d0887"
             ],
             [
              0.1111111111111111,
              "#46039f"
             ],
             [
              0.2222222222222222,
              "#7201a8"
             ],
             [
              0.3333333333333333,
              "#9c179e"
             ],
             [
              0.4444444444444444,
              "#bd3786"
             ],
             [
              0.5555555555555556,
              "#d8576b"
             ],
             [
              0.6666666666666666,
              "#ed7953"
             ],
             [
              0.7777777777777778,
              "#fb9f3a"
             ],
             [
              0.8888888888888888,
              "#fdca26"
             ],
             [
              1,
              "#f0f921"
             ]
            ],
            "type": "surface"
           }
          ],
          "table": [
           {
            "cells": {
             "fill": {
              "color": "#EBF0F8"
             },
             "line": {
              "color": "white"
             }
            },
            "header": {
             "fill": {
              "color": "#C8D4E3"
             },
             "line": {
              "color": "white"
             }
            },
            "type": "table"
           }
          ]
         },
         "layout": {
          "annotationdefaults": {
           "arrowcolor": "#2a3f5f",
           "arrowhead": 0,
           "arrowwidth": 1
          },
          "autotypenumbers": "strict",
          "coloraxis": {
           "colorbar": {
            "outlinewidth": 0,
            "ticks": ""
           }
          },
          "colorscale": {
           "diverging": [
            [
             0,
             "#8e0152"
            ],
            [
             0.1,
             "#c51b7d"
            ],
            [
             0.2,
             "#de77ae"
            ],
            [
             0.3,
             "#f1b6da"
            ],
            [
             0.4,
             "#fde0ef"
            ],
            [
             0.5,
             "#f7f7f7"
            ],
            [
             0.6,
             "#e6f5d0"
            ],
            [
             0.7,
             "#b8e186"
            ],
            [
             0.8,
             "#7fbc41"
            ],
            [
             0.9,
             "#4d9221"
            ],
            [
             1,
             "#276419"
            ]
           ],
           "sequential": [
            [
             0,
             "#0d0887"
            ],
            [
             0.1111111111111111,
             "#46039f"
            ],
            [
             0.2222222222222222,
             "#7201a8"
            ],
            [
             0.3333333333333333,
             "#9c179e"
            ],
            [
             0.4444444444444444,
             "#bd3786"
            ],
            [
             0.5555555555555556,
             "#d8576b"
            ],
            [
             0.6666666666666666,
             "#ed7953"
            ],
            [
             0.7777777777777778,
             "#fb9f3a"
            ],
            [
             0.8888888888888888,
             "#fdca26"
            ],
            [
             1,
             "#f0f921"
            ]
           ],
           "sequentialminus": [
            [
             0,
             "#0d0887"
            ],
            [
             0.1111111111111111,
             "#46039f"
            ],
            [
             0.2222222222222222,
             "#7201a8"
            ],
            [
             0.3333333333333333,
             "#9c179e"
            ],
            [
             0.4444444444444444,
             "#bd3786"
            ],
            [
             0.5555555555555556,
             "#d8576b"
            ],
            [
             0.6666666666666666,
             "#ed7953"
            ],
            [
             0.7777777777777778,
             "#fb9f3a"
            ],
            [
             0.8888888888888888,
             "#fdca26"
            ],
            [
             1,
             "#f0f921"
            ]
           ]
          },
          "colorway": [
           "#636efa",
           "#EF553B",
           "#00cc96",
           "#ab63fa",
           "#FFA15A",
           "#19d3f3",
           "#FF6692",
           "#B6E880",
           "#FF97FF",
           "#FECB52"
          ],
          "font": {
           "color": "#2a3f5f"
          },
          "geo": {
           "bgcolor": "white",
           "lakecolor": "white",
           "landcolor": "#E5ECF6",
           "showlakes": true,
           "showland": true,
           "subunitcolor": "white"
          },
          "hoverlabel": {
           "align": "left"
          },
          "hovermode": "closest",
          "mapbox": {
           "style": "light"
          },
          "paper_bgcolor": "white",
          "plot_bgcolor": "#E5ECF6",
          "polar": {
           "angularaxis": {
            "gridcolor": "white",
            "linecolor": "white",
            "ticks": ""
           },
           "bgcolor": "#E5ECF6",
           "radialaxis": {
            "gridcolor": "white",
            "linecolor": "white",
            "ticks": ""
           }
          },
          "scene": {
           "xaxis": {
            "backgroundcolor": "#E5ECF6",
            "gridcolor": "white",
            "gridwidth": 2,
            "linecolor": "white",
            "showbackground": true,
            "ticks": "",
            "zerolinecolor": "white"
           },
           "yaxis": {
            "backgroundcolor": "#E5ECF6",
            "gridcolor": "white",
            "gridwidth": 2,
            "linecolor": "white",
            "showbackground": true,
            "ticks": "",
            "zerolinecolor": "white"
           },
           "zaxis": {
            "backgroundcolor": "#E5ECF6",
            "gridcolor": "white",
            "gridwidth": 2,
            "linecolor": "white",
            "showbackground": true,
            "ticks": "",
            "zerolinecolor": "white"
           }
          },
          "shapedefaults": {
           "line": {
            "color": "#2a3f5f"
           }
          },
          "ternary": {
           "aaxis": {
            "gridcolor": "white",
            "linecolor": "white",
            "ticks": ""
           },
           "baxis": {
            "gridcolor": "white",
            "linecolor": "white",
            "ticks": ""
           },
           "bgcolor": "#E5ECF6",
           "caxis": {
            "gridcolor": "white",
            "linecolor": "white",
            "ticks": ""
           }
          },
          "title": {
           "x": 0.05
          },
          "xaxis": {
           "automargin": true,
           "gridcolor": "white",
           "linecolor": "white",
           "ticks": "",
           "title": {
            "standoff": 15
           },
           "zerolinecolor": "white",
           "zerolinewidth": 2
          },
          "yaxis": {
           "automargin": true,
           "gridcolor": "white",
           "linecolor": "white",
           "ticks": "",
           "title": {
            "standoff": 15
           },
           "zerolinecolor": "white",
           "zerolinewidth": 2
          }
         }
        },
        "title": {
         "text": "Amenities by Type"
        }
       }
      }
     },
     "metadata": {},
     "output_type": "display_data"
    }
   ],
   "source": [
    "import plotly.express as px\n",
    "import plotly.graph_objects as go\n",
    "import pandas as pd\n",
    "\n",
    "# Example DataFrame (replace this with your `openstreetmap_df`)\n",
    "# openstreetmap_df = pd.DataFrame({\n",
    "#     'lon': [-73.985428, -73.9851, -73.9847],\n",
    "#     'lat': [40.748817, 40.749, 40.7485],\n",
    "#     'amenity_type': ['restaurant', 'cafe', 'bar']\n",
    "# })\n",
    "\n",
    "# Unique amenity types and their colors\n",
    "amenity_types = openstreetmap_df['amenity_type'].unique()\n",
    "colors = px.colors.qualitative.T10[:len(amenity_types)]  # Use a qualitative color scale\n",
    "color_map = {amenity: color for amenity, color in zip(amenity_types, colors)}\n",
    "\n",
    "# Create the map figure\n",
    "fig = go.Figure()\n",
    "\n",
    "# Add points for each amenity type\n",
    "for amenity_type, color in color_map.items():\n",
    "    subset = openstreetmap_df[openstreetmap_df['amenity_type'] == amenity_type]\n",
    "    fig.add_trace(go.Scattermapbox(\n",
    "        lon=subset['lon'],\n",
    "        lat=subset['lat'],\n",
    "        mode='markers',\n",
    "        marker=dict(size=10, color=color),\n",
    "        name=amenity_type\n",
    "    ))\n",
    "\n",
    "# Set up the map layout\n",
    "fig.update_layout(\n",
    "    mapbox=dict(\n",
    "        style=\"open-street-map\",\n",
    "        zoom=12,\n",
    "        center=dict(lat=openstreetmap_df['lat'].mean(), lon=openstreetmap_df['lon'].mean()),\n",
    "    ),\n",
    "    legend=dict(title=\"Amenity Types\"),\n",
    "    title=\"Amenities by Type\",\n",
    "    margin={\"r\":0,\"t\":40,\"l\":0,\"b\":0}\n",
    ")\n",
    "\n",
    "fig.show()\n"
   ]
  },
  {
   "cell_type": "code",
   "execution_count": 171,
   "metadata": {},
   "outputs": [
    {
     "data": {
      "application/vnd.plotly.v1+json": {
       "config": {
        "plotlyServerURL": "https://plot.ly"
       },
       "data": [
        {
         "hoverinfo": "text",
         "lat": [
          40.748817,
          40.7485
         ],
         "lon": [
          -73.985428,
          -73.9847
         ],
         "marker": {
          "color": "green",
          "opacity": 0.7,
          "size": [
           100,
           200
          ]
         },
         "mode": "markers",
         "name": "Grade > 2.5",
         "text": [
          "Store A<br>Grade: 3.0<br>Feedbacks: 100",
          "Store C<br>Grade: 4.5<br>Feedbacks: 200"
         ],
         "type": "scattermapbox"
        },
        {
         "hoverinfo": "text",
         "lat": [
          40.749
         ],
         "lon": [
          -73.9851
         ],
         "marker": {
          "color": "red",
          "opacity": 0.7,
          "size": [
           50
          ]
         },
         "mode": "markers",
         "name": "Grade ≤ 2.5",
         "text": [
          "Store B<br>Grade: 2.0<br>Feedbacks: 50"
         ],
         "type": "scattermapbox"
        }
       ],
       "layout": {
        "legend": {
         "title": {
          "text": "Legend"
         }
        },
        "mapbox": {
         "center": {
          "lat": 40.748772333333335,
          "lon": -73.985076
         },
         "style": "open-street-map",
         "zoom": 12
        },
        "margin": {
         "b": 0,
         "l": 0,
         "r": 0,
         "t": 40
        },
        "template": {
         "data": {
          "bar": [
           {
            "error_x": {
             "color": "#2a3f5f"
            },
            "error_y": {
             "color": "#2a3f5f"
            },
            "marker": {
             "line": {
              "color": "#E5ECF6",
              "width": 0.5
             },
             "pattern": {
              "fillmode": "overlay",
              "size": 10,
              "solidity": 0.2
             }
            },
            "type": "bar"
           }
          ],
          "barpolar": [
           {
            "marker": {
             "line": {
              "color": "#E5ECF6",
              "width": 0.5
             },
             "pattern": {
              "fillmode": "overlay",
              "size": 10,
              "solidity": 0.2
             }
            },
            "type": "barpolar"
           }
          ],
          "carpet": [
           {
            "aaxis": {
             "endlinecolor": "#2a3f5f",
             "gridcolor": "white",
             "linecolor": "white",
             "minorgridcolor": "white",
             "startlinecolor": "#2a3f5f"
            },
            "baxis": {
             "endlinecolor": "#2a3f5f",
             "gridcolor": "white",
             "linecolor": "white",
             "minorgridcolor": "white",
             "startlinecolor": "#2a3f5f"
            },
            "type": "carpet"
           }
          ],
          "choropleth": [
           {
            "colorbar": {
             "outlinewidth": 0,
             "ticks": ""
            },
            "type": "choropleth"
           }
          ],
          "contour": [
           {
            "colorbar": {
             "outlinewidth": 0,
             "ticks": ""
            },
            "colorscale": [
             [
              0,
              "#0d0887"
             ],
             [
              0.1111111111111111,
              "#46039f"
             ],
             [
              0.2222222222222222,
              "#7201a8"
             ],
             [
              0.3333333333333333,
              "#9c179e"
             ],
             [
              0.4444444444444444,
              "#bd3786"
             ],
             [
              0.5555555555555556,
              "#d8576b"
             ],
             [
              0.6666666666666666,
              "#ed7953"
             ],
             [
              0.7777777777777778,
              "#fb9f3a"
             ],
             [
              0.8888888888888888,
              "#fdca26"
             ],
             [
              1,
              "#f0f921"
             ]
            ],
            "type": "contour"
           }
          ],
          "contourcarpet": [
           {
            "colorbar": {
             "outlinewidth": 0,
             "ticks": ""
            },
            "type": "contourcarpet"
           }
          ],
          "heatmap": [
           {
            "colorbar": {
             "outlinewidth": 0,
             "ticks": ""
            },
            "colorscale": [
             [
              0,
              "#0d0887"
             ],
             [
              0.1111111111111111,
              "#46039f"
             ],
             [
              0.2222222222222222,
              "#7201a8"
             ],
             [
              0.3333333333333333,
              "#9c179e"
             ],
             [
              0.4444444444444444,
              "#bd3786"
             ],
             [
              0.5555555555555556,
              "#d8576b"
             ],
             [
              0.6666666666666666,
              "#ed7953"
             ],
             [
              0.7777777777777778,
              "#fb9f3a"
             ],
             [
              0.8888888888888888,
              "#fdca26"
             ],
             [
              1,
              "#f0f921"
             ]
            ],
            "type": "heatmap"
           }
          ],
          "heatmapgl": [
           {
            "colorbar": {
             "outlinewidth": 0,
             "ticks": ""
            },
            "colorscale": [
             [
              0,
              "#0d0887"
             ],
             [
              0.1111111111111111,
              "#46039f"
             ],
             [
              0.2222222222222222,
              "#7201a8"
             ],
             [
              0.3333333333333333,
              "#9c179e"
             ],
             [
              0.4444444444444444,
              "#bd3786"
             ],
             [
              0.5555555555555556,
              "#d8576b"
             ],
             [
              0.6666666666666666,
              "#ed7953"
             ],
             [
              0.7777777777777778,
              "#fb9f3a"
             ],
             [
              0.8888888888888888,
              "#fdca26"
             ],
             [
              1,
              "#f0f921"
             ]
            ],
            "type": "heatmapgl"
           }
          ],
          "histogram": [
           {
            "marker": {
             "pattern": {
              "fillmode": "overlay",
              "size": 10,
              "solidity": 0.2
             }
            },
            "type": "histogram"
           }
          ],
          "histogram2d": [
           {
            "colorbar": {
             "outlinewidth": 0,
             "ticks": ""
            },
            "colorscale": [
             [
              0,
              "#0d0887"
             ],
             [
              0.1111111111111111,
              "#46039f"
             ],
             [
              0.2222222222222222,
              "#7201a8"
             ],
             [
              0.3333333333333333,
              "#9c179e"
             ],
             [
              0.4444444444444444,
              "#bd3786"
             ],
             [
              0.5555555555555556,
              "#d8576b"
             ],
             [
              0.6666666666666666,
              "#ed7953"
             ],
             [
              0.7777777777777778,
              "#fb9f3a"
             ],
             [
              0.8888888888888888,
              "#fdca26"
             ],
             [
              1,
              "#f0f921"
             ]
            ],
            "type": "histogram2d"
           }
          ],
          "histogram2dcontour": [
           {
            "colorbar": {
             "outlinewidth": 0,
             "ticks": ""
            },
            "colorscale": [
             [
              0,
              "#0d0887"
             ],
             [
              0.1111111111111111,
              "#46039f"
             ],
             [
              0.2222222222222222,
              "#7201a8"
             ],
             [
              0.3333333333333333,
              "#9c179e"
             ],
             [
              0.4444444444444444,
              "#bd3786"
             ],
             [
              0.5555555555555556,
              "#d8576b"
             ],
             [
              0.6666666666666666,
              "#ed7953"
             ],
             [
              0.7777777777777778,
              "#fb9f3a"
             ],
             [
              0.8888888888888888,
              "#fdca26"
             ],
             [
              1,
              "#f0f921"
             ]
            ],
            "type": "histogram2dcontour"
           }
          ],
          "mesh3d": [
           {
            "colorbar": {
             "outlinewidth": 0,
             "ticks": ""
            },
            "type": "mesh3d"
           }
          ],
          "parcoords": [
           {
            "line": {
             "colorbar": {
              "outlinewidth": 0,
              "ticks": ""
             }
            },
            "type": "parcoords"
           }
          ],
          "pie": [
           {
            "automargin": true,
            "type": "pie"
           }
          ],
          "scatter": [
           {
            "fillpattern": {
             "fillmode": "overlay",
             "size": 10,
             "solidity": 0.2
            },
            "type": "scatter"
           }
          ],
          "scatter3d": [
           {
            "line": {
             "colorbar": {
              "outlinewidth": 0,
              "ticks": ""
             }
            },
            "marker": {
             "colorbar": {
              "outlinewidth": 0,
              "ticks": ""
             }
            },
            "type": "scatter3d"
           }
          ],
          "scattercarpet": [
           {
            "marker": {
             "colorbar": {
              "outlinewidth": 0,
              "ticks": ""
             }
            },
            "type": "scattercarpet"
           }
          ],
          "scattergeo": [
           {
            "marker": {
             "colorbar": {
              "outlinewidth": 0,
              "ticks": ""
             }
            },
            "type": "scattergeo"
           }
          ],
          "scattergl": [
           {
            "marker": {
             "colorbar": {
              "outlinewidth": 0,
              "ticks": ""
             }
            },
            "type": "scattergl"
           }
          ],
          "scattermapbox": [
           {
            "marker": {
             "colorbar": {
              "outlinewidth": 0,
              "ticks": ""
             }
            },
            "type": "scattermapbox"
           }
          ],
          "scatterpolar": [
           {
            "marker": {
             "colorbar": {
              "outlinewidth": 0,
              "ticks": ""
             }
            },
            "type": "scatterpolar"
           }
          ],
          "scatterpolargl": [
           {
            "marker": {
             "colorbar": {
              "outlinewidth": 0,
              "ticks": ""
             }
            },
            "type": "scatterpolargl"
           }
          ],
          "scatterternary": [
           {
            "marker": {
             "colorbar": {
              "outlinewidth": 0,
              "ticks": ""
             }
            },
            "type": "scatterternary"
           }
          ],
          "surface": [
           {
            "colorbar": {
             "outlinewidth": 0,
             "ticks": ""
            },
            "colorscale": [
             [
              0,
              "#0d0887"
             ],
             [
              0.1111111111111111,
              "#46039f"
             ],
             [
              0.2222222222222222,
              "#7201a8"
             ],
             [
              0.3333333333333333,
              "#9c179e"
             ],
             [
              0.4444444444444444,
              "#bd3786"
             ],
             [
              0.5555555555555556,
              "#d8576b"
             ],
             [
              0.6666666666666666,
              "#ed7953"
             ],
             [
              0.7777777777777778,
              "#fb9f3a"
             ],
             [
              0.8888888888888888,
              "#fdca26"
             ],
             [
              1,
              "#f0f921"
             ]
            ],
            "type": "surface"
           }
          ],
          "table": [
           {
            "cells": {
             "fill": {
              "color": "#EBF0F8"
             },
             "line": {
              "color": "white"
             }
            },
            "header": {
             "fill": {
              "color": "#C8D4E3"
             },
             "line": {
              "color": "white"
             }
            },
            "type": "table"
           }
          ]
         },
         "layout": {
          "annotationdefaults": {
           "arrowcolor": "#2a3f5f",
           "arrowhead": 0,
           "arrowwidth": 1
          },
          "autotypenumbers": "strict",
          "coloraxis": {
           "colorbar": {
            "outlinewidth": 0,
            "ticks": ""
           }
          },
          "colorscale": {
           "diverging": [
            [
             0,
             "#8e0152"
            ],
            [
             0.1,
             "#c51b7d"
            ],
            [
             0.2,
             "#de77ae"
            ],
            [
             0.3,
             "#f1b6da"
            ],
            [
             0.4,
             "#fde0ef"
            ],
            [
             0.5,
             "#f7f7f7"
            ],
            [
             0.6,
             "#e6f5d0"
            ],
            [
             0.7,
             "#b8e186"
            ],
            [
             0.8,
             "#7fbc41"
            ],
            [
             0.9,
             "#4d9221"
            ],
            [
             1,
             "#276419"
            ]
           ],
           "sequential": [
            [
             0,
             "#0d0887"
            ],
            [
             0.1111111111111111,
             "#46039f"
            ],
            [
             0.2222222222222222,
             "#7201a8"
            ],
            [
             0.3333333333333333,
             "#9c179e"
            ],
            [
             0.4444444444444444,
             "#bd3786"
            ],
            [
             0.5555555555555556,
             "#d8576b"
            ],
            [
             0.6666666666666666,
             "#ed7953"
            ],
            [
             0.7777777777777778,
             "#fb9f3a"
            ],
            [
             0.8888888888888888,
             "#fdca26"
            ],
            [
             1,
             "#f0f921"
            ]
           ],
           "sequentialminus": [
            [
             0,
             "#0d0887"
            ],
            [
             0.1111111111111111,
             "#46039f"
            ],
            [
             0.2222222222222222,
             "#7201a8"
            ],
            [
             0.3333333333333333,
             "#9c179e"
            ],
            [
             0.4444444444444444,
             "#bd3786"
            ],
            [
             0.5555555555555556,
             "#d8576b"
            ],
            [
             0.6666666666666666,
             "#ed7953"
            ],
            [
             0.7777777777777778,
             "#fb9f3a"
            ],
            [
             0.8888888888888888,
             "#fdca26"
            ],
            [
             1,
             "#f0f921"
            ]
           ]
          },
          "colorway": [
           "#636efa",
           "#EF553B",
           "#00cc96",
           "#ab63fa",
           "#FFA15A",
           "#19d3f3",
           "#FF6692",
           "#B6E880",
           "#FF97FF",
           "#FECB52"
          ],
          "font": {
           "color": "#2a3f5f"
          },
          "geo": {
           "bgcolor": "white",
           "lakecolor": "white",
           "landcolor": "#E5ECF6",
           "showlakes": true,
           "showland": true,
           "subunitcolor": "white"
          },
          "hoverlabel": {
           "align": "left"
          },
          "hovermode": "closest",
          "mapbox": {
           "style": "light"
          },
          "paper_bgcolor": "white",
          "plot_bgcolor": "#E5ECF6",
          "polar": {
           "angularaxis": {
            "gridcolor": "white",
            "linecolor": "white",
            "ticks": ""
           },
           "bgcolor": "#E5ECF6",
           "radialaxis": {
            "gridcolor": "white",
            "linecolor": "white",
            "ticks": ""
           }
          },
          "scene": {
           "xaxis": {
            "backgroundcolor": "#E5ECF6",
            "gridcolor": "white",
            "gridwidth": 2,
            "linecolor": "white",
            "showbackground": true,
            "ticks": "",
            "zerolinecolor": "white"
           },
           "yaxis": {
            "backgroundcolor": "#E5ECF6",
            "gridcolor": "white",
            "gridwidth": 2,
            "linecolor": "white",
            "showbackground": true,
            "ticks": "",
            "zerolinecolor": "white"
           },
           "zaxis": {
            "backgroundcolor": "#E5ECF6",
            "gridcolor": "white",
            "gridwidth": 2,
            "linecolor": "white",
            "showbackground": true,
            "ticks": "",
            "zerolinecolor": "white"
           }
          },
          "shapedefaults": {
           "line": {
            "color": "#2a3f5f"
           }
          },
          "ternary": {
           "aaxis": {
            "gridcolor": "white",
            "linecolor": "white",
            "ticks": ""
           },
           "baxis": {
            "gridcolor": "white",
            "linecolor": "white",
            "ticks": ""
           },
           "bgcolor": "#E5ECF6",
           "caxis": {
            "gridcolor": "white",
            "linecolor": "white",
            "ticks": ""
           }
          },
          "title": {
           "x": 0.05
          },
          "xaxis": {
           "automargin": true,
           "gridcolor": "white",
           "linecolor": "white",
           "ticks": "",
           "title": {
            "standoff": 15
           },
           "zerolinecolor": "white",
           "zerolinewidth": 2
          },
          "yaxis": {
           "automargin": true,
           "gridcolor": "white",
           "linecolor": "white",
           "ticks": "",
           "title": {
            "standoff": 15
           },
           "zerolinecolor": "white",
           "zerolinewidth": 2
          }
         }
        },
        "title": {
         "text": "Store Grades and Feedbacks"
        }
       }
      }
     },
     "metadata": {},
     "output_type": "display_data"
    }
   ],
   "source": [
    "import plotly.graph_objects as go\n",
    "\n",
    "# Example DataFrame (replace this with your `places_grades_df`)\n",
    "places_grades_df = pd.DataFrame({\n",
    "    'lat': [40.748817, 40.749, 40.7485],\n",
    "    'lon': [-73.985428, -73.9851, -73.9847],\n",
    "    'grade': [3.0, 2.0, 4.5],\n",
    "    'feedbacks_amount': [100, 50, 200],\n",
    "    'store_name': ['Store A', 'Store B', 'Store C']\n",
    "})\n",
    "\n",
    "# Define color based on grade\n",
    "places_grades_df['color'] = places_grades_df['grade'].apply(lambda g: 'green' if g > 2.5 else 'red')\n",
    "\n",
    "# Create the map figure\n",
    "fig = go.Figure()\n",
    "\n",
    "# Add points for grades > 2.5 (green)\n",
    "fig.add_trace(go.Scattermapbox(\n",
    "    lon=places_grades_df[places_grades_df['color'] == 'green']['lon'],\n",
    "    lat=places_grades_df[places_grades_df['color'] == 'green']['lat'],\n",
    "    mode='markers',\n",
    "    marker=dict(\n",
    "        size=places_grades_df[places_grades_df['color'] == 'green']['feedbacks_amount'],\n",
    "        color='green',\n",
    "        opacity=0.7\n",
    "    ),\n",
    "    name=\"Grade > 2.5\",\n",
    "    text=places_grades_df[places_grades_df['color'] == 'green']['store_name'] + \n",
    "         \"<br>Grade: \" + places_grades_df[places_grades_df['color'] == 'green']['grade'].astype(str) +\n",
    "         \"<br>Feedbacks: \" + places_grades_df[places_grades_df['color'] == 'green']['feedbacks_amount'].astype(str),\n",
    "    hoverinfo='text'\n",
    "))\n",
    "\n",
    "# Add points for grades <= 2.5 (red)\n",
    "fig.add_trace(go.Scattermapbox(\n",
    "    lon=places_grades_df[places_grades_df['color'] == 'red']['lon'],\n",
    "    lat=places_grades_df[places_grades_df['color'] == 'red']['lat'],\n",
    "    mode='markers',\n",
    "    marker=dict(\n",
    "        size=places_grades_df[places_grades_df['color'] == 'red']['feedbacks_amount'],\n",
    "        color='red',\n",
    "        opacity=0.7\n",
    "    ),\n",
    "    name=\"Grade ≤ 2.5\",\n",
    "    text=places_grades_df[places_grades_df['color'] == 'red']['store_name'] + \n",
    "         \"<br>Grade: \" + places_grades_df[places_grades_df['color'] == 'red']['grade'].astype(str) +\n",
    "         \"<br>Feedbacks: \" + places_grades_df[places_grades_df['color'] == 'red']['feedbacks_amount'].astype(str),\n",
    "    hoverinfo='text'\n",
    "))\n",
    "\n",
    "# Set up the map layout\n",
    "fig.update_layout(\n",
    "    mapbox=dict(\n",
    "        style=\"open-street-map\",\n",
    "        zoom=12,\n",
    "        center=dict(lat=places_grades_df['lat'].mean(), lon=places_grades_df['lon'].mean()),\n",
    "    ),\n",
    "    title=\"Store Grades and Feedbacks\",\n",
    "    legend=dict(title=\"Legend\"),\n",
    "    margin={\"r\":0,\"t\":40,\"l\":0,\"b\":0}\n",
    ")\n",
    "\n",
    "fig.show()\n"
   ]
  },
  {
   "cell_type": "markdown",
   "metadata": {
    "id": "iHjxNm_vKNUQ"
   },
   "source": [
    "## Food Saving Leuven"
   ]
  },
  {
   "cell_type": "markdown",
   "metadata": {
    "id": "vnmseakVIEwK"
   },
   "source": [
    "We present below the Logical Data Model of the FSL datasets:"
   ]
  },
  {
   "cell_type": "markdown",
   "metadata": {
    "id": "l7Y_mtml0UgU"
   },
   "source": [
    "![UML.jpg](data:image/jpeg;base64,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)"
   ]
  },
  {
   "cell_type": "markdown",
   "metadata": {
    "id": "TMDfq8DmIPLp"
   },
   "source": [
    "Next, we load all five datasets:"
   ]
  },
  {
   "cell_type": "code",
   "execution_count": 172,
   "metadata": {
    "id": "c8V5kTx34-bI"
   },
   "outputs": [],
   "source": [
    "filenames=[\"foodsavingleuven/places.csv\",\n",
    "           \"foodsavingleuven/members.csv\"\t,\n",
    "           \"foodsavingleuven/activities.csv\",\n",
    "           \"foodsavingleuven/activities_participants.csv\",\n",
    "            \"foodsavingleuven/feedback.csv\"]"
   ]
  },
  {
   "cell_type": "code",
   "execution_count": 173,
   "metadata": {
    "colab": {
     "base_uri": "https://localhost:8080/",
     "height": 380
    },
    "id": "QGHWfnCRHStM",
    "outputId": "6439d2b3-850d-4334-825c-60da44623420"
   },
   "outputs": [
    {
     "data": {
      "text/html": [
       "<div>\n",
       "<style scoped>\n",
       "    .dataframe tbody tr th:only-of-type {\n",
       "        vertical-align: middle;\n",
       "    }\n",
       "\n",
       "    .dataframe tbody tr th {\n",
       "        vertical-align: top;\n",
       "    }\n",
       "\n",
       "    .dataframe thead th {\n",
       "        text-align: right;\n",
       "    }\n",
       "</style>\n",
       "<table border=\"1\" class=\"dataframe\">\n",
       "  <thead>\n",
       "    <tr style=\"text-align: right;\">\n",
       "      <th></th>\n",
       "      <th>name</th>\n",
       "      <th>placeid</th>\n",
       "      <th>meeting_point</th>\n",
       "      <th>instructions</th>\n",
       "      <th>store_log</th>\n",
       "      <th>address</th>\n",
       "      <th>latitude</th>\n",
       "      <th>longitude</th>\n",
       "      <th>status</th>\n",
       "    </tr>\n",
       "  </thead>\n",
       "  <tbody>\n",
       "    <tr>\n",
       "      <th>0</th>\n",
       "      <td>Spar</td>\n",
       "      <td>854</td>\n",
       "      <td>Outside the shop</td>\n",
       "      <td>You can expect anything from this shop, but us...</td>\n",
       "      <td>[2021/11] Ali and Kranti went there and spoke ...</td>\n",
       "      <td>Brusselsestraat 124, Leuven, Flemish Brabant, ...</td>\n",
       "      <td>50.880741</td>\n",
       "      <td>4.694760</td>\n",
       "      <td>active</td>\n",
       "    </tr>\n",
       "    <tr>\n",
       "      <th>1</th>\n",
       "      <td>Shop &amp; Go Delhaize</td>\n",
       "      <td>2766</td>\n",
       "      <td>Outside the shop</td>\n",
       "      <td>You can expect anything from this shop, but us...</td>\n",
       "      <td>It was very easy to talk to the owner! He is r...</td>\n",
       "      <td>Diestsestraat 228, Leuven, Flemish Brabant, 30...</td>\n",
       "      <td>50.881850</td>\n",
       "      <td>4.713093</td>\n",
       "      <td>active</td>\n",
       "    </tr>\n",
       "    <tr>\n",
       "      <th>2</th>\n",
       "      <td>Exotic World</td>\n",
       "      <td>2642</td>\n",
       "      <td>In front of the store - contact the lady at th...</td>\n",
       "      <td>Usually packaged items past their best-before ...</td>\n",
       "      <td>NaN</td>\n",
       "      <td>Brusselsestraat 44, Leuven, Flemish Brabant, 3...</td>\n",
       "      <td>50.881096</td>\n",
       "      <td>4.690018</td>\n",
       "      <td>active</td>\n",
       "    </tr>\n",
       "    <tr>\n",
       "      <th>3</th>\n",
       "      <td>Delhaize Leuven</td>\n",
       "      <td>858</td>\n",
       "      <td>Outside the shop</td>\n",
       "      <td>Mainly bread and pastries, can be a lot, so be...</td>\n",
       "      <td>[17/12/2022] Pickups Restarted\\nThe pickup tim...</td>\n",
       "      <td>Brusselsestraat 31, Leuven, Flemish Brabant, 3...</td>\n",
       "      <td>50.879549</td>\n",
       "      <td>4.698835</td>\n",
       "      <td>active</td>\n",
       "    </tr>\n",
       "    <tr>\n",
       "      <th>4</th>\n",
       "      <td>Carrefour Express</td>\n",
       "      <td>760</td>\n",
       "      <td>Outside the shop</td>\n",
       "      <td>You can expect anything from this shop, but us...</td>\n",
       "      <td>During corona, the shop closed. and wasn't ope...</td>\n",
       "      <td>Rector de Somerplein 12, Leuven, Flemish Braba...</td>\n",
       "      <td>50.879021</td>\n",
       "      <td>4.703237</td>\n",
       "      <td>active</td>\n",
       "    </tr>\n",
       "  </tbody>\n",
       "</table>\n",
       "</div>"
      ],
      "text/plain": [
       "                 name  placeid  \\\n",
       "0                Spar      854   \n",
       "1  Shop & Go Delhaize     2766   \n",
       "2        Exotic World     2642   \n",
       "3     Delhaize Leuven      858   \n",
       "4   Carrefour Express      760   \n",
       "\n",
       "                                       meeting_point  \\\n",
       "0                                   Outside the shop   \n",
       "1                                   Outside the shop   \n",
       "2  In front of the store - contact the lady at th...   \n",
       "3                                   Outside the shop   \n",
       "4                                   Outside the shop   \n",
       "\n",
       "                                        instructions  \\\n",
       "0  You can expect anything from this shop, but us...   \n",
       "1  You can expect anything from this shop, but us...   \n",
       "2  Usually packaged items past their best-before ...   \n",
       "3  Mainly bread and pastries, can be a lot, so be...   \n",
       "4  You can expect anything from this shop, but us...   \n",
       "\n",
       "                                           store_log  \\\n",
       "0  [2021/11] Ali and Kranti went there and spoke ...   \n",
       "1  It was very easy to talk to the owner! He is r...   \n",
       "2                                                NaN   \n",
       "3  [17/12/2022] Pickups Restarted\\nThe pickup tim...   \n",
       "4  During corona, the shop closed. and wasn't ope...   \n",
       "\n",
       "                                             address   latitude  longitude  \\\n",
       "0  Brusselsestraat 124, Leuven, Flemish Brabant, ...  50.880741   4.694760   \n",
       "1  Diestsestraat 228, Leuven, Flemish Brabant, 30...  50.881850   4.713093   \n",
       "2  Brusselsestraat 44, Leuven, Flemish Brabant, 3...  50.881096   4.690018   \n",
       "3  Brusselsestraat 31, Leuven, Flemish Brabant, 3...  50.879549   4.698835   \n",
       "4  Rector de Somerplein 12, Leuven, Flemish Braba...  50.879021   4.703237   \n",
       "\n",
       "   status  \n",
       "0  active  \n",
       "1  active  \n",
       "2  active  \n",
       "3  active  \n",
       "4  active  "
      ]
     },
     "execution_count": 173,
     "metadata": {},
     "output_type": "execute_result"
    }
   ],
   "source": [
    "places_df=pd.read_csv(filenames[0],index_col=0)\n",
    "places_df.head()"
   ]
  },
  {
   "cell_type": "code",
   "execution_count": 174,
   "metadata": {
    "cellView": "form",
    "colab": {
     "base_uri": "https://localhost:8080/",
     "height": 430
    },
    "id": "3rMRwcjvrmvL",
    "outputId": "a8bc0711-2bc2-4ad0-850c-2bbdf1ed13d7"
   },
   "outputs": [
    {
     "data": {
      "image/png": "[encoded data removed]",
      "text/plain": [
       "<Figure size 640x480 with 1 Axes>"
      ]
     },
     "metadata": {},
     "output_type": "display_data"
    }
   ],
   "source": [
    "# @title status\n",
    "\n",
    "from matplotlib import pyplot as plt\n",
    "import seaborn as sns\n",
    "places_df.groupby('status').size().plot(kind='barh', color=sns.palettes.mpl_palette('Dark2'))\n",
    "plt.gca().spines[['top', 'right',]].set_visible(False)"
   ]
  },
  {
   "cell_type": "code",
   "execution_count": 175,
   "metadata": {
    "colab": {
     "base_uri": "https://localhost:8080/",
     "height": 206
    },
    "id": "c9R_ZgwLpSgA",
    "outputId": "8b192800-aa6d-4535-e6fe-877592043447"
   },
   "outputs": [
    {
     "data": {
      "text/html": [
       "<div>\n",
       "<style scoped>\n",
       "    .dataframe tbody tr th:only-of-type {\n",
       "        vertical-align: middle;\n",
       "    }\n",
       "\n",
       "    .dataframe tbody tr th {\n",
       "        vertical-align: top;\n",
       "    }\n",
       "\n",
       "    .dataframe thead th {\n",
       "        text-align: right;\n",
       "    }\n",
       "</style>\n",
       "<table border=\"1\" class=\"dataframe\">\n",
       "  <thead>\n",
       "    <tr style=\"text-align: right;\">\n",
       "      <th></th>\n",
       "      <th>userid</th>\n",
       "      <th>trust_level</th>\n",
       "      <th>added_date</th>\n",
       "    </tr>\n",
       "  </thead>\n",
       "  <tbody>\n",
       "    <tr>\n",
       "      <th>0</th>\n",
       "      <td>12881</td>\n",
       "      <td>0</td>\n",
       "      <td>Oct 31, 2024, 1:08 PM</td>\n",
       "    </tr>\n",
       "    <tr>\n",
       "      <th>1</th>\n",
       "      <td>15945</td>\n",
       "      <td>0</td>\n",
       "      <td>Oct 30, 2024, 7:00 AM</td>\n",
       "    </tr>\n",
       "    <tr>\n",
       "      <th>2</th>\n",
       "      <td>15980</td>\n",
       "      <td>0</td>\n",
       "      <td>Oct 29, 2024, 8:00 PM</td>\n",
       "    </tr>\n",
       "    <tr>\n",
       "      <th>3</th>\n",
       "      <td>8826</td>\n",
       "      <td>0</td>\n",
       "      <td>Oct 29, 2024, 7:56 PM</td>\n",
       "    </tr>\n",
       "    <tr>\n",
       "      <th>4</th>\n",
       "      <td>17438</td>\n",
       "      <td>0</td>\n",
       "      <td>Oct 29, 2024, 7:56 PM</td>\n",
       "    </tr>\n",
       "  </tbody>\n",
       "</table>\n",
       "</div>"
      ],
      "text/plain": [
       "   userid  trust_level             added_date\n",
       "0   12881            0  Oct 31, 2024, 1:08 PM\n",
       "1   15945            0  Oct 30, 2024, 7:00 AM\n",
       "2   15980            0  Oct 29, 2024, 8:00 PM\n",
       "3    8826            0  Oct 29, 2024, 7:56 PM\n",
       "4   17438            0  Oct 29, 2024, 7:56 PM"
      ]
     },
     "execution_count": 175,
     "metadata": {},
     "output_type": "execute_result"
    }
   ],
   "source": [
    "members_df=pd.read_csv(filenames[1],index_col=0)\n",
    "members_df.head()"
   ]
  },
  {
   "cell_type": "code",
   "execution_count": 176,
   "metadata": {
    "colab": {
     "base_uri": "https://localhost:8080/",
     "height": 293
    },
    "id": "EESkCq5YzNy2",
    "outputId": "ce120ec9-c7b5-4839-bb72-aae0358143a9"
   },
   "outputs": [
    {
     "data": {
      "text/html": [
       "<div>\n",
       "<style scoped>\n",
       "    .dataframe tbody tr th:only-of-type {\n",
       "        vertical-align: middle;\n",
       "    }\n",
       "\n",
       "    .dataframe tbody tr th {\n",
       "        vertical-align: top;\n",
       "    }\n",
       "\n",
       "    .dataframe thead th {\n",
       "        text-align: right;\n",
       "    }\n",
       "</style>\n",
       "<table border=\"1\" class=\"dataframe\">\n",
       "  <thead>\n",
       "    <tr style=\"text-align: right;\">\n",
       "      <th></th>\n",
       "      <th>activity_id</th>\n",
       "      <th>date_start</th>\n",
       "      <th>date_end</th>\n",
       "      <th>placeid</th>\n",
       "      <th>description</th>\n",
       "      <th>is_done</th>\n",
       "      <th>max_participants</th>\n",
       "      <th>feedback_due</th>\n",
       "    </tr>\n",
       "  </thead>\n",
       "  <tbody>\n",
       "    <tr>\n",
       "      <th>0</th>\n",
       "      <td>481609</td>\n",
       "      <td>2024-11-16T18:25:00+01:00</td>\n",
       "      <td>2024-11-16T18:55:00+01:00</td>\n",
       "      <td>854</td>\n",
       "      <td>Meeting point: Outside the shop  Closest HUB -...</td>\n",
       "      <td>True</td>\n",
       "      <td>3.0</td>\n",
       "      <td>2024-12-16T18:55:00+01:00</td>\n",
       "    </tr>\n",
       "    <tr>\n",
       "      <th>1</th>\n",
       "      <td>481581</td>\n",
       "      <td>2024-11-16T17:55:00+01:00</td>\n",
       "      <td>2024-11-16T18:25:00+01:00</td>\n",
       "      <td>858</td>\n",
       "      <td>Meeting point: just inside the shop (read full...</td>\n",
       "      <td>True</td>\n",
       "      <td>5.0</td>\n",
       "      <td>2024-12-16T18:25:00+01:00</td>\n",
       "    </tr>\n",
       "    <tr>\n",
       "      <th>2</th>\n",
       "      <td>481330</td>\n",
       "      <td>2024-11-15T20:15:00+01:00</td>\n",
       "      <td>2024-11-15T20:45:00+01:00</td>\n",
       "      <td>760</td>\n",
       "      <td>Meeting point: Outside the shop   Closest HUB ...</td>\n",
       "      <td>True</td>\n",
       "      <td>2.0</td>\n",
       "      <td>2024-12-15T20:45:00+01:00</td>\n",
       "    </tr>\n",
       "    <tr>\n",
       "      <th>3</th>\n",
       "      <td>479076</td>\n",
       "      <td>2024-11-15T19:55:00+01:00</td>\n",
       "      <td>2024-11-15T20:25:00+01:00</td>\n",
       "      <td>2766</td>\n",
       "      <td>- Closest HUB - AGORA learning centre (for bre...</td>\n",
       "      <td>True</td>\n",
       "      <td>1.0</td>\n",
       "      <td>2024-12-15T20:25:00+01:00</td>\n",
       "    </tr>\n",
       "    <tr>\n",
       "      <th>4</th>\n",
       "      <td>479019</td>\n",
       "      <td>2024-11-15T19:00:00+01:00</td>\n",
       "      <td>2024-11-15T19:30:00+01:00</td>\n",
       "      <td>2642</td>\n",
       "      <td>Meeting point: Outside the shop   Closest HUB ...</td>\n",
       "      <td>True</td>\n",
       "      <td>3.0</td>\n",
       "      <td>2024-12-15T19:30:00+01:00</td>\n",
       "    </tr>\n",
       "  </tbody>\n",
       "</table>\n",
       "</div>"
      ],
      "text/plain": [
       "   activity_id                 date_start                   date_end  placeid  \\\n",
       "0       481609  2024-11-16T18:25:00+01:00  2024-11-16T18:55:00+01:00      854   \n",
       "1       481581  2024-11-16T17:55:00+01:00  2024-11-16T18:25:00+01:00      858   \n",
       "2       481330  2024-11-15T20:15:00+01:00  2024-11-15T20:45:00+01:00      760   \n",
       "3       479076  2024-11-15T19:55:00+01:00  2024-11-15T20:25:00+01:00     2766   \n",
       "4       479019  2024-11-15T19:00:00+01:00  2024-11-15T19:30:00+01:00     2642   \n",
       "\n",
       "                                         description  is_done  \\\n",
       "0  Meeting point: Outside the shop  Closest HUB -...     True   \n",
       "1  Meeting point: just inside the shop (read full...     True   \n",
       "2  Meeting point: Outside the shop   Closest HUB ...     True   \n",
       "3  - Closest HUB - AGORA learning centre (for bre...     True   \n",
       "4  Meeting point: Outside the shop   Closest HUB ...     True   \n",
       "\n",
       "   max_participants               feedback_due  \n",
       "0               3.0  2024-12-16T18:55:00+01:00  \n",
       "1               5.0  2024-12-16T18:25:00+01:00  \n",
       "2               2.0  2024-12-15T20:45:00+01:00  \n",
       "3               1.0  2024-12-15T20:25:00+01:00  \n",
       "4               3.0  2024-12-15T19:30:00+01:00  "
      ]
     },
     "execution_count": 176,
     "metadata": {},
     "output_type": "execute_result"
    }
   ],
   "source": [
    "activities_df=pd.read_csv(filenames[2],index_col=0)\n",
    "activities_df.head()"
   ]
  },
  {
   "cell_type": "code",
   "execution_count": 177,
   "metadata": {
    "colab": {
     "base_uri": "https://localhost:8080/",
     "height": 206
    },
    "id": "JUVxma1hqsEY",
    "outputId": "f971d47c-c535-41e1-ed7c-c9ccd0a19356"
   },
   "outputs": [
    {
     "data": {
      "text/html": [
       "<div>\n",
       "<style scoped>\n",
       "    .dataframe tbody tr th:only-of-type {\n",
       "        vertical-align: middle;\n",
       "    }\n",
       "\n",
       "    .dataframe tbody tr th {\n",
       "        vertical-align: top;\n",
       "    }\n",
       "\n",
       "    .dataframe thead th {\n",
       "        text-align: right;\n",
       "    }\n",
       "</style>\n",
       "<table border=\"1\" class=\"dataframe\">\n",
       "  <thead>\n",
       "    <tr style=\"text-align: right;\">\n",
       "      <th></th>\n",
       "      <th>userid</th>\n",
       "      <th>activity_id</th>\n",
       "      <th>join_date</th>\n",
       "    </tr>\n",
       "  </thead>\n",
       "  <tbody>\n",
       "    <tr>\n",
       "      <th>0</th>\n",
       "      <td>12899</td>\n",
       "      <td>481609</td>\n",
       "      <td>2024-11-15T17:14:26.242280Z</td>\n",
       "    </tr>\n",
       "    <tr>\n",
       "      <th>1</th>\n",
       "      <td>6108</td>\n",
       "      <td>481609</td>\n",
       "      <td>2024-11-15T20:34:36.798360Z</td>\n",
       "    </tr>\n",
       "    <tr>\n",
       "      <th>2</th>\n",
       "      <td>16248</td>\n",
       "      <td>481609</td>\n",
       "      <td>2024-11-15T20:36:21.153325Z</td>\n",
       "    </tr>\n",
       "    <tr>\n",
       "      <th>3</th>\n",
       "      <td>17933</td>\n",
       "      <td>481581</td>\n",
       "      <td>2024-11-12T12:34:58.524724Z</td>\n",
       "    </tr>\n",
       "    <tr>\n",
       "      <th>4</th>\n",
       "      <td>16214</td>\n",
       "      <td>481581</td>\n",
       "      <td>2024-11-15T08:53:30.830372Z</td>\n",
       "    </tr>\n",
       "  </tbody>\n",
       "</table>\n",
       "</div>"
      ],
      "text/plain": [
       "   userid  activity_id                    join_date\n",
       "0   12899       481609  2024-11-15T17:14:26.242280Z\n",
       "1    6108       481609  2024-11-15T20:34:36.798360Z\n",
       "2   16248       481609  2024-11-15T20:36:21.153325Z\n",
       "3   17933       481581  2024-11-12T12:34:58.524724Z\n",
       "4   16214       481581  2024-11-15T08:53:30.830372Z"
      ]
     },
     "execution_count": 177,
     "metadata": {},
     "output_type": "execute_result"
    }
   ],
   "source": [
    "activities_participants_df=pd.read_csv(filenames[3],index_col=0)\n",
    "activities_participants_df.head()"
   ]
  },
  {
   "cell_type": "code",
   "execution_count": 178,
   "metadata": {
    "colab": {
     "base_uri": "https://localhost:8080/",
     "height": 206
    },
    "id": "UkSEyzPeuKqF",
    "outputId": "09b478ed-939c-428d-e56e-8732d4bc9586"
   },
   "outputs": [
    {
     "data": {
      "text/html": [
       "<div>\n",
       "<style scoped>\n",
       "    .dataframe tbody tr th:only-of-type {\n",
       "        vertical-align: middle;\n",
       "    }\n",
       "\n",
       "    .dataframe tbody tr th {\n",
       "        vertical-align: top;\n",
       "    }\n",
       "\n",
       "    .dataframe thead th {\n",
       "        text-align: right;\n",
       "    }\n",
       "</style>\n",
       "<table border=\"1\" class=\"dataframe\">\n",
       "  <thead>\n",
       "    <tr style=\"text-align: right;\">\n",
       "      <th></th>\n",
       "      <th>activity_id</th>\n",
       "      <th>join_date</th>\n",
       "      <th>userid</th>\n",
       "      <th>weight</th>\n",
       "      <th>feedback</th>\n",
       "    </tr>\n",
       "  </thead>\n",
       "  <tbody>\n",
       "    <tr>\n",
       "      <th>0</th>\n",
       "      <td>481609</td>\n",
       "      <td>2024-11-16T19:37:03.575551Z</td>\n",
       "      <td>16248</td>\n",
       "      <td>0.0</td>\n",
       "      <td>NaN</td>\n",
       "    </tr>\n",
       "    <tr>\n",
       "      <th>1</th>\n",
       "      <td>481581</td>\n",
       "      <td>2024-11-16T18:39:25.724286Z</td>\n",
       "      <td>17933</td>\n",
       "      <td>0.1</td>\n",
       "      <td>NaN</td>\n",
       "    </tr>\n",
       "    <tr>\n",
       "      <th>2</th>\n",
       "      <td>481330</td>\n",
       "      <td>2024-11-16T15:05:40.050020Z</td>\n",
       "      <td>2769</td>\n",
       "      <td>1.0</td>\n",
       "      <td>NaN</td>\n",
       "    </tr>\n",
       "    <tr>\n",
       "      <th>3</th>\n",
       "      <td>479076</td>\n",
       "      <td>2024-11-15T19:48:08.385199Z</td>\n",
       "      <td>15945</td>\n",
       "      <td>6.0</td>\n",
       "      <td>the guy working there was super kind: got 6 re...</td>\n",
       "    </tr>\n",
       "    <tr>\n",
       "      <th>4</th>\n",
       "      <td>479019</td>\n",
       "      <td>2024-11-16T14:44:53.508255Z</td>\n",
       "      <td>15907</td>\n",
       "      <td>12.0</td>\n",
       "      <td>canned jackfruit \\n seasoning for meat \\n mayo...</td>\n",
       "    </tr>\n",
       "  </tbody>\n",
       "</table>\n",
       "</div>"
      ],
      "text/plain": [
       "   activity_id                    join_date  userid  weight  \\\n",
       "0       481609  2024-11-16T19:37:03.575551Z   16248     0.0   \n",
       "1       481581  2024-11-16T18:39:25.724286Z   17933     0.1   \n",
       "2       481330  2024-11-16T15:05:40.050020Z    2769     1.0   \n",
       "3       479076  2024-11-15T19:48:08.385199Z   15945     6.0   \n",
       "4       479019  2024-11-16T14:44:53.508255Z   15907    12.0   \n",
       "\n",
       "                                            feedback  \n",
       "0                                                NaN  \n",
       "1                                                NaN  \n",
       "2                                                NaN  \n",
       "3  the guy working there was super kind: got 6 re...  \n",
       "4  canned jackfruit \\n seasoning for meat \\n mayo...  "
      ]
     },
     "execution_count": 178,
     "metadata": {},
     "output_type": "execute_result"
    }
   ],
   "source": [
    "feedback_df=pd.read_csv(filenames[4],index_col=0)\n",
    "feedback_df.head()"
   ]
  },
  {
   "cell_type": "markdown",
   "metadata": {
    "id": "pigPShnaIT08"
   },
   "source": [
    "Below we provide possible ways to merge the datasets for a more comprehensive analysis:"
   ]
  },
  {
   "cell_type": "code",
   "execution_count": 179,
   "metadata": {
    "colab": {
     "base_uri": "https://localhost:8080/",
     "height": 504
    },
    "id": "_hiC3Wco2sBM",
    "outputId": "f2cb4365-5ec0-424b-9453-e0a1aa2b74f8"
   },
   "outputs": [
    {
     "data": {
      "text/html": [
       "<div>\n",
       "<style scoped>\n",
       "    .dataframe tbody tr th:only-of-type {\n",
       "        vertical-align: middle;\n",
       "    }\n",
       "\n",
       "    .dataframe tbody tr th {\n",
       "        vertical-align: top;\n",
       "    }\n",
       "\n",
       "    .dataframe thead th {\n",
       "        text-align: right;\n",
       "    }\n",
       "</style>\n",
       "<table border=\"1\" class=\"dataframe\">\n",
       "  <thead>\n",
       "    <tr style=\"text-align: right;\">\n",
       "      <th></th>\n",
       "      <th>activity_id</th>\n",
       "      <th>date_start</th>\n",
       "      <th>date_end</th>\n",
       "      <th>placeid</th>\n",
       "      <th>description</th>\n",
       "      <th>is_done</th>\n",
       "      <th>max_participants</th>\n",
       "      <th>feedback_due</th>\n",
       "      <th>name</th>\n",
       "      <th>meeting_point</th>\n",
       "      <th>instructions</th>\n",
       "      <th>store_log</th>\n",
       "      <th>address</th>\n",
       "      <th>latitude</th>\n",
       "      <th>longitude</th>\n",
       "      <th>status</th>\n",
       "    </tr>\n",
       "  </thead>\n",
       "  <tbody>\n",
       "    <tr>\n",
       "      <th>0</th>\n",
       "      <td>481609</td>\n",
       "      <td>2024-11-16T18:25:00+01:00</td>\n",
       "      <td>2024-11-16T18:55:00+01:00</td>\n",
       "      <td>854</td>\n",
       "      <td>Meeting point: Outside the shop  Closest HUB -...</td>\n",
       "      <td>True</td>\n",
       "      <td>3.0</td>\n",
       "      <td>2024-12-16T18:55:00+01:00</td>\n",
       "      <td>Spar</td>\n",
       "      <td>Outside the shop</td>\n",
       "      <td>You can expect anything from this shop, but us...</td>\n",
       "      <td>[2021/11] Ali and Kranti went there and spoke ...</td>\n",
       "      <td>Brusselsestraat 124, Leuven, Flemish Brabant, ...</td>\n",
       "      <td>50.880741</td>\n",
       "      <td>4.694760</td>\n",
       "      <td>active</td>\n",
       "    </tr>\n",
       "    <tr>\n",
       "      <th>1</th>\n",
       "      <td>481581</td>\n",
       "      <td>2024-11-16T17:55:00+01:00</td>\n",
       "      <td>2024-11-16T18:25:00+01:00</td>\n",
       "      <td>858</td>\n",
       "      <td>Meeting point: just inside the shop (read full...</td>\n",
       "      <td>True</td>\n",
       "      <td>5.0</td>\n",
       "      <td>2024-12-16T18:25:00+01:00</td>\n",
       "      <td>Delhaize Leuven</td>\n",
       "      <td>Outside the shop</td>\n",
       "      <td>Mainly bread and pastries, can be a lot, so be...</td>\n",
       "      <td>[17/12/2022] Pickups Restarted\\nThe pickup tim...</td>\n",
       "      <td>Brusselsestraat 31, Leuven, Flemish Brabant, 3...</td>\n",
       "      <td>50.879549</td>\n",
       "      <td>4.698835</td>\n",
       "      <td>active</td>\n",
       "    </tr>\n",
       "    <tr>\n",
       "      <th>2</th>\n",
       "      <td>481330</td>\n",
       "      <td>2024-11-15T20:15:00+01:00</td>\n",
       "      <td>2024-11-15T20:45:00+01:00</td>\n",
       "      <td>760</td>\n",
       "      <td>Meeting point: Outside the shop   Closest HUB ...</td>\n",
       "      <td>True</td>\n",
       "      <td>2.0</td>\n",
       "      <td>2024-12-15T20:45:00+01:00</td>\n",
       "      <td>Carrefour Express</td>\n",
       "      <td>Outside the shop</td>\n",
       "      <td>You can expect anything from this shop, but us...</td>\n",
       "      <td>During corona, the shop closed. and wasn't ope...</td>\n",
       "      <td>Rector de Somerplein 12, Leuven, Flemish Braba...</td>\n",
       "      <td>50.879021</td>\n",
       "      <td>4.703237</td>\n",
       "      <td>active</td>\n",
       "    </tr>\n",
       "    <tr>\n",
       "      <th>3</th>\n",
       "      <td>479076</td>\n",
       "      <td>2024-11-15T19:55:00+01:00</td>\n",
       "      <td>2024-11-15T20:25:00+01:00</td>\n",
       "      <td>2766</td>\n",
       "      <td>- Closest HUB - AGORA learning centre (for bre...</td>\n",
       "      <td>True</td>\n",
       "      <td>1.0</td>\n",
       "      <td>2024-12-15T20:25:00+01:00</td>\n",
       "      <td>Shop &amp; Go Delhaize</td>\n",
       "      <td>Outside the shop</td>\n",
       "      <td>You can expect anything from this shop, but us...</td>\n",
       "      <td>It was very easy to talk to the owner! He is r...</td>\n",
       "      <td>Diestsestraat 228, Leuven, Flemish Brabant, 30...</td>\n",
       "      <td>50.881850</td>\n",
       "      <td>4.713093</td>\n",
       "      <td>active</td>\n",
       "    </tr>\n",
       "    <tr>\n",
       "      <th>4</th>\n",
       "      <td>479019</td>\n",
       "      <td>2024-11-15T19:00:00+01:00</td>\n",
       "      <td>2024-11-15T19:30:00+01:00</td>\n",
       "      <td>2642</td>\n",
       "      <td>Meeting point: Outside the shop   Closest HUB ...</td>\n",
       "      <td>True</td>\n",
       "      <td>3.0</td>\n",
       "      <td>2024-12-15T19:30:00+01:00</td>\n",
       "      <td>Exotic World</td>\n",
       "      <td>In front of the store - contact the lady at th...</td>\n",
       "      <td>Usually packaged items past their best-before ...</td>\n",
       "      <td>NaN</td>\n",
       "      <td>Brusselsestraat 44, Leuven, Flemish Brabant, 3...</td>\n",
       "      <td>50.881096</td>\n",
       "      <td>4.690018</td>\n",
       "      <td>active</td>\n",
       "    </tr>\n",
       "  </tbody>\n",
       "</table>\n",
       "</div>"
      ],
      "text/plain": [
       "   activity_id                 date_start                   date_end  placeid  \\\n",
       "0       481609  2024-11-16T18:25:00+01:00  2024-11-16T18:55:00+01:00      854   \n",
       "1       481581  2024-11-16T17:55:00+01:00  2024-11-16T18:25:00+01:00      858   \n",
       "2       481330  2024-11-15T20:15:00+01:00  2024-11-15T20:45:00+01:00      760   \n",
       "3       479076  2024-11-15T19:55:00+01:00  2024-11-15T20:25:00+01:00     2766   \n",
       "4       479019  2024-11-15T19:00:00+01:00  2024-11-15T19:30:00+01:00     2642   \n",
       "\n",
       "                                         description  is_done  \\\n",
       "0  Meeting point: Outside the shop  Closest HUB -...     True   \n",
       "1  Meeting point: just inside the shop (read full...     True   \n",
       "2  Meeting point: Outside the shop   Closest HUB ...     True   \n",
       "3  - Closest HUB - AGORA learning centre (for bre...     True   \n",
       "4  Meeting point: Outside the shop   Closest HUB ...     True   \n",
       "\n",
       "   max_participants               feedback_due                name  \\\n",
       "0               3.0  2024-12-16T18:55:00+01:00                Spar   \n",
       "1               5.0  2024-12-16T18:25:00+01:00     Delhaize Leuven   \n",
       "2               2.0  2024-12-15T20:45:00+01:00   Carrefour Express   \n",
       "3               1.0  2024-12-15T20:25:00+01:00  Shop & Go Delhaize   \n",
       "4               3.0  2024-12-15T19:30:00+01:00        Exotic World   \n",
       "\n",
       "                                       meeting_point  \\\n",
       "0                                   Outside the shop   \n",
       "1                                   Outside the shop   \n",
       "2                                   Outside the shop   \n",
       "3                                   Outside the shop   \n",
       "4  In front of the store - contact the lady at th...   \n",
       "\n",
       "                                        instructions  \\\n",
       "0  You can expect anything from this shop, but us...   \n",
       "1  Mainly bread and pastries, can be a lot, so be...   \n",
       "2  You can expect anything from this shop, but us...   \n",
       "3  You can expect anything from this shop, but us...   \n",
       "4  Usually packaged items past their best-before ...   \n",
       "\n",
       "                                           store_log  \\\n",
       "0  [2021/11] Ali and Kranti went there and spoke ...   \n",
       "1  [17/12/2022] Pickups Restarted\\nThe pickup tim...   \n",
       "2  During corona, the shop closed. and wasn't ope...   \n",
       "3  It was very easy to talk to the owner! He is r...   \n",
       "4                                                NaN   \n",
       "\n",
       "                                             address   latitude  longitude  \\\n",
       "0  Brusselsestraat 124, Leuven, Flemish Brabant, ...  50.880741   4.694760   \n",
       "1  Brusselsestraat 31, Leuven, Flemish Brabant, 3...  50.879549   4.698835   \n",
       "2  Rector de Somerplein 12, Leuven, Flemish Braba...  50.879021   4.703237   \n",
       "3  Diestsestraat 228, Leuven, Flemish Brabant, 30...  50.881850   4.713093   \n",
       "4  Brusselsestraat 44, Leuven, Flemish Brabant, 3...  50.881096   4.690018   \n",
       "\n",
       "   status  \n",
       "0  active  \n",
       "1  active  \n",
       "2  active  \n",
       "3  active  \n",
       "4  active  "
      ]
     },
     "execution_count": 179,
     "metadata": {},
     "output_type": "execute_result"
    }
   ],
   "source": [
    "# Merging activities_df with places_df on the \"placeid\" column\n",
    "# Using a LEFT JOIN to keep all rows from activities_df\n",
    "(activities_df\n",
    ".merge(places_df, on=\"placeid\", how=\"left\")\n",
    ").head()"
   ]
  },
  {
   "cell_type": "code",
   "execution_count": 180,
   "metadata": {
    "colab": {
     "base_uri": "https://localhost:8080/",
     "height": 206
    },
    "id": "STgXMQgs7fQ4",
    "outputId": "6ca257fc-c3cd-4221-c445-8135a941824a"
   },
   "outputs": [
    {
     "data": {
      "text/html": [
       "<div>\n",
       "<style scoped>\n",
       "    .dataframe tbody tr th:only-of-type {\n",
       "        vertical-align: middle;\n",
       "    }\n",
       "\n",
       "    .dataframe tbody tr th {\n",
       "        vertical-align: top;\n",
       "    }\n",
       "\n",
       "    .dataframe thead th {\n",
       "        text-align: right;\n",
       "    }\n",
       "</style>\n",
       "<table border=\"1\" class=\"dataframe\">\n",
       "  <thead>\n",
       "    <tr style=\"text-align: right;\">\n",
       "      <th></th>\n",
       "      <th>userid</th>\n",
       "      <th>activity_id</th>\n",
       "      <th>join_date_activity</th>\n",
       "      <th>trust_level</th>\n",
       "      <th>added_date</th>\n",
       "      <th>join_date_feedback</th>\n",
       "      <th>weight</th>\n",
       "      <th>feedback</th>\n",
       "    </tr>\n",
       "  </thead>\n",
       "  <tbody>\n",
       "    <tr>\n",
       "      <th>0</th>\n",
       "      <td>12899</td>\n",
       "      <td>481609</td>\n",
       "      <td>2024-11-15T17:14:26.242280Z</td>\n",
       "      <td>1.0</td>\n",
       "      <td>Sep 24, 2022, 12:23 PM</td>\n",
       "      <td>NaN</td>\n",
       "      <td>NaN</td>\n",
       "      <td>NaN</td>\n",
       "    </tr>\n",
       "    <tr>\n",
       "      <th>1</th>\n",
       "      <td>6108</td>\n",
       "      <td>481609</td>\n",
       "      <td>2024-11-15T20:34:36.798360Z</td>\n",
       "      <td>3.0</td>\n",
       "      <td>Sep 24, 2023, 9:19 AM</td>\n",
       "      <td>NaN</td>\n",
       "      <td>NaN</td>\n",
       "      <td>NaN</td>\n",
       "    </tr>\n",
       "    <tr>\n",
       "      <th>2</th>\n",
       "      <td>16248</td>\n",
       "      <td>481609</td>\n",
       "      <td>2024-11-15T20:36:21.153325Z</td>\n",
       "      <td>6.0</td>\n",
       "      <td>Sep 24, 2023, 9:18 AM</td>\n",
       "      <td>2024-11-16T19:37:03.575551Z</td>\n",
       "      <td>0.0</td>\n",
       "      <td>NaN</td>\n",
       "    </tr>\n",
       "    <tr>\n",
       "      <th>3</th>\n",
       "      <td>17933</td>\n",
       "      <td>481581</td>\n",
       "      <td>2024-11-12T12:34:58.524724Z</td>\n",
       "      <td>0.0</td>\n",
       "      <td>Sep 11, 2024, 11:08 AM</td>\n",
       "      <td>2024-11-16T18:39:25.724286Z</td>\n",
       "      <td>0.1</td>\n",
       "      <td>NaN</td>\n",
       "    </tr>\n",
       "    <tr>\n",
       "      <th>4</th>\n",
       "      <td>16214</td>\n",
       "      <td>481581</td>\n",
       "      <td>2024-11-15T08:53:30.830372Z</td>\n",
       "      <td>0.0</td>\n",
       "      <td>Sep 30, 2024, 9:19 PM</td>\n",
       "      <td>NaN</td>\n",
       "      <td>NaN</td>\n",
       "      <td>NaN</td>\n",
       "    </tr>\n",
       "  </tbody>\n",
       "</table>\n",
       "</div>"
      ],
      "text/plain": [
       "   userid  activity_id           join_date_activity  trust_level  \\\n",
       "0   12899       481609  2024-11-15T17:14:26.242280Z          1.0   \n",
       "1    6108       481609  2024-11-15T20:34:36.798360Z          3.0   \n",
       "2   16248       481609  2024-11-15T20:36:21.153325Z          6.0   \n",
       "3   17933       481581  2024-11-12T12:34:58.524724Z          0.0   \n",
       "4   16214       481581  2024-11-15T08:53:30.830372Z          0.0   \n",
       "\n",
       "               added_date           join_date_feedback  weight feedback  \n",
       "0  Sep 24, 2022, 12:23 PM                          NaN     NaN      NaN  \n",
       "1   Sep 24, 2023, 9:19 AM                          NaN     NaN      NaN  \n",
       "2   Sep 24, 2023, 9:18 AM  2024-11-16T19:37:03.575551Z     0.0      NaN  \n",
       "3  Sep 11, 2024, 11:08 AM  2024-11-16T18:39:25.724286Z     0.1      NaN  \n",
       "4   Sep 30, 2024, 9:19 PM                          NaN     NaN      NaN  "
      ]
     },
     "execution_count": 180,
     "metadata": {},
     "output_type": "execute_result"
    }
   ],
   "source": [
    "# Merging multiple DataFrames to combine participant data, member details, and feedback:\n",
    "(\n",
    "    activities_participants_df\n",
    "    # First, merge participant data with member information using the \"userid\" column\n",
    "    .merge(members_df, on=\"userid\", how=\"left\")\n",
    "    # Then, merge the resulting DataFrame with feedback information\n",
    "    # This merge is based on both \"userid\" and \"activity_id\" columns\n",
    "    .merge(feedback_df, on=[\"userid\", \"activity_id\"], how=\"left\", suffixes=[\"_activity\", \"_feedback\"])\n",
    ").head()"
   ]
  },
  {
   "cell_type": "code",
   "execution_count": 181,
   "metadata": {
    "colab": {
     "base_uri": "https://localhost:8080/",
     "height": 516
    },
    "id": "shPnYZbz92KT",
    "outputId": "10755661-544a-4486-bbfb-64544abab430"
   },
   "outputs": [
    {
     "data": {
      "text/html": [
       "<div>\n",
       "<style scoped>\n",
       "    .dataframe tbody tr th:only-of-type {\n",
       "        vertical-align: middle;\n",
       "    }\n",
       "\n",
       "    .dataframe tbody tr th {\n",
       "        vertical-align: top;\n",
       "    }\n",
       "\n",
       "    .dataframe thead th {\n",
       "        text-align: right;\n",
       "    }\n",
       "</style>\n",
       "<table border=\"1\" class=\"dataframe\">\n",
       "  <thead>\n",
       "    <tr style=\"text-align: right;\">\n",
       "      <th></th>\n",
       "      <th>userid</th>\n",
       "      <th>activity_id</th>\n",
       "      <th>join_date_activity</th>\n",
       "      <th>trust_level</th>\n",
       "      <th>added_date</th>\n",
       "      <th>join_date_feedback</th>\n",
       "      <th>weight</th>\n",
       "      <th>feedback</th>\n",
       "      <th>date_start</th>\n",
       "      <th>date_end</th>\n",
       "      <th>...</th>\n",
       "      <th>max_participants</th>\n",
       "      <th>feedback_due</th>\n",
       "      <th>name</th>\n",
       "      <th>meeting_point</th>\n",
       "      <th>instructions</th>\n",
       "      <th>store_log</th>\n",
       "      <th>address</th>\n",
       "      <th>latitude</th>\n",
       "      <th>longitude</th>\n",
       "      <th>status</th>\n",
       "    </tr>\n",
       "  </thead>\n",
       "  <tbody>\n",
       "    <tr>\n",
       "      <th>0</th>\n",
       "      <td>12899</td>\n",
       "      <td>481609</td>\n",
       "      <td>2024-11-15T17:14:26.242280Z</td>\n",
       "      <td>1.0</td>\n",
       "      <td>Sep 24, 2022, 12:23 PM</td>\n",
       "      <td>NaN</td>\n",
       "      <td>NaN</td>\n",
       "      <td>NaN</td>\n",
       "      <td>2024-11-16T18:25:00+01:00</td>\n",
       "      <td>2024-11-16T18:55:00+01:00</td>\n",
       "      <td>...</td>\n",
       "      <td>3.0</td>\n",
       "      <td>2024-12-16T18:55:00+01:00</td>\n",
       "      <td>Spar</td>\n",
       "      <td>Outside the shop</td>\n",
       "      <td>You can expect anything from this shop, but us...</td>\n",
       "      <td>[2021/11] Ali and Kranti went there and spoke ...</td>\n",
       "      <td>Brusselsestraat 124, Leuven, Flemish Brabant, ...</td>\n",
       "      <td>50.880741</td>\n",
       "      <td>4.694760</td>\n",
       "      <td>active</td>\n",
       "    </tr>\n",
       "    <tr>\n",
       "      <th>1</th>\n",
       "      <td>6108</td>\n",
       "      <td>481609</td>\n",
       "      <td>2024-11-15T20:34:36.798360Z</td>\n",
       "      <td>3.0</td>\n",
       "      <td>Sep 24, 2023, 9:19 AM</td>\n",
       "      <td>NaN</td>\n",
       "      <td>NaN</td>\n",
       "      <td>NaN</td>\n",
       "      <td>2024-11-16T18:25:00+01:00</td>\n",
       "      <td>2024-11-16T18:55:00+01:00</td>\n",
       "      <td>...</td>\n",
       "      <td>3.0</td>\n",
       "      <td>2024-12-16T18:55:00+01:00</td>\n",
       "      <td>Spar</td>\n",
       "      <td>Outside the shop</td>\n",
       "      <td>You can expect anything from this shop, but us...</td>\n",
       "      <td>[2021/11] Ali and Kranti went there and spoke ...</td>\n",
       "      <td>Brusselsestraat 124, Leuven, Flemish Brabant, ...</td>\n",
       "      <td>50.880741</td>\n",
       "      <td>4.694760</td>\n",
       "      <td>active</td>\n",
       "    </tr>\n",
       "    <tr>\n",
       "      <th>2</th>\n",
       "      <td>16248</td>\n",
       "      <td>481609</td>\n",
       "      <td>2024-11-15T20:36:21.153325Z</td>\n",
       "      <td>6.0</td>\n",
       "      <td>Sep 24, 2023, 9:18 AM</td>\n",
       "      <td>2024-11-16T19:37:03.575551Z</td>\n",
       "      <td>0.0</td>\n",
       "      <td>NaN</td>\n",
       "      <td>2024-11-16T18:25:00+01:00</td>\n",
       "      <td>2024-11-16T18:55:00+01:00</td>\n",
       "      <td>...</td>\n",
       "      <td>3.0</td>\n",
       "      <td>2024-12-16T18:55:00+01:00</td>\n",
       "      <td>Spar</td>\n",
       "      <td>Outside the shop</td>\n",
       "      <td>You can expect anything from this shop, but us...</td>\n",
       "      <td>[2021/11] Ali and Kranti went there and spoke ...</td>\n",
       "      <td>Brusselsestraat 124, Leuven, Flemish Brabant, ...</td>\n",
       "      <td>50.880741</td>\n",
       "      <td>4.694760</td>\n",
       "      <td>active</td>\n",
       "    </tr>\n",
       "    <tr>\n",
       "      <th>3</th>\n",
       "      <td>17933</td>\n",
       "      <td>481581</td>\n",
       "      <td>2024-11-12T12:34:58.524724Z</td>\n",
       "      <td>0.0</td>\n",
       "      <td>Sep 11, 2024, 11:08 AM</td>\n",
       "      <td>2024-11-16T18:39:25.724286Z</td>\n",
       "      <td>0.1</td>\n",
       "      <td>NaN</td>\n",
       "      <td>2024-11-16T17:55:00+01:00</td>\n",
       "      <td>2024-11-16T18:25:00+01:00</td>\n",
       "      <td>...</td>\n",
       "      <td>5.0</td>\n",
       "      <td>2024-12-16T18:25:00+01:00</td>\n",
       "      <td>Delhaize Leuven</td>\n",
       "      <td>Outside the shop</td>\n",
       "      <td>Mainly bread and pastries, can be a lot, so be...</td>\n",
       "      <td>[17/12/2022] Pickups Restarted\\nThe pickup tim...</td>\n",
       "      <td>Brusselsestraat 31, Leuven, Flemish Brabant, 3...</td>\n",
       "      <td>50.879549</td>\n",
       "      <td>4.698835</td>\n",
       "      <td>active</td>\n",
       "    </tr>\n",
       "    <tr>\n",
       "      <th>4</th>\n",
       "      <td>16214</td>\n",
       "      <td>481581</td>\n",
       "      <td>2024-11-15T08:53:30.830372Z</td>\n",
       "      <td>0.0</td>\n",
       "      <td>Sep 30, 2024, 9:19 PM</td>\n",
       "      <td>NaN</td>\n",
       "      <td>NaN</td>\n",
       "      <td>NaN</td>\n",
       "      <td>2024-11-16T17:55:00+01:00</td>\n",
       "      <td>2024-11-16T18:25:00+01:00</td>\n",
       "      <td>...</td>\n",
       "      <td>5.0</td>\n",
       "      <td>2024-12-16T18:25:00+01:00</td>\n",
       "      <td>Delhaize Leuven</td>\n",
       "      <td>Outside the shop</td>\n",
       "      <td>Mainly bread and pastries, can be a lot, so be...</td>\n",
       "      <td>[17/12/2022] Pickups Restarted\\nThe pickup tim...</td>\n",
       "      <td>Brusselsestraat 31, Leuven, Flemish Brabant, 3...</td>\n",
       "      <td>50.879549</td>\n",
       "      <td>4.698835</td>\n",
       "      <td>active</td>\n",
       "    </tr>\n",
       "  </tbody>\n",
       "</table>\n",
       "<p>5 rows × 23 columns</p>\n",
       "</div>"
      ],
      "text/plain": [
       "   userid  activity_id           join_date_activity  trust_level  \\\n",
       "0   12899       481609  2024-11-15T17:14:26.242280Z          1.0   \n",
       "1    6108       481609  2024-11-15T20:34:36.798360Z          3.0   \n",
       "2   16248       481609  2024-11-15T20:36:21.153325Z          6.0   \n",
       "3   17933       481581  2024-11-12T12:34:58.524724Z          0.0   \n",
       "4   16214       481581  2024-11-15T08:53:30.830372Z          0.0   \n",
       "\n",
       "               added_date           join_date_feedback  weight feedback  \\\n",
       "0  Sep 24, 2022, 12:23 PM                          NaN     NaN      NaN   \n",
       "1   Sep 24, 2023, 9:19 AM                          NaN     NaN      NaN   \n",
       "2   Sep 24, 2023, 9:18 AM  2024-11-16T19:37:03.575551Z     0.0      NaN   \n",
       "3  Sep 11, 2024, 11:08 AM  2024-11-16T18:39:25.724286Z     0.1      NaN   \n",
       "4   Sep 30, 2024, 9:19 PM                          NaN     NaN      NaN   \n",
       "\n",
       "                  date_start                   date_end  ...  \\\n",
       "0  2024-11-16T18:25:00+01:00  2024-11-16T18:55:00+01:00  ...   \n",
       "1  2024-11-16T18:25:00+01:00  2024-11-16T18:55:00+01:00  ...   \n",
       "2  2024-11-16T18:25:00+01:00  2024-11-16T18:55:00+01:00  ...   \n",
       "3  2024-11-16T17:55:00+01:00  2024-11-16T18:25:00+01:00  ...   \n",
       "4  2024-11-16T17:55:00+01:00  2024-11-16T18:25:00+01:00  ...   \n",
       "\n",
       "   max_participants               feedback_due             name  \\\n",
       "0               3.0  2024-12-16T18:55:00+01:00             Spar   \n",
       "1               3.0  2024-12-16T18:55:00+01:00             Spar   \n",
       "2               3.0  2024-12-16T18:55:00+01:00             Spar   \n",
       "3               5.0  2024-12-16T18:25:00+01:00  Delhaize Leuven   \n",
       "4               5.0  2024-12-16T18:25:00+01:00  Delhaize Leuven   \n",
       "\n",
       "      meeting_point                                       instructions  \\\n",
       "0  Outside the shop  You can expect anything from this shop, but us...   \n",
       "1  Outside the shop  You can expect anything from this shop, but us...   \n",
       "2  Outside the shop  You can expect anything from this shop, but us...   \n",
       "3  Outside the shop  Mainly bread and pastries, can be a lot, so be...   \n",
       "4  Outside the shop  Mainly bread and pastries, can be a lot, so be...   \n",
       "\n",
       "                                           store_log  \\\n",
       "0  [2021/11] Ali and Kranti went there and spoke ...   \n",
       "1  [2021/11] Ali and Kranti went there and spoke ...   \n",
       "2  [2021/11] Ali and Kranti went there and spoke ...   \n",
       "3  [17/12/2022] Pickups Restarted\\nThe pickup tim...   \n",
       "4  [17/12/2022] Pickups Restarted\\nThe pickup tim...   \n",
       "\n",
       "                                             address   latitude longitude  \\\n",
       "0  Brusselsestraat 124, Leuven, Flemish Brabant, ...  50.880741  4.694760   \n",
       "1  Brusselsestraat 124, Leuven, Flemish Brabant, ...  50.880741  4.694760   \n",
       "2  Brusselsestraat 124, Leuven, Flemish Brabant, ...  50.880741  4.694760   \n",
       "3  Brusselsestraat 31, Leuven, Flemish Brabant, 3...  50.879549  4.698835   \n",
       "4  Brusselsestraat 31, Leuven, Flemish Brabant, 3...  50.879549  4.698835   \n",
       "\n",
       "   status  \n",
       "0  active  \n",
       "1  active  \n",
       "2  active  \n",
       "3  active  \n",
       "4  active  \n",
       "\n",
       "[5 rows x 23 columns]"
      ]
     },
     "execution_count": 181,
     "metadata": {},
     "output_type": "execute_result"
    }
   ],
   "source": [
    "(\n",
    "    # Start with the activities participants DataFrame\n",
    "    activities_participants_df\n",
    "    # Merge with the members DataFrame to add user details using the \"userid\" column\n",
    "    .merge(members_df, on=\"userid\", how=\"left\")\n",
    "    # Merge the resulting DataFrame with feedback data\n",
    "    # Use both \"userid\" and \"activity_id\" as keys to include feedback for specific activities\n",
    "    .merge(\n",
    "        feedback_df,\n",
    "        on=[\"userid\", \"activity_id\"],\n",
    "        how=\"left\",\n",
    "        suffixes=[\"_activity\", \"_feedback\"]  # Add suffixes to avoid column name conflicts\n",
    "    )\n",
    "    # Merge with activities DataFrame to add activity-specific details using \"activity_id\"\n",
    "    .merge(activities_df, on=\"activity_id\", how=\"left\")\n",
    "    # Merge with places DataFrame to add location information using the \"placeid\" column\n",
    "    .merge(places_df, on=\"placeid\", how=\"left\")\n",
    ").head()\n"
   ]
  },
  {
   "cell_type": "markdown",
   "metadata": {
    "id": "yDaj9nEtKTS4"
   },
   "source": [
    "## Leuven Demographics\n",
    "Here is how to load the data for the Leuven Demographics datasets:"
   ]
  },
  {
   "cell_type": "code",
   "execution_count": 182,
   "metadata": {
    "id": "JlMJf23IKVCu"
   },
   "outputs": [],
   "source": [
    "import pandas as pd\n",
    "import os\n",
    "\n",
    "sheets = {\n",
    "    \"commercial_catering\": (\"leuven_demographics/commercial_stats.xlsx\", \"catering\"),\n",
    "    \"commercial_consumer\": (\"leuven_demographics/commercial_stats.xlsx\", \"consumer_services\"),\n",
    "    \"demographics_age\": (\"leuven_demographics/demographics.xlsx\", \"age\"),\n",
    "    \"demographics_nationality\": (\"leuven_demographics/demographics.xlsx\", \"nationality\"),\n",
    "    \"demographics_household\": (\"leuven_demographics/demographics.xlsx\", \"household\"),\n",
    "    \"income_income\": (\"leuven_demographics/income.xlsx\", \"income\"),\n",
    "    \"income_taxpayers\": (\"leuven_demographics/income.xlsx\", \"taxpayers\"),\n",
    "    \"income_declarations\": (\"leuven_demographics/income.xlsx\", \"declarations\"),\n",
    "    \"space_residential_units\": (\"leuven_demographics/space_and_housing.xlsx\", \"residential_units\"),\n",
    "    \"space_space_occupations\": (\"leuven_demographics/space_and_housing.xlsx\", \"space_occupation\")\n",
    "}\n",
    "\n",
    "# Load data into a dictionary of DataFrames\n",
    "dataframes = {\n",
    "    key: pd.read_excel(\n",
    "        file,\n",
    "        sheet_name=sheet,\n",
    "        index_col=0\n",
    "    ).rename_axis(\"statistical_sector\")\n",
    "    for key, (file, sheet) in sheets.items()\n",
    "}\n",
    "\n",
    "# Unpack specific DataFrames for direct use\n",
    "(\n",
    "    commercial_catering_df,\n",
    "    commercial_consumer_df,\n",
    "    demographics_age_df,\n",
    "    demographics_nationality_df,\n",
    "    demographics_household_df,\n",
    "    income_income_df,\n",
    "    income_taxpayers_df,\n",
    "    income_declarations_df,\n",
    "    space_residential_units_df,\n",
    "    space_space_occupations_df\n",
    ") = dataframes.values()"
   ]
  },
  {
   "cell_type": "markdown",
   "metadata": {
    "id": "-5wvBopGEoYf"
   },
   "source": [
    "Let's plot the distribution of nationalities across all statistical sectors:"
   ]
  },
  {
   "cell_type": "code",
   "execution_count": 183,
   "metadata": {
    "colab": {
     "base_uri": "https://localhost:8080/",
     "height": 1000
    },
    "id": "x0NyqmkV_9SD",
    "outputId": "aee79ea6-3894-40d0-b7d3-5e17f3034650"
   },
   "outputs": [
    {
     "data": {
      "image/png": "[encoded data removed]",
      "text/plain": [
       "<Figure size 800x1500 with 1 Axes>"
      ]
     },
     "metadata": {},
     "output_type": "display_data"
    }
   ],
   "source": [
    "import matplotlib.pyplot as plt\n",
    "\n",
    "data = demographics_nationality_df[\"Total_Nationalities\"]\n",
    "data_grouped = data.sort_values(ascending=False).copy()\n",
    "\n",
    "threshold = 5\n",
    "others = data_grouped[data_grouped < threshold].sum()\n",
    "data_grouped = data_grouped[data_grouped >= threshold]\n",
    "data_grouped[\"Other\"] = others\n",
    "\n",
    "data_grouped.sort_values(ascending=False).plot.barh(\n",
    "    figsize=(8, 15),\n",
    "    color=\"skyblue\",\n",
    "    edgecolor=\"black\"\n",
    ")\n",
    "plt.title(\"Total Nationalities in Leuven\", fontsize=16)\n",
    "plt.xlabel(\"Count\", fontsize=12)\n",
    "plt.ylabel(\"Sectors\", fontsize=10)\n",
    "plt.grid(axis=\"x\", linestyle=\"--\", alpha=0.7)\n",
    "plt.tight_layout()\n",
    "\n",
    "plt.show()\n"
   ]
  },
  {
   "cell_type": "markdown",
   "metadata": {
    "id": "WoNf7rosE_EW"
   },
   "source": [
    "Let's plot the distribution of average net income per capita across sectors across all statistical sectors:"
   ]
  },
  {
   "cell_type": "code",
   "execution_count": 184,
   "metadata": {
    "colab": {
     "base_uri": "https://localhost:8080/",
     "height": 623
    },
    "id": "_9JbEbACAswo",
    "outputId": "13c32f5c-fe0b-4c42-b496-5bca8d44b0db"
   },
   "outputs": [
    {
     "data": {
      "image/png": "[encoded data removed]",
      "text/plain": [
       "<Figure size 1500x800 with 1 Axes>"
      ]
     },
     "metadata": {},
     "output_type": "display_data"
    }
   ],
   "source": [
    "import matplotlib.pyplot as plt\n",
    "\n",
    "data = income_income_df[\"avg_net_taxable_income_per_capita\"].sort_values(ascending=False).copy()\n",
    "\n",
    "data.sort_values(ascending=False).plot.bar(\n",
    "    figsize=(15, 8),\n",
    "    color=\"skyblue\",\n",
    "    edgecolor=\"black\"\n",
    ")\n",
    "plt.title(\"Average Net Income Per Capita across Sectors in Leuven\", fontsize=16)\n",
    "plt.ylabel(\"Income Per Capita\", fontsize=12)\n",
    "plt.xlabel(\"Sector\", fontsize=10)\n",
    "plt.grid(axis=\"y\", linestyle=\"--\", alpha=0.7)\n",
    "plt.tight_layout()\n",
    "\n",
    "plt.show()"
   ]
  },
  {
   "cell_type": "markdown",
   "metadata": {},
   "source": [
    "# Test Open Street Food Leuven Places"
   ]
  },
  {
   "cell_type": "code",
   "execution_count": 185,
   "metadata": {},
   "outputs": [],
   "source": [
    "# Merging multiple DataFrames to combine participant data, member details, and feedback:\n",
    "places_df = places_df.rename(columns={\"latitude\": \"lat\", \"longitude\": \"lon\"})"
   ]
  },
  {
   "cell_type": "code",
   "execution_count": 186,
   "metadata": {},
   "outputs": [
    {
     "name": "stdout",
     "output_type": "stream",
     "text": [
      "lat    1\n",
      "lon    1\n",
      "dtype: int64\n",
      "lat    0\n",
      "lon    0\n",
      "dtype: int64\n"
     ]
    }
   ],
   "source": [
    "print(places_df[['lat', 'lon']].isnull().sum())\n",
    "print(openstreetmap_df[['lat', 'lon']].isnull().sum())\n"
   ]
  },
  {
   "cell_type": "code",
   "execution_count": 187,
   "metadata": {},
   "outputs": [],
   "source": [
    "places_df = places_df.dropna(subset=['lat', 'lon'])\n",
    "openstreetmap_df = openstreetmap_df.dropna(subset=['lat', 'lon'])\n"
   ]
  },
  {
   "cell_type": "code",
   "execution_count": 188,
   "metadata": {},
   "outputs": [],
   "source": [
    "import pandasql as ps"
   ]
  },
  {
   "cell_type": "code",
   "execution_count": 191,
   "metadata": {},
   "outputs": [
    {
     "data": {
      "text/html": [
       "<div>\n",
       "<style scoped>\n",
       "    .dataframe tbody tr th:only-of-type {\n",
       "        vertical-align: middle;\n",
       "    }\n",
       "\n",
       "    .dataframe tbody tr th {\n",
       "        vertical-align: top;\n",
       "    }\n",
       "\n",
       "    .dataframe thead th {\n",
       "        text-align: right;\n",
       "    }\n",
       "</style>\n",
       "<table border=\"1\" class=\"dataframe\">\n",
       "  <thead>\n",
       "    <tr style=\"text-align: right;\">\n",
       "      <th></th>\n",
       "      <th>name</th>\n",
       "      <th>placeid</th>\n",
       "      <th>meeting_point</th>\n",
       "      <th>instructions</th>\n",
       "      <th>store_log</th>\n",
       "      <th>address</th>\n",
       "      <th>lat</th>\n",
       "      <th>lon</th>\n",
       "      <th>status</th>\n",
       "      <th>city</th>\n",
       "      <th>...</th>\n",
       "      <th>postcode</th>\n",
       "      <th>street</th>\n",
       "      <th>opening_hours</th>\n",
       "      <th>amenity_type</th>\n",
       "      <th>amenity_extra</th>\n",
       "      <th>website</th>\n",
       "      <th>x</th>\n",
       "      <th>y</th>\n",
       "      <th>statistical_sector</th>\n",
       "      <th>geometry</th>\n",
       "    </tr>\n",
       "  </thead>\n",
       "  <tbody>\n",
       "    <tr>\n",
       "      <th>0</th>\n",
       "      <td>Exotic World</td>\n",
       "      <td>2642</td>\n",
       "      <td>In front of the store - contact the lady at th...</td>\n",
       "      <td>Usually packaged items past their best-before ...</td>\n",
       "      <td>NaN</td>\n",
       "      <td>Brusselsestraat 44, Leuven, Flemish Brabant, 3...</td>\n",
       "      <td>50.881096</td>\n",
       "      <td>4.690018</td>\n",
       "      <td>active</td>\n",
       "      <td>Leuven</td>\n",
       "      <td>...</td>\n",
       "      <td>3000.0</td>\n",
       "      <td>Mechelsestraat</td>\n",
       "      <td>NaN</td>\n",
       "      <td>restaurant</td>\n",
       "      <td>lunch</td>\n",
       "      <td>NaN</td>\n",
       "      <td>173268.672970</td>\n",
       "      <td>174576.996697</td>\n",
       "      <td>Lei - vismarkt</td>\n",
       "      <td>POINT (4.6994 50.88109)</td>\n",
       "    </tr>\n",
       "    <tr>\n",
       "      <th>1</th>\n",
       "      <td>OHL stadium</td>\n",
       "      <td>2188</td>\n",
       "      <td>NaN</td>\n",
       "      <td>NaN</td>\n",
       "      <td>OHL stadium makes events and contacts us when ...</td>\n",
       "      <td>NaN</td>\n",
       "      <td>50.867904</td>\n",
       "      <td>4.693608</td>\n",
       "      <td>active</td>\n",
       "      <td>NaN</td>\n",
       "      <td>...</td>\n",
       "      <td>NaN</td>\n",
       "      <td>NaN</td>\n",
       "      <td>NaN</td>\n",
       "      <td>NaN</td>\n",
       "      <td>NaN</td>\n",
       "      <td>NaN</td>\n",
       "      <td>NaN</td>\n",
       "      <td>NaN</td>\n",
       "      <td>NaN</td>\n",
       "      <td>None</td>\n",
       "    </tr>\n",
       "    <tr>\n",
       "      <th>2</th>\n",
       "      <td>Miscellaneous</td>\n",
       "      <td>885</td>\n",
       "      <td>Meet up place is in front of the church</td>\n",
       "      <td>Pick up food (mostly vegetables) from the stan...</td>\n",
       "      <td>put on not cooperating for the moment, see wal...</td>\n",
       "      <td>NaN</td>\n",
       "      <td>50.864478</td>\n",
       "      <td>4.693981</td>\n",
       "      <td>inactive</td>\n",
       "      <td>NaN</td>\n",
       "      <td>...</td>\n",
       "      <td>NaN</td>\n",
       "      <td>NaN</td>\n",
       "      <td>NaN</td>\n",
       "      <td>NaN</td>\n",
       "      <td>NaN</td>\n",
       "      <td>NaN</td>\n",
       "      <td>NaN</td>\n",
       "      <td>NaN</td>\n",
       "      <td>NaN</td>\n",
       "      <td>None</td>\n",
       "    </tr>\n",
       "    <tr>\n",
       "      <th>3</th>\n",
       "      <td>Spar</td>\n",
       "      <td>854</td>\n",
       "      <td>Outside the shop</td>\n",
       "      <td>You can expect anything from this shop, but us...</td>\n",
       "      <td>[2021/11] Ali and Kranti went there and spoke ...</td>\n",
       "      <td>Brusselsestraat 124, Leuven, Flemish Brabant, ...</td>\n",
       "      <td>50.880741</td>\n",
       "      <td>4.694760</td>\n",
       "      <td>active</td>\n",
       "      <td>Leuven</td>\n",
       "      <td>...</td>\n",
       "      <td>3000.0</td>\n",
       "      <td>Brusselsestraat</td>\n",
       "      <td>Mo-Fr 08:00-20:00; Sa 08:00-18:30</td>\n",
       "      <td>supermarket</td>\n",
       "      <td>NaN</td>\n",
       "      <td>https://www.sparretail.be/nl/store/2562</td>\n",
       "      <td>172940.810100</td>\n",
       "      <td>174536.987279</td>\n",
       "      <td>Bruul</td>\n",
       "      <td>POINT (4.69473 50.88074)</td>\n",
       "    </tr>\n",
       "    <tr>\n",
       "      <th>4</th>\n",
       "      <td>Dr Blues</td>\n",
       "      <td>2091</td>\n",
       "      <td>NaN</td>\n",
       "      <td>NaN</td>\n",
       "      <td>Beers from 'dr blues' every now and then.</td>\n",
       "      <td>Redingenhof, Janseniushof, Leuven, Flemish Bra...</td>\n",
       "      <td>50.875172</td>\n",
       "      <td>4.697071</td>\n",
       "      <td>active</td>\n",
       "      <td>Leuven</td>\n",
       "      <td>...</td>\n",
       "      <td>3000.0</td>\n",
       "      <td>Tiensestraat</td>\n",
       "      <td>NaN</td>\n",
       "      <td>food_court</td>\n",
       "      <td>NaN</td>\n",
       "      <td>https://foodcentral.be/</td>\n",
       "      <td>173923.216106</td>\n",
       "      <td>173920.521641</td>\n",
       "      <td>Vesalius</td>\n",
       "      <td>POINT (4.70865 50.87516)</td>\n",
       "    </tr>\n",
       "    <tr>\n",
       "      <th>5</th>\n",
       "      <td>Carrefour Express</td>\n",
       "      <td>843</td>\n",
       "      <td>Outside the shop</td>\n",
       "      <td>Mainly bread and pastries.\\nRedistribution: we...</td>\n",
       "      <td>[2021/11] Ali and Kranti visited the shops. Th...</td>\n",
       "      <td>Brusselsestraat 60, Leuven, Flemish Brabant, 3...</td>\n",
       "      <td>50.880237</td>\n",
       "      <td>4.697321</td>\n",
       "      <td>active</td>\n",
       "      <td>Leuven</td>\n",
       "      <td>...</td>\n",
       "      <td>3000.0</td>\n",
       "      <td>Brusselsestraat</td>\n",
       "      <td>Mo-Su 08:00-20:00</td>\n",
       "      <td>supermarket</td>\n",
       "      <td>NaN</td>\n",
       "      <td>https://winkels.carrefour.be/nl/s/carrefour/ca...</td>\n",
       "      <td>173123.110124</td>\n",
       "      <td>174481.592539</td>\n",
       "      <td>Lei - vismarkt</td>\n",
       "      <td>POINT (4.69732 50.88024)</td>\n",
       "    </tr>\n",
       "    <tr>\n",
       "      <th>6</th>\n",
       "      <td>Circle</td>\n",
       "      <td>871</td>\n",
       "      <td>in front of the store - contact the lady at t...</td>\n",
       "      <td>Usually packaged items past its best-before da...</td>\n",
       "      <td>NaN</td>\n",
       "      <td>Brusselsestraat 48, Leuven, Flemish Brabant, 3...</td>\n",
       "      <td>50.880103</td>\n",
       "      <td>4.697756</td>\n",
       "      <td>active</td>\n",
       "      <td>Leuven</td>\n",
       "      <td>...</td>\n",
       "      <td>3000.0</td>\n",
       "      <td>Brusselsestraat</td>\n",
       "      <td>Mo-Su 10:00-19:00</td>\n",
       "      <td>supermarket</td>\n",
       "      <td>asian</td>\n",
       "      <td>https://www.facebook.com/people/circle-superma...</td>\n",
       "      <td>173153.775452</td>\n",
       "      <td>174466.788685</td>\n",
       "      <td>Lei - vismarkt</td>\n",
       "      <td>POINT (4.69776 50.8801)</td>\n",
       "    </tr>\n",
       "    <tr>\n",
       "      <th>7</th>\n",
       "      <td>Miscellaneous</td>\n",
       "      <td>2593</td>\n",
       "      <td>NaN</td>\n",
       "      <td>NaN</td>\n",
       "      <td>This is an annual activity. \\nThis is an invit...</td>\n",
       "      <td>Parijsstraat 70, Leuven, Flemish Brabant, 3000...</td>\n",
       "      <td>50.877325</td>\n",
       "      <td>4.698165</td>\n",
       "      <td>inactive</td>\n",
       "      <td>Leuven</td>\n",
       "      <td>...</td>\n",
       "      <td>3000.0</td>\n",
       "      <td>Minderbroedersstraat</td>\n",
       "      <td>NaN</td>\n",
       "      <td>grocery_shop</td>\n",
       "      <td>night_shop</td>\n",
       "      <td>NaN</td>\n",
       "      <td>173184.001907</td>\n",
       "      <td>174158.135153</td>\n",
       "      <td>Damiaanplein</td>\n",
       "      <td>POINT (4.69817 50.87733)</td>\n",
       "    </tr>\n",
       "    <tr>\n",
       "      <th>8</th>\n",
       "      <td>Delhaize Leuven</td>\n",
       "      <td>858</td>\n",
       "      <td>Outside the shop</td>\n",
       "      <td>Mainly bread and pastries, can be a lot, so be...</td>\n",
       "      <td>[17/12/2022] Pickups Restarted\\nThe pickup tim...</td>\n",
       "      <td>Brusselsestraat 31, Leuven, Flemish Brabant, 3...</td>\n",
       "      <td>50.879549</td>\n",
       "      <td>4.698835</td>\n",
       "      <td>active</td>\n",
       "      <td>Leuven</td>\n",
       "      <td>...</td>\n",
       "      <td>3000.0</td>\n",
       "      <td>Brusselsestraat</td>\n",
       "      <td>Mo-Fr 08:30-18:30; Sa 08:30-18:00</td>\n",
       "      <td>supermarket</td>\n",
       "      <td>grocery_store</td>\n",
       "      <td>https://addelhaizeleuven-denon.be</td>\n",
       "      <td>173229.977590</td>\n",
       "      <td>174405.510151</td>\n",
       "      <td>Leuven-centrum</td>\n",
       "      <td>POINT (4.69883 50.87955)</td>\n",
       "    </tr>\n",
       "    <tr>\n",
       "      <th>9</th>\n",
       "      <td>Panos</td>\n",
       "      <td>1480</td>\n",
       "      <td>Wait outside the entrance for others (signed u...</td>\n",
       "      <td>Mainly bread, sandwiches and pastries.\\nRedist...</td>\n",
       "      <td>[20/08/2023] Store discontinued. The reason fo...</td>\n",
       "      <td>Brusselsestraat 4, Leuven, Flemish Brabant, 30...</td>\n",
       "      <td>50.879493</td>\n",
       "      <td>4.700115</td>\n",
       "      <td>active</td>\n",
       "      <td>Leuven</td>\n",
       "      <td>...</td>\n",
       "      <td>3000.0</td>\n",
       "      <td>Brusselsestraat</td>\n",
       "      <td>Mo-Sa 07:00-18:00</td>\n",
       "      <td>fast_food</td>\n",
       "      <td>sandwich</td>\n",
       "      <td>https://www.panos.be/</td>\n",
       "      <td>173320.149791</td>\n",
       "      <td>174399.716370</td>\n",
       "      <td>Leuven-centrum</td>\n",
       "      <td>POINT (4.70012 50.87949)</td>\n",
       "    </tr>\n",
       "    <tr>\n",
       "      <th>10</th>\n",
       "      <td>Carrefour Express</td>\n",
       "      <td>760</td>\n",
       "      <td>Outside the shop</td>\n",
       "      <td>You can expect anything from this shop, but us...</td>\n",
       "      <td>During corona, the shop closed. and wasn't ope...</td>\n",
       "      <td>Rector de Somerplein 12, Leuven, Flemish Braba...</td>\n",
       "      <td>50.879021</td>\n",
       "      <td>4.703237</td>\n",
       "      <td>active</td>\n",
       "      <td>Leuven</td>\n",
       "      <td>...</td>\n",
       "      <td>3000.0</td>\n",
       "      <td>Grote Markt</td>\n",
       "      <td>NaN</td>\n",
       "      <td>restaurant</td>\n",
       "      <td>NaN</td>\n",
       "      <td>NaN</td>\n",
       "      <td>173351.928508</td>\n",
       "      <td>174347.107210</td>\n",
       "      <td>Leuven-centrum</td>\n",
       "      <td>POINT (4.70056 50.87902)</td>\n",
       "    </tr>\n",
       "    <tr>\n",
       "      <th>11</th>\n",
       "      <td>Supermarket Asia &amp; More</td>\n",
       "      <td>1178</td>\n",
       "      <td>in front of the store's entrance - Contact th...</td>\n",
       "      <td>A bit of everything, always different.\\nRedist...</td>\n",
       "      <td>NaN</td>\n",
       "      <td>Aarschotsesteenweg 92, Leuven, Flemish Brabant...</td>\n",
       "      <td>50.896318</td>\n",
       "      <td>4.708011</td>\n",
       "      <td>active</td>\n",
       "      <td>Wilsele</td>\n",
       "      <td>...</td>\n",
       "      <td>3012.0</td>\n",
       "      <td>Aarschotsesteenweg</td>\n",
       "      <td>Mo,Su 13:00-19:00; Tu-Sa 09:00-19:00</td>\n",
       "      <td>supermarket</td>\n",
       "      <td>NaN</td>\n",
       "      <td>https://www.facebook.com/supermarket-asia-more...</td>\n",
       "      <td>173867.269913</td>\n",
       "      <td>176273.880370</td>\n",
       "      <td>Wilsele industriezone</td>\n",
       "      <td>POINT (4.70801 50.89632)</td>\n",
       "    </tr>\n",
       "    <tr>\n",
       "      <th>12</th>\n",
       "      <td>Mini Market</td>\n",
       "      <td>950</td>\n",
       "      <td>NaN</td>\n",
       "      <td>NaN</td>\n",
       "      <td>[10/03/2021] Seems to be permanently closed.</td>\n",
       "      <td>Bondgenotenlaan 104, Leuven, Flemish Brabant, ...</td>\n",
       "      <td>50.880473</td>\n",
       "      <td>4.711049</td>\n",
       "      <td>inactive</td>\n",
       "      <td>Leuven</td>\n",
       "      <td>...</td>\n",
       "      <td>3000.0</td>\n",
       "      <td>Brusselsestraat</td>\n",
       "      <td>We-Sa 08:00-18:00,08:30-18:00</td>\n",
       "      <td>butcher_shop</td>\n",
       "      <td>NaN</td>\n",
       "      <td>https://www.slagerijox.be/</td>\n",
       "      <td>173018.578290</td>\n",
       "      <td>174507.550262</td>\n",
       "      <td>Lei - vismarkt</td>\n",
       "      <td>POINT (4.69584 50.88047)</td>\n",
       "    </tr>\n",
       "    <tr>\n",
       "      <th>13</th>\n",
       "      <td>Mediterranee Markt</td>\n",
       "      <td>2759</td>\n",
       "      <td>Outside the garage door next to the shop</td>\n",
       "      <td>Mainly fruits and vegetables, can be a lot, so...</td>\n",
       "      <td>[19/08/2023] Pickup closed. They now have an a...</td>\n",
       "      <td>Maria-Theresiastraat 52, Leuven, Flemish Braba...</td>\n",
       "      <td>50.877826</td>\n",
       "      <td>4.711449</td>\n",
       "      <td>inactive</td>\n",
       "      <td>Leuven</td>\n",
       "      <td>...</td>\n",
       "      <td>3000.0</td>\n",
       "      <td>Hogeschoolplein</td>\n",
       "      <td>NaN</td>\n",
       "      <td>restaurant</td>\n",
       "      <td>NaN</td>\n",
       "      <td>http://www.salonsgeorges.be/?tijd</td>\n",
       "      <td>173447.880283</td>\n",
       "      <td>174216.004208</td>\n",
       "      <td>Leuven-centrum</td>\n",
       "      <td>POINT (4.70192 50.87784)</td>\n",
       "    </tr>\n",
       "    <tr>\n",
       "      <th>14</th>\n",
       "      <td>Shop &amp; Go Delhaize</td>\n",
       "      <td>2766</td>\n",
       "      <td>Outside the shop</td>\n",
       "      <td>You can expect anything from this shop, but us...</td>\n",
       "      <td>It was very easy to talk to the owner! He is r...</td>\n",
       "      <td>Diestsestraat 228, Leuven, Flemish Brabant, 30...</td>\n",
       "      <td>50.881850</td>\n",
       "      <td>4.713093</td>\n",
       "      <td>active</td>\n",
       "      <td>Leuven</td>\n",
       "      <td>...</td>\n",
       "      <td>3000.0</td>\n",
       "      <td>Mechelsestraat</td>\n",
       "      <td>Tu-Th 17:00-24:00; Fr-Su 16:00-02:00</td>\n",
       "      <td>bar</td>\n",
       "      <td>NaN</td>\n",
       "      <td>NaN</td>\n",
       "      <td>173244.677465</td>\n",
       "      <td>174656.984583</td>\n",
       "      <td>Lei - vismarkt</td>\n",
       "      <td>POINT (4.69906 50.88181)</td>\n",
       "    </tr>\n",
       "    <tr>\n",
       "      <th>15</th>\n",
       "      <td>Miscellaneous</td>\n",
       "      <td>2210</td>\n",
       "      <td>In front of the store!</td>\n",
       "      <td>Mainly bread and meat, some fruit and vegetabl...</td>\n",
       "      <td>[June 2023] The cooperation has been discontin...</td>\n",
       "      <td>Benedenplein, Blauwput, Kessel-Lo, Leuven, Fle...</td>\n",
       "      <td>50.882607</td>\n",
       "      <td>4.717408</td>\n",
       "      <td>inactive</td>\n",
       "      <td>Kessel-Lo</td>\n",
       "      <td>...</td>\n",
       "      <td>3010.0</td>\n",
       "      <td>Locomotievenstraat</td>\n",
       "      <td>Tu-Fr 10:00-19:00; Sa 10:00-17:00; Su 10:00-14:00</td>\n",
       "      <td>grocery_shop</td>\n",
       "      <td>natural_goods_store</td>\n",
       "      <td>https://www.contentleuven.be</td>\n",
       "      <td>174542.750136</td>\n",
       "      <td>174753.506063</td>\n",
       "      <td>Kessel-lo achter centrale</td>\n",
       "      <td>POINT (4.71751 50.88262)</td>\n",
       "    </tr>\n",
       "    <tr>\n",
       "      <th>16</th>\n",
       "      <td>Hal 5</td>\n",
       "      <td>1947</td>\n",
       "      <td>NaN</td>\n",
       "      <td>NaN</td>\n",
       "      <td>Update: Closed.\\nDrop-off point, next to HET P...</td>\n",
       "      <td>Locomotievenstraat, Leuven, Flemish Brabant, 3...</td>\n",
       "      <td>50.883216</td>\n",
       "      <td>4.721954</td>\n",
       "      <td>active</td>\n",
       "      <td>Leuven</td>\n",
       "      <td>...</td>\n",
       "      <td>3000.0</td>\n",
       "      <td>Jan-Pieter Minckelersstraat</td>\n",
       "      <td>NaN</td>\n",
       "      <td>grocery_shop</td>\n",
       "      <td>NaN</td>\n",
       "      <td>NaN</td>\n",
       "      <td>173764.552486</td>\n",
       "      <td>174807.981796</td>\n",
       "      <td>Van monsstraat</td>\n",
       "      <td>POINT (4.70646 50.88315)</td>\n",
       "    </tr>\n",
       "  </tbody>\n",
       "</table>\n",
       "<p>17 rows × 21 columns</p>\n",
       "</div>"
      ],
      "text/plain": [
       "                        name  placeid  \\\n",
       "0               Exotic World     2642   \n",
       "1                OHL stadium     2188   \n",
       "2             Miscellaneous       885   \n",
       "3                       Spar      854   \n",
       "4                   Dr Blues     2091   \n",
       "5          Carrefour Express      843   \n",
       "6                     Circle      871   \n",
       "7             Miscellaneous      2593   \n",
       "8            Delhaize Leuven      858   \n",
       "9                      Panos     1480   \n",
       "10         Carrefour Express      760   \n",
       "11  Supermarket Asia & More      1178   \n",
       "12               Mini Market      950   \n",
       "13        Mediterranee Markt     2759   \n",
       "14        Shop & Go Delhaize     2766   \n",
       "15            Miscellaneous      2210   \n",
       "16                     Hal 5     1947   \n",
       "\n",
       "                                        meeting_point  \\\n",
       "0   In front of the store - contact the lady at th...   \n",
       "1                                                 NaN   \n",
       "2             Meet up place is in front of the church   \n",
       "3                                    Outside the shop   \n",
       "4                                                 NaN   \n",
       "5                                    Outside the shop   \n",
       "6    in front of the store - contact the lady at t...   \n",
       "7                                                 NaN   \n",
       "8                                    Outside the shop   \n",
       "9   Wait outside the entrance for others (signed u...   \n",
       "10                                   Outside the shop   \n",
       "11   in front of the store's entrance - Contact th...   \n",
       "12                                                NaN   \n",
       "13          Outside the garage door next to the shop    \n",
       "14                                   Outside the shop   \n",
       "15                             In front of the store!   \n",
       "16                                                NaN   \n",
       "\n",
       "                                         instructions  \\\n",
       "0   Usually packaged items past their best-before ...   \n",
       "1                                                 NaN   \n",
       "2   Pick up food (mostly vegetables) from the stan...   \n",
       "3   You can expect anything from this shop, but us...   \n",
       "4                                                 NaN   \n",
       "5   Mainly bread and pastries.\\nRedistribution: we...   \n",
       "6   Usually packaged items past its best-before da...   \n",
       "7                                                 NaN   \n",
       "8   Mainly bread and pastries, can be a lot, so be...   \n",
       "9   Mainly bread, sandwiches and pastries.\\nRedist...   \n",
       "10  You can expect anything from this shop, but us...   \n",
       "11  A bit of everything, always different.\\nRedist...   \n",
       "12                                                NaN   \n",
       "13  Mainly fruits and vegetables, can be a lot, so...   \n",
       "14  You can expect anything from this shop, but us...   \n",
       "15  Mainly bread and meat, some fruit and vegetabl...   \n",
       "16                                                NaN   \n",
       "\n",
       "                                            store_log  \\\n",
       "0                                                 NaN   \n",
       "1   OHL stadium makes events and contacts us when ...   \n",
       "2   put on not cooperating for the moment, see wal...   \n",
       "3   [2021/11] Ali and Kranti went there and spoke ...   \n",
       "4           Beers from 'dr blues' every now and then.   \n",
       "5   [2021/11] Ali and Kranti visited the shops. Th...   \n",
       "6                                                 NaN   \n",
       "7   This is an annual activity. \\nThis is an invit...   \n",
       "8   [17/12/2022] Pickups Restarted\\nThe pickup tim...   \n",
       "9   [20/08/2023] Store discontinued. The reason fo...   \n",
       "10  During corona, the shop closed. and wasn't ope...   \n",
       "11                                                NaN   \n",
       "12       [10/03/2021] Seems to be permanently closed.   \n",
       "13  [19/08/2023] Pickup closed. They now have an a...   \n",
       "14  It was very easy to talk to the owner! He is r...   \n",
       "15  [June 2023] The cooperation has been discontin...   \n",
       "16  Update: Closed.\\nDrop-off point, next to HET P...   \n",
       "\n",
       "                                              address        lat       lon  \\\n",
       "0   Brusselsestraat 44, Leuven, Flemish Brabant, 3...  50.881096  4.690018   \n",
       "1                                                 NaN  50.867904  4.693608   \n",
       "2                                                 NaN  50.864478  4.693981   \n",
       "3   Brusselsestraat 124, Leuven, Flemish Brabant, ...  50.880741  4.694760   \n",
       "4   Redingenhof, Janseniushof, Leuven, Flemish Bra...  50.875172  4.697071   \n",
       "5   Brusselsestraat 60, Leuven, Flemish Brabant, 3...  50.880237  4.697321   \n",
       "6   Brusselsestraat 48, Leuven, Flemish Brabant, 3...  50.880103  4.697756   \n",
       "7   Parijsstraat 70, Leuven, Flemish Brabant, 3000...  50.877325  4.698165   \n",
       "8   Brusselsestraat 31, Leuven, Flemish Brabant, 3...  50.879549  4.698835   \n",
       "9   Brusselsestraat 4, Leuven, Flemish Brabant, 30...  50.879493  4.700115   \n",
       "10  Rector de Somerplein 12, Leuven, Flemish Braba...  50.879021  4.703237   \n",
       "11  Aarschotsesteenweg 92, Leuven, Flemish Brabant...  50.896318  4.708011   \n",
       "12  Bondgenotenlaan 104, Leuven, Flemish Brabant, ...  50.880473  4.711049   \n",
       "13  Maria-Theresiastraat 52, Leuven, Flemish Braba...  50.877826  4.711449   \n",
       "14  Diestsestraat 228, Leuven, Flemish Brabant, 30...  50.881850  4.713093   \n",
       "15  Benedenplein, Blauwput, Kessel-Lo, Leuven, Fle...  50.882607  4.717408   \n",
       "16  Locomotievenstraat, Leuven, Flemish Brabant, 3...  50.883216  4.721954   \n",
       "\n",
       "      status       city  ... postcode                       street  \\\n",
       "0     active     Leuven  ...   3000.0               Mechelsestraat   \n",
       "1     active        NaN  ...      NaN                          NaN   \n",
       "2   inactive        NaN  ...      NaN                          NaN   \n",
       "3     active     Leuven  ...   3000.0              Brusselsestraat   \n",
       "4     active     Leuven  ...   3000.0                 Tiensestraat   \n",
       "5     active     Leuven  ...   3000.0              Brusselsestraat   \n",
       "6     active     Leuven  ...   3000.0              Brusselsestraat   \n",
       "7   inactive     Leuven  ...   3000.0         Minderbroedersstraat   \n",
       "8     active     Leuven  ...   3000.0              Brusselsestraat   \n",
       "9     active     Leuven  ...   3000.0              Brusselsestraat   \n",
       "10    active     Leuven  ...   3000.0                  Grote Markt   \n",
       "11    active    Wilsele  ...   3012.0           Aarschotsesteenweg   \n",
       "12  inactive     Leuven  ...   3000.0              Brusselsestraat   \n",
       "13  inactive     Leuven  ...   3000.0              Hogeschoolplein   \n",
       "14    active     Leuven  ...   3000.0               Mechelsestraat   \n",
       "15  inactive  Kessel-Lo  ...   3010.0           Locomotievenstraat   \n",
       "16    active     Leuven  ...   3000.0  Jan-Pieter Minckelersstraat   \n",
       "\n",
       "                                        opening_hours  amenity_type  \\\n",
       "0                                                 NaN    restaurant   \n",
       "1                                                 NaN           NaN   \n",
       "2                                                 NaN           NaN   \n",
       "3                   Mo-Fr 08:00-20:00; Sa 08:00-18:30   supermarket   \n",
       "4                                                 NaN    food_court   \n",
       "5                                   Mo-Su 08:00-20:00   supermarket   \n",
       "6                                   Mo-Su 10:00-19:00   supermarket   \n",
       "7                                                 NaN  grocery_shop   \n",
       "8                   Mo-Fr 08:30-18:30; Sa 08:30-18:00   supermarket   \n",
       "9                                   Mo-Sa 07:00-18:00     fast_food   \n",
       "10                                                NaN    restaurant   \n",
       "11               Mo,Su 13:00-19:00; Tu-Sa 09:00-19:00   supermarket   \n",
       "12                      We-Sa 08:00-18:00,08:30-18:00  butcher_shop   \n",
       "13                                                NaN    restaurant   \n",
       "14               Tu-Th 17:00-24:00; Fr-Su 16:00-02:00           bar   \n",
       "15  Tu-Fr 10:00-19:00; Sa 10:00-17:00; Su 10:00-14:00  grocery_shop   \n",
       "16                                                NaN  grocery_shop   \n",
       "\n",
       "          amenity_extra                                            website  \\\n",
       "0                 lunch                                                NaN   \n",
       "1                   NaN                                                NaN   \n",
       "2                   NaN                                                NaN   \n",
       "3                   NaN            https://www.sparretail.be/nl/store/2562   \n",
       "4                   NaN                            https://foodcentral.be/   \n",
       "5                   NaN  https://winkels.carrefour.be/nl/s/carrefour/ca...   \n",
       "6                 asian  https://www.facebook.com/people/circle-superma...   \n",
       "7            night_shop                                                NaN   \n",
       "8         grocery_store                  https://addelhaizeleuven-denon.be   \n",
       "9              sandwich                              https://www.panos.be/   \n",
       "10                  NaN                                                NaN   \n",
       "11                  NaN  https://www.facebook.com/supermarket-asia-more...   \n",
       "12                  NaN                         https://www.slagerijox.be/   \n",
       "13                  NaN                  http://www.salonsgeorges.be/?tijd   \n",
       "14                  NaN                                                NaN   \n",
       "15  natural_goods_store                       https://www.contentleuven.be   \n",
       "16                  NaN                                                NaN   \n",
       "\n",
       "                x              y         statistical_sector  \\\n",
       "0   173268.672970  174576.996697             Lei - vismarkt   \n",
       "1             NaN            NaN                        NaN   \n",
       "2             NaN            NaN                        NaN   \n",
       "3   172940.810100  174536.987279                      Bruul   \n",
       "4   173923.216106  173920.521641                   Vesalius   \n",
       "5   173123.110124  174481.592539             Lei - vismarkt   \n",
       "6   173153.775452  174466.788685             Lei - vismarkt   \n",
       "7   173184.001907  174158.135153               Damiaanplein   \n",
       "8   173229.977590  174405.510151             Leuven-centrum   \n",
       "9   173320.149791  174399.716370             Leuven-centrum   \n",
       "10  173351.928508  174347.107210             Leuven-centrum   \n",
       "11  173867.269913  176273.880370      Wilsele industriezone   \n",
       "12  173018.578290  174507.550262             Lei - vismarkt   \n",
       "13  173447.880283  174216.004208             Leuven-centrum   \n",
       "14  173244.677465  174656.984583             Lei - vismarkt   \n",
       "15  174542.750136  174753.506063  Kessel-lo achter centrale   \n",
       "16  173764.552486  174807.981796             Van monsstraat   \n",
       "\n",
       "                    geometry  \n",
       "0    POINT (4.6994 50.88109)  \n",
       "1                       None  \n",
       "2                       None  \n",
       "3   POINT (4.69473 50.88074)  \n",
       "4   POINT (4.70865 50.87516)  \n",
       "5   POINT (4.69732 50.88024)  \n",
       "6    POINT (4.69776 50.8801)  \n",
       "7   POINT (4.69817 50.87733)  \n",
       "8   POINT (4.69883 50.87955)  \n",
       "9   POINT (4.70012 50.87949)  \n",
       "10  POINT (4.70056 50.87902)  \n",
       "11  POINT (4.70801 50.89632)  \n",
       "12  POINT (4.69584 50.88047)  \n",
       "13  POINT (4.70192 50.87784)  \n",
       "14  POINT (4.69906 50.88181)  \n",
       "15  POINT (4.71751 50.88262)  \n",
       "16  POINT (4.70646 50.88315)  \n",
       "\n",
       "[17 rows x 21 columns]"
      ]
     },
     "execution_count": 191,
     "metadata": {},
     "output_type": "execute_result"
    }
   ],
   "source": [
    "import geopandas as gpd\n",
    "from shapely.geometry import Point\n",
    "\n",
    "# Merging multiple DataFrames to combine participant data, member details, and feedback:\n",
    "places_df = places_df.rename(columns={\"latitude\": \"lat\", \"longitude\": \"lon\"})\n",
    "\n",
    "import pandas as pd\n",
    "\n",
    "# Sort both DataFrames by latitude\n",
    "places_df = places_df.sort_values(by=\"lat\")\n",
    "openstreetmap_df = openstreetmap_df.sort_values(by=\"lat\")\n",
    "\n",
    "# Perform an approximate merge on latitude\n",
    "lat_merged = pd.merge_asof(\n",
    "    places_df, openstreetmap_df, on=\"lat\", direction=\"nearest\", tolerance=0.0001\n",
    ")\n",
    "\n",
    "lat_merged\n",
    "\n",
    "lat_merged = lat_merged.rename(columns={\"lon_x\": \"lon\"})\n",
    "\n",
    "# # Perform an approximate merge on longitude (filter lat_merged first for efficiency)\n",
    "final_merge = pd.merge_asof(\n",
    "    lat_merged.sort_values(by=\"lon\"), openstreetmap_df.sort_values(by=\"lon\"), on=\"lon\", direction=\"nearest\", tolerance=0.000001\n",
    ")\n",
    "\n",
    "# Drop columns that end with '_y'\n",
    "columns_to_drop = [col for col in final_merge.columns if col.endswith('_y')]\n",
    "columns_to_drop.append(\"name\")\n",
    "final_merge = final_merge.drop(columns=columns_to_drop)\n",
    "# Remove '_x' from column names\n",
    "final_merge = final_merge.rename(columns={col: col.replace('_x', '') for col in final_merge.columns if '_x' in col})\n",
    "\n",
    "\n",
    "final_merge\n",
    "\n",
    "# (\n",
    "#     places_df\n",
    "#     .merge(openstreetmap_df, on=[\"lat\", \"lon\"], how=\"left\")\n",
    "# ).head()"
   ]
  }
 ],
 "metadata": {
  "colab": {
   "provenance": []
  },
  "kernelspec": {
   "display_name": ".venv",
   "language": "python",
   "name": "python3"
  },
  "language_info": {
   "codemirror_mode": {
    "name": "ipython",
    "version": 3
   },
   "file_extension": ".py",
   "mimetype": "text/x-python",
   "name": "python",
   "nbconvert_exporter": "python",
   "pygments_lexer": "ipython3",
   "version": "3.11.9"
  }
 },
 "nbformat": 4,
 "nbformat_minor": 0
}
