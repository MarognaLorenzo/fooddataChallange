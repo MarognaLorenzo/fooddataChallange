{
 "cells": [
  {
   "cell_type": "code",
   "execution_count": 2,
   "metadata": {},
   "outputs": [
    {
     "name": "stdout",
     "output_type": "stream",
     "text": [
      "Defaulting to user installation because normal site-packages is not writeable\n",
      "Requirement already satisfied: pandas in c:\\users\\pepma\\appdata\\roaming\\python\\python312\\site-packages (2.2.3)\n",
      "Requirement already satisfied: numpy>=1.26.0 in c:\\users\\pepma\\appdata\\roaming\\python\\python312\\site-packages (from pandas) (1.26.4)\n",
      "Requirement already satisfied: python-dateutil>=2.8.2 in c:\\users\\pepma\\appdata\\roaming\\python\\python312\\site-packages (from pandas) (2.9.0.post0)\n",
      "Requirement already satisfied: pytz>=2020.1 in c:\\users\\pepma\\appdata\\roaming\\python\\python312\\site-packages (from pandas) (2024.2)\n",
      "Requirement already satisfied: tzdata>=2022.7 in c:\\users\\pepma\\appdata\\roaming\\python\\python312\\site-packages (from pandas) (2024.2)\n",
      "Requirement already satisfied: six>=1.5 in c:\\users\\pepma\\appdata\\roaming\\python\\python312\\site-packages (from python-dateutil>=2.8.2->pandas) (1.16.0)\n",
      "Note: you may need to restart the kernel to use updated packages.\n"
     ]
    },
    {
     "name": "stderr",
     "output_type": "stream",
     "text": [
      "\n",
      "[notice] A new release of pip is available: 24.2 -> 24.3.1\n",
      "[notice] To update, run: python.exe -m pip install --upgrade pip\n"
     ]
    },
    {
     "name": "stdout",
     "output_type": "stream",
     "text": [
      "Defaulting to user installation because normal site-packages is not writeable\n",
      "Requirement already satisfied: numpy in c:\\users\\pepma\\appdata\\roaming\\python\\python312\\site-packages (1.26.4)\n",
      "Note: you may need to restart the kernel to use updated packages.\n"
     ]
    },
    {
     "name": "stderr",
     "output_type": "stream",
     "text": [
      "\n",
      "[notice] A new release of pip is available: 24.2 -> 24.3.1\n",
      "[notice] To update, run: python.exe -m pip install --upgrade pip\n"
     ]
    },
    {
     "name": "stdout",
     "output_type": "stream",
     "text": [
      "Defaulting to user installation because normal site-packages is not writeableNote: you may need to restart the kernel to use updated packages.\n"
     ]
    },
    {
     "name": "stderr",
     "output_type": "stream",
     "text": [
      "\n",
      "[notice] A new release of pip is available: 24.2 -> 24.3.1\n",
      "[notice] To update, run: python.exe -m pip install --upgrade pip\n"
     ]
    },
    {
     "name": "stdout",
     "output_type": "stream",
     "text": [
      "\n",
      "Requirement already satisfied: matplotlib in c:\\users\\pepma\\appdata\\roaming\\python\\python312\\site-packages (3.9.2)\n",
      "Requirement already satisfied: contourpy>=1.0.1 in c:\\users\\pepma\\appdata\\roaming\\python\\python312\\site-packages (from matplotlib) (1.3.1)\n",
      "Requirement already satisfied: cycler>=0.10 in c:\\users\\pepma\\appdata\\roaming\\python\\python312\\site-packages (from matplotlib) (0.12.1)\n",
      "Requirement already satisfied: fonttools>=4.22.0 in c:\\users\\pepma\\appdata\\roaming\\python\\python312\\site-packages (from matplotlib) (4.55.0)\n",
      "Requirement already satisfied: kiwisolver>=1.3.1 in c:\\users\\pepma\\appdata\\roaming\\python\\python312\\site-packages (from matplotlib) (1.4.7)\n",
      "Requirement already satisfied: numpy>=1.23 in c:\\users\\pepma\\appdata\\roaming\\python\\python312\\site-packages (from matplotlib) (1.26.4)\n",
      "Requirement already satisfied: packaging>=20.0 in c:\\users\\pepma\\appdata\\roaming\\python\\python312\\site-packages (from matplotlib) (24.2)\n",
      "Requirement already satisfied: pillow>=8 in c:\\users\\pepma\\appdata\\roaming\\python\\python312\\site-packages (from matplotlib) (11.0.0)\n",
      "Requirement already satisfied: pyparsing>=2.3.1 in c:\\users\\pepma\\appdata\\roaming\\python\\python312\\site-packages (from matplotlib) (3.2.0)\n",
      "Requirement already satisfied: python-dateutil>=2.7 in c:\\users\\pepma\\appdata\\roaming\\python\\python312\\site-packages (from matplotlib) (2.9.0.post0)\n",
      "Requirement already satisfied: six>=1.5 in c:\\users\\pepma\\appdata\\roaming\\python\\python312\\site-packages (from python-dateutil>=2.7->matplotlib) (1.16.0)\n",
      "Note: you may need to restart the kernel to use updated packages.Defaulting to user installation because normal site-packages is not writeable\n",
      "Requirement already satisfied: seaborn in c:\\users\\pepma\\appdata\\roaming\\python\\python312\\site-packages (0.13.2)\n",
      "Requirement already satisfied: numpy!=1.24.0,>=1.20 in c:\\users\\pepma\\appdata\\roaming\\python\\python312\\site-packages (from seaborn) (1.26.4)\n",
      "Requirement already satisfied: pandas>=1.2 in c:\\users\\pepma\\appdata\\roaming\\python\\python312\\site-packages (from seaborn) (2.2.3)\n",
      "Requirement already satisfied: matplotlib!=3.6.1,>=3.4 in c:\\users\\pepma\\appdata\\roaming\\python\\python312\\site-packages (from seaborn) (3.9.2)\n",
      "Requirement already satisfied: contourpy>=1.0.1 in c:\\users\\pepma\\appdata\\roaming\\python\\python312\\site-packages (from matplotlib!=3.6.1,>=3.4->seaborn) (1.3.1)\n",
      "Requirement already satisfied: cycler>=0.10 in c:\\users\\pepma\\appdata\\roaming\\python\\python312\\site-packages (from matplotlib!=3.6.1,>=3.4->seaborn) (0.12.1)\n",
      "Requirement already satisfied: fonttools>=4.22.0 in c:\\users\\pepma\\appdata\\roaming\\python\\python312\\site-packages (from matplotlib!=3.6.1,>=3.4->seaborn) (4.55.0)\n",
      "Requirement already satisfied: kiwisolver>=1.3.1 in c:\\users\\pepma\\appdata\\roaming\\python\\python312\\site-packages (from matplotlib!=3.6.1,>=3.4->seaborn) (1.4.7)\n",
      "Requirement already satisfied: packaging>=20.0 in c:\\users\\pepma\\appdata\\roaming\\python\\python312\\site-packages (from matplotlib!=3.6.1,>=3.4->seaborn) (24.2)\n",
      "Requirement already satisfied: pillow>=8 in c:\\users\\pepma\\appdata\\roaming\\python\\python312\\site-packages (from matplotlib!=3.6.1,>=3.4->seaborn) (11.0.0)\n",
      "Requirement already satisfied: pyparsing>=2.3.1 in c:\\users\\pepma\\appdata\\roaming\\python\\python312\\site-packages (from matplotlib!=3.6.1,>=3.4->seaborn) (3.2.0)\n",
      "Requirement already satisfied: python-dateutil>=2.7 in c:\\users\\pepma\\appdata\\roaming\\python\\python312\\site-packages (from matplotlib!=3.6.1,>=3.4->seaborn) (2.9.0.post0)\n",
      "Requirement already satisfied: pytz>=2020.1 in c:\\users\\pepma\\appdata\\roaming\\python\\python312\\site-packages (from pandas>=1.2->seaborn) (2024.2)\n",
      "Requirement already satisfied: tzdata>=2022.7 in c:\\users\\pepma\\appdata\\roaming\\python\\python312\\site-packages (from pandas>=1.2->seaborn) (2024.2)\n",
      "Requirement already satisfied: six>=1.5 in c:\\users\\pepma\\appdata\\roaming\\python\\python312\\site-packages (from python-dateutil>=2.7->matplotlib!=3.6.1,>=3.4->seaborn) (1.16.0)\n",
      "\n"
     ]
    },
    {
     "name": "stderr",
     "output_type": "stream",
     "text": [
      "\n",
      "[notice] A new release of pip is available: 24.2 -> 24.3.1\n",
      "[notice] To update, run: python.exe -m pip install --upgrade pip\n"
     ]
    },
    {
     "name": "stdout",
     "output_type": "stream",
     "text": [
      "Defaulting to user installation because normal site-packages is not writeableNote: you may need to restart the kernel to use updated packages.\n",
      "\n",
      "Requirement already satisfied: scikit-learn in c:\\users\\pepma\\appdata\\roaming\\python\\python312\\site-packages (1.5.2)\n",
      "Requirement already satisfied: numpy>=1.19.5 in c:\\users\\pepma\\appdata\\roaming\\python\\python312\\site-packages (from scikit-learn) (1.26.4)\n",
      "Requirement already satisfied: scipy>=1.6.0 in c:\\users\\pepma\\appdata\\roaming\\python\\python312\\site-packages (from scikit-learn) (1.14.1)\n",
      "Requirement already satisfied: joblib>=1.2.0 in c:\\users\\pepma\\appdata\\roaming\\python\\python312\\site-packages (from scikit-learn) (1.4.2)\n",
      "Requirement already satisfied: threadpoolctl>=3.1.0 in c:\\users\\pepma\\appdata\\roaming\\python\\python312\\site-packages (from scikit-learn) (3.5.0)\n"
     ]
    },
    {
     "name": "stderr",
     "output_type": "stream",
     "text": [
      "\n",
      "[notice] A new release of pip is available: 24.2 -> 24.3.1\n",
      "[notice] To update, run: python.exe -m pip install --upgrade pip\n"
     ]
    },
    {
     "name": "stdout",
     "output_type": "stream",
     "text": [
      "Defaulting to user installation because normal site-packages is not writeable\n",
      "Requirement already satisfied: xgboost in c:\\users\\pepma\\appdata\\roaming\\python\\python312\\site-packages (2.1.2)\n",
      "Requirement already satisfied: numpy in c:\\users\\pepma\\appdata\\roaming\\python\\python312\\site-packages (from xgboost) (1.26.4)\n",
      "Requirement already satisfied: scipy in c:\\users\\pepma\\appdata\\roaming\\python\\python312\\site-packages (from xgboost) (1.14.1)\n",
      "Note: you may need to restart the kernel to use updated packages.\n"
     ]
    },
    {
     "name": "stderr",
     "output_type": "stream",
     "text": [
      "\n",
      "[notice] A new release of pip is available: 24.2 -> 24.3.1\n",
      "[notice] To update, run: python.exe -m pip install --upgrade pip\n"
     ]
    },
    {
     "name": "stdout",
     "output_type": "stream",
     "text": [
      "Defaulting to user installation because normal site-packages is not writeable\n",
      "Requirement already satisfied: lightgbm in c:\\users\\pepma\\appdata\\roaming\\python\\python312\\site-packages (4.5.0)\n",
      "Requirement already satisfied: numpy>=1.17.0 in c:\\users\\pepma\\appdata\\roaming\\python\\python312\\site-packages (from lightgbm) (1.26.4)\n",
      "Requirement already satisfied: scipy in c:\\users\\pepma\\appdata\\roaming\\python\\python312\\site-packages (from lightgbm) (1.14.1)\n",
      "Note: you may need to restart the kernel to use updated packages.\n"
     ]
    },
    {
     "name": "stderr",
     "output_type": "stream",
     "text": [
      "\n",
      "[notice] A new release of pip is available: 24.2 -> 24.3.1\n",
      "[notice] To update, run: python.exe -m pip install --upgrade pip\n"
     ]
    },
    {
     "name": "stdout",
     "output_type": "stream",
     "text": [
      "Defaulting to user installation because normal site-packages is not writeable\n",
      "Requirement already satisfied: catboost in c:\\users\\pepma\\appdata\\roaming\\python\\python312\\site-packages (1.2.7)\n",
      "Requirement already satisfied: graphviz in c:\\users\\pepma\\appdata\\roaming\\python\\python312\\site-packages (from catboost) (0.20.3)\n",
      "Requirement already satisfied: matplotlib in c:\\users\\pepma\\appdata\\roaming\\python\\python312\\site-packages (from catboost) (3.9.2)\n",
      "Requirement already satisfied: numpy<2.0,>=1.16.0 in c:\\users\\pepma\\appdata\\roaming\\python\\python312\\site-packages (from catboost) (1.26.4)\n",
      "Requirement already satisfied: pandas>=0.24 in c:\\users\\pepma\\appdata\\roaming\\python\\python312\\site-packages (from catboost) (2.2.3)\n",
      "Requirement already satisfied: scipy in c:\\users\\pepma\\appdata\\roaming\\python\\python312\\site-packages (from catboost) (1.14.1)\n",
      "Requirement already satisfied: plotly in c:\\users\\pepma\\appdata\\roaming\\python\\python312\\site-packages (from catboost) (5.24.1)\n",
      "Requirement already satisfied: six in c:\\users\\pepma\\appdata\\roaming\\python\\python312\\site-packages (from catboost) (1.16.0)\n",
      "Requirement already satisfied: python-dateutil>=2.8.2 in c:\\users\\pepma\\appdata\\roaming\\python\\python312\\site-packages (from pandas>=0.24->catboost) (2.9.0.post0)\n",
      "Requirement already satisfied: pytz>=2020.1 in c:\\users\\pepma\\appdata\\roaming\\python\\python312\\site-packages (from pandas>=0.24->catboost) (2024.2)\n",
      "Requirement already satisfied: tzdata>=2022.7 in c:\\users\\pepma\\appdata\\roaming\\python\\python312\\site-packages (from pandas>=0.24->catboost) (2024.2)\n",
      "Requirement already satisfied: contourpy>=1.0.1 in c:\\users\\pepma\\appdata\\roaming\\python\\python312\\site-packages (from matplotlib->catboost) (1.3.1)\n",
      "Requirement already satisfied: cycler>=0.10 in c:\\users\\pepma\\appdata\\roaming\\python\\python312\\site-packages (from matplotlib->catboost) (0.12.1)\n",
      "Requirement already satisfied: fonttools>=4.22.0 in c:\\users\\pepma\\appdata\\roaming\\python\\python312\\site-packages (from matplotlib->catboost) (4.55.0)\n",
      "Requirement already satisfied: kiwisolver>=1.3.1 in c:\\users\\pepma\\appdata\\roaming\\python\\python312\\site-packages (from matplotlib->catboost) (1.4.7)\n",
      "Requirement already satisfied: packaging>=20.0 in c:\\users\\pepma\\appdata\\roaming\\python\\python312\\site-packages (from matplotlib->catboost) (24.2)\n",
      "Requirement already satisfied: pillow>=8 in c:\\users\\pepma\\appdata\\roaming\\python\\python312\\site-packages (from matplotlib->catboost) (11.0.0)\n",
      "Requirement already satisfied: pyparsing>=2.3.1 in c:\\users\\pepma\\appdata\\roaming\\python\\python312\\site-packages (from matplotlib->catboost) (3.2.0)\n",
      "Requirement already satisfied: tenacity>=6.2.0 in c:\\users\\pepma\\appdata\\roaming\\python\\python312\\site-packages (from plotly->catboost) (9.0.0)\n",
      "Note: you may need to restart the kernel to use updated packages.\n"
     ]
    },
    {
     "name": "stderr",
     "output_type": "stream",
     "text": [
      "\n",
      "[notice] A new release of pip is available: 24.2 -> 24.3.1\n",
      "[notice] To update, run: python.exe -m pip install --upgrade pip\n"
     ]
    }
   ],
   "source": [
    "%pip install pandas\n",
    "%pip install numpy\n",
    "%pip install matplotlib\n",
    "%pip install seaborn\n",
    "%pip install scikit-learn\n",
    "%pip install xgboost\n",
    "%pip install lightgbm\n",
    "%pip install catboost"
   ]
  },
  {
   "cell_type": "code",
   "execution_count": 3,
   "metadata": {},
   "outputs": [],
   "source": [
    "import pandas as pd\n",
    "import os"
   ]
  },
  {
   "cell_type": "markdown",
   "metadata": {},
   "source": [
    "We load all FSL datasets:"
   ]
  },
  {
   "cell_type": "code",
   "execution_count": 4,
   "metadata": {},
   "outputs": [],
   "source": [
    "filenames=[\"foodsavingleuven/places.csv\",\n",
    "           \"foodsavingleuven/members.csv\"\t,\n",
    "           \"foodsavingleuven/activities.csv\",\n",
    "           \"foodsavingleuven/activities_participants.csv\",\n",
    "            \"foodsavingleuven/feedback.csv\"]"
   ]
  },
  {
   "cell_type": "code",
   "execution_count": 9,
   "metadata": {},
   "outputs": [
    {
     "data": {
      "text/html": [
       "<div>\n",
       "<style scoped>\n",
       "    .dataframe tbody tr th:only-of-type {\n",
       "        vertical-align: middle;\n",
       "    }\n",
       "\n",
       "    .dataframe tbody tr th {\n",
       "        vertical-align: top;\n",
       "    }\n",
       "\n",
       "    .dataframe thead th {\n",
       "        text-align: right;\n",
       "    }\n",
       "</style>\n",
       "<table border=\"1\" class=\"dataframe\">\n",
       "  <thead>\n",
       "    <tr style=\"text-align: right;\">\n",
       "      <th></th>\n",
       "      <th>name</th>\n",
       "      <th>placeid</th>\n",
       "      <th>meeting_point</th>\n",
       "      <th>instructions</th>\n",
       "      <th>store_log</th>\n",
       "      <th>address</th>\n",
       "      <th>latitude</th>\n",
       "      <th>longitude</th>\n",
       "      <th>status</th>\n",
       "    </tr>\n",
       "  </thead>\n",
       "  <tbody>\n",
       "    <tr>\n",
       "      <th>0</th>\n",
       "      <td>Spar</td>\n",
       "      <td>854</td>\n",
       "      <td>Outside the shop</td>\n",
       "      <td>You can expect anything from this shop, but us...</td>\n",
       "      <td>[2021/11] Ali and Kranti went there and spoke ...</td>\n",
       "      <td>Brusselsestraat 124, Leuven, Flemish Brabant, ...</td>\n",
       "      <td>50.880741</td>\n",
       "      <td>4.694760</td>\n",
       "      <td>active</td>\n",
       "    </tr>\n",
       "    <tr>\n",
       "      <th>1</th>\n",
       "      <td>Shop &amp; Go Delhaize</td>\n",
       "      <td>2766</td>\n",
       "      <td>Outside the shop</td>\n",
       "      <td>You can expect anything from this shop, but us...</td>\n",
       "      <td>It was very easy to talk to the owner! He is r...</td>\n",
       "      <td>Diestsestraat 228, Leuven, Flemish Brabant, 30...</td>\n",
       "      <td>50.881850</td>\n",
       "      <td>4.713093</td>\n",
       "      <td>active</td>\n",
       "    </tr>\n",
       "    <tr>\n",
       "      <th>2</th>\n",
       "      <td>Exotic World</td>\n",
       "      <td>2642</td>\n",
       "      <td>In front of the store - contact the lady at th...</td>\n",
       "      <td>Usually packaged items past their best-before ...</td>\n",
       "      <td>NaN</td>\n",
       "      <td>Brusselsestraat 44, Leuven, Flemish Brabant, 3...</td>\n",
       "      <td>50.881096</td>\n",
       "      <td>4.690018</td>\n",
       "      <td>active</td>\n",
       "    </tr>\n",
       "    <tr>\n",
       "      <th>3</th>\n",
       "      <td>Delhaize Leuven</td>\n",
       "      <td>858</td>\n",
       "      <td>Outside the shop</td>\n",
       "      <td>Mainly bread and pastries, can be a lot, so be...</td>\n",
       "      <td>[17/12/2022] Pickups Restarted\\nThe pickup tim...</td>\n",
       "      <td>Brusselsestraat 31, Leuven, Flemish Brabant, 3...</td>\n",
       "      <td>50.879549</td>\n",
       "      <td>4.698835</td>\n",
       "      <td>active</td>\n",
       "    </tr>\n",
       "    <tr>\n",
       "      <th>4</th>\n",
       "      <td>Carrefour Express</td>\n",
       "      <td>760</td>\n",
       "      <td>Outside the shop</td>\n",
       "      <td>You can expect anything from this shop, but us...</td>\n",
       "      <td>During corona, the shop closed. and wasn't ope...</td>\n",
       "      <td>Rector de Somerplein 12, Leuven, Flemish Braba...</td>\n",
       "      <td>50.879021</td>\n",
       "      <td>4.703237</td>\n",
       "      <td>active</td>\n",
       "    </tr>\n",
       "  </tbody>\n",
       "</table>\n",
       "</div>"
      ],
      "text/plain": [
       "                 name  placeid  \\\n",
       "0                Spar      854   \n",
       "1  Shop & Go Delhaize     2766   \n",
       "2        Exotic World     2642   \n",
       "3     Delhaize Leuven      858   \n",
       "4   Carrefour Express      760   \n",
       "\n",
       "                                       meeting_point  \\\n",
       "0                                   Outside the shop   \n",
       "1                                   Outside the shop   \n",
       "2  In front of the store - contact the lady at th...   \n",
       "3                                   Outside the shop   \n",
       "4                                   Outside the shop   \n",
       "\n",
       "                                        instructions  \\\n",
       "0  You can expect anything from this shop, but us...   \n",
       "1  You can expect anything from this shop, but us...   \n",
       "2  Usually packaged items past their best-before ...   \n",
       "3  Mainly bread and pastries, can be a lot, so be...   \n",
       "4  You can expect anything from this shop, but us...   \n",
       "\n",
       "                                           store_log  \\\n",
       "0  [2021/11] Ali and Kranti went there and spoke ...   \n",
       "1  It was very easy to talk to the owner! He is r...   \n",
       "2                                                NaN   \n",
       "3  [17/12/2022] Pickups Restarted\\nThe pickup tim...   \n",
       "4  During corona, the shop closed. and wasn't ope...   \n",
       "\n",
       "                                             address   latitude  longitude  \\\n",
       "0  Brusselsestraat 124, Leuven, Flemish Brabant, ...  50.880741   4.694760   \n",
       "1  Diestsestraat 228, Leuven, Flemish Brabant, 30...  50.881850   4.713093   \n",
       "2  Brusselsestraat 44, Leuven, Flemish Brabant, 3...  50.881096   4.690018   \n",
       "3  Brusselsestraat 31, Leuven, Flemish Brabant, 3...  50.879549   4.698835   \n",
       "4  Rector de Somerplein 12, Leuven, Flemish Braba...  50.879021   4.703237   \n",
       "\n",
       "   status  \n",
       "0  active  \n",
       "1  active  \n",
       "2  active  \n",
       "3  active  \n",
       "4  active  "
      ]
     },
     "execution_count": 9,
     "metadata": {},
     "output_type": "execute_result"
    }
   ],
   "source": [
    "places_df=pd.read_csv(\"../\" + filenames[0],index_col=0)\n",
    "places_df.head()"
   ]
  },
  {
   "cell_type": "code",
   "execution_count": 10,
   "metadata": {},
   "outputs": [
    {
     "data": {
      "text/html": [
       "<div>\n",
       "<style scoped>\n",
       "    .dataframe tbody tr th:only-of-type {\n",
       "        vertical-align: middle;\n",
       "    }\n",
       "\n",
       "    .dataframe tbody tr th {\n",
       "        vertical-align: top;\n",
       "    }\n",
       "\n",
       "    .dataframe thead th {\n",
       "        text-align: right;\n",
       "    }\n",
       "</style>\n",
       "<table border=\"1\" class=\"dataframe\">\n",
       "  <thead>\n",
       "    <tr style=\"text-align: right;\">\n",
       "      <th></th>\n",
       "      <th>activity_id</th>\n",
       "      <th>date_start</th>\n",
       "      <th>date_end</th>\n",
       "      <th>placeid</th>\n",
       "      <th>description</th>\n",
       "      <th>is_done</th>\n",
       "      <th>max_participants</th>\n",
       "      <th>feedback_due</th>\n",
       "    </tr>\n",
       "  </thead>\n",
       "  <tbody>\n",
       "    <tr>\n",
       "      <th>0</th>\n",
       "      <td>481609</td>\n",
       "      <td>2024-11-16T18:25:00+01:00</td>\n",
       "      <td>2024-11-16T18:55:00+01:00</td>\n",
       "      <td>854</td>\n",
       "      <td>Meeting point: Outside the shop  Closest HUB -...</td>\n",
       "      <td>True</td>\n",
       "      <td>3.0</td>\n",
       "      <td>2024-12-16T18:55:00+01:00</td>\n",
       "    </tr>\n",
       "    <tr>\n",
       "      <th>1</th>\n",
       "      <td>481581</td>\n",
       "      <td>2024-11-16T17:55:00+01:00</td>\n",
       "      <td>2024-11-16T18:25:00+01:00</td>\n",
       "      <td>858</td>\n",
       "      <td>Meeting point: just inside the shop (read full...</td>\n",
       "      <td>True</td>\n",
       "      <td>5.0</td>\n",
       "      <td>2024-12-16T18:25:00+01:00</td>\n",
       "    </tr>\n",
       "    <tr>\n",
       "      <th>2</th>\n",
       "      <td>481330</td>\n",
       "      <td>2024-11-15T20:15:00+01:00</td>\n",
       "      <td>2024-11-15T20:45:00+01:00</td>\n",
       "      <td>760</td>\n",
       "      <td>Meeting point: Outside the shop   Closest HUB ...</td>\n",
       "      <td>True</td>\n",
       "      <td>2.0</td>\n",
       "      <td>2024-12-15T20:45:00+01:00</td>\n",
       "    </tr>\n",
       "    <tr>\n",
       "      <th>3</th>\n",
       "      <td>479076</td>\n",
       "      <td>2024-11-15T19:55:00+01:00</td>\n",
       "      <td>2024-11-15T20:25:00+01:00</td>\n",
       "      <td>2766</td>\n",
       "      <td>- Closest HUB - AGORA learning centre (for bre...</td>\n",
       "      <td>True</td>\n",
       "      <td>1.0</td>\n",
       "      <td>2024-12-15T20:25:00+01:00</td>\n",
       "    </tr>\n",
       "    <tr>\n",
       "      <th>4</th>\n",
       "      <td>479019</td>\n",
       "      <td>2024-11-15T19:00:00+01:00</td>\n",
       "      <td>2024-11-15T19:30:00+01:00</td>\n",
       "      <td>2642</td>\n",
       "      <td>Meeting point: Outside the shop   Closest HUB ...</td>\n",
       "      <td>True</td>\n",
       "      <td>3.0</td>\n",
       "      <td>2024-12-15T19:30:00+01:00</td>\n",
       "    </tr>\n",
       "  </tbody>\n",
       "</table>\n",
       "</div>"
      ],
      "text/plain": [
       "   activity_id                 date_start                   date_end  placeid  \\\n",
       "0       481609  2024-11-16T18:25:00+01:00  2024-11-16T18:55:00+01:00      854   \n",
       "1       481581  2024-11-16T17:55:00+01:00  2024-11-16T18:25:00+01:00      858   \n",
       "2       481330  2024-11-15T20:15:00+01:00  2024-11-15T20:45:00+01:00      760   \n",
       "3       479076  2024-11-15T19:55:00+01:00  2024-11-15T20:25:00+01:00     2766   \n",
       "4       479019  2024-11-15T19:00:00+01:00  2024-11-15T19:30:00+01:00     2642   \n",
       "\n",
       "                                         description  is_done  \\\n",
       "0  Meeting point: Outside the shop  Closest HUB -...     True   \n",
       "1  Meeting point: just inside the shop (read full...     True   \n",
       "2  Meeting point: Outside the shop   Closest HUB ...     True   \n",
       "3  - Closest HUB - AGORA learning centre (for bre...     True   \n",
       "4  Meeting point: Outside the shop   Closest HUB ...     True   \n",
       "\n",
       "   max_participants               feedback_due  \n",
       "0               3.0  2024-12-16T18:55:00+01:00  \n",
       "1               5.0  2024-12-16T18:25:00+01:00  \n",
       "2               2.0  2024-12-15T20:45:00+01:00  \n",
       "3               1.0  2024-12-15T20:25:00+01:00  \n",
       "4               3.0  2024-12-15T19:30:00+01:00  "
      ]
     },
     "execution_count": 10,
     "metadata": {},
     "output_type": "execute_result"
    }
   ],
   "source": [
    "activities_df=pd.read_csv(\"../\" + filenames[2],index_col=0)\n",
    "activities_df.head()"
   ]
  },
  {
   "cell_type": "code",
   "execution_count": null,
   "metadata": {
    "vscode": {
     "languageId": "ruby"
    }
   },
   "outputs": [
    {
     "ename": "IndentationError",
     "evalue": "unindent does not match any outer indentation level (<string>, line 16)",
     "output_type": "error",
     "traceback": [
      "\u001b[1;36m  File \u001b[1;32m<string>:16\u001b[1;36m\u001b[0m\n\u001b[1;33m    dfPlaceAverages['average_duration'] = activities_df.groupby('placeid').apply(lambda x: (x['end_hour'] - x['start_hour']).mean()).values\u001b[0m\n\u001b[1;37m                                                                                                                                           ^\u001b[0m\n\u001b[1;31mIndentationError\u001b[0m\u001b[1;31m:\u001b[0m unindent does not match any outer indentation level\n"
     ]
    }
   ],
   "source": [
    "# Ensure the columns exist\n",
    "if 'date_start' in activities_df.columns and 'date_end' in activities_df.columns:\n",
    "\t# Convert date_start and date_end to datetime with utc=True\n",
    "\tactivities_df['date_start'] = pd.to_datetime(activities_df['date_start'], utc=True)\n",
    "\tactivities_df['date_end'] = pd.to_datetime(activities_df['date_end'], utc=True)\n",
    "\n",
    "\t# Extract the hour from date_start and date_end\n",
    "\tactivities_df['start_hour'] = activities_df['date_start'].dt.hour\n",
    "\tactivities_df['end_hour'] = activities_df['date_end'].dt.hour\n",
    "\n",
    "\t# Calculate the average hour of the day for date_start and date_end per placeid\n",
    "\tdfPlaceAverages = activities_df.groupby('placeid')[['start_hour', 'end_hour']].mean().reset_index()\n",
    "\n",
    "\tprint(dfPlaceAverages)\n",
    "    # Calculate the average difference between start and end hour for each placeid\n",
    "    dfPlaceAverages['average_duration'] = activities_df.groupby('placeid').apply(lambda x: (x['end_hour'] - x['start_hour']).mean()).values\n",
    "    \n",
    "    # Calculate the average max participants for each placeid\n",
    "    dfPlaceAverages['average_max_participants'] = activities_df.groupby('placeid')['max_participants'].mean().values\n",
    "\n",
    "    print(dfPlaceAverages)\n",
    "else:\n",
    "\tprint(\"Columns 'date_start' and/or 'date_end' do not exist in the dataframe.\")"
   ]
  },
  {
   "cell_type": "code",
   "execution_count": null,
   "metadata": {},
   "outputs": [],
   "source": []
  },
  {
   "cell_type": "code",
   "execution_count": null,
   "metadata": {},
   "outputs": [],
   "source": []
  }
 ],
 "metadata": {
  "kernelspec": {
   "display_name": "Python 3",
   "language": "python",
   "name": "python3"
  },
  "language_info": {
   "codemirror_mode": {
    "name": "ipython",
    "version": 3
   },
   "file_extension": ".py",
   "mimetype": "text/x-python",
   "name": "python",
   "nbconvert_exporter": "python",
   "pygments_lexer": "ipython3",
   "version": "3.12.6"
  }
 },
 "nbformat": 4,
 "nbformat_minor": 2
}
